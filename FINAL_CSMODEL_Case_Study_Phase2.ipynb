{
  "cells": [
    {
      "cell_type": "markdown",
      "metadata": {
        "id": "JUHMa9nDdrnV"
      },
      "source": [
        "# Exploring the Video Games Sales & Ratings Dataset\n",
        "### A CSMODEL Case Study"
      ],
      "id": "JUHMa9nDdrnV"
    },
    {
      "cell_type": "markdown",
      "metadata": {
        "id": "3qAxlW3MehsH"
      },
      "source": [
        "**Section** X22 <br>\n",
        "**Group 11**\n",
        "*  Jonaviene DG. Capunitan\n",
        "*  Katriel R. Santos\n",
        "* Matthew James D. Villarica\n",
        "\n"
      ],
      "id": "3qAxlW3MehsH"
    },
    {
      "cell_type": "markdown",
      "metadata": {
        "id": "8bf6d1fe"
      },
      "source": [
        "## Import Libraries"
      ],
      "id": "8bf6d1fe"
    },
    {
      "cell_type": "code",
      "execution_count": null,
      "metadata": {
        "colab": {
          "base_uri": "https://localhost:8080/"
        },
        "id": "pOgswdcdeOD7",
        "outputId": "66d758c6-c896-4a71-9082-ae8ad87b6698"
      },
      "outputs": [
        {
          "output_type": "stream",
          "name": "stdout",
          "text": [
            "Populating the interactive namespace from numpy and matplotlib\n"
          ]
        }
      ],
      "source": [
        "import numpy as np\n",
        "import pandas as pd\n",
        "\n",
        "import matplotlib.pyplot as plt\n",
        "\n",
        "plt.style.use('seaborn-darkgrid')\n",
        "%pylab inline"
      ],
      "id": "pOgswdcdeOD7"
    },
    {
      "cell_type": "markdown",
      "metadata": {
        "id": "cPCYZ-OaBhGb"
      },
      "source": [
        "## I. Dataset Description"
      ],
      "id": "cPCYZ-OaBhGb"
    },
    {
      "cell_type": "markdown",
      "metadata": {
        "id": "8983e6c5"
      },
      "source": [
        "The dataset is a collection of [Video Game Sales and Ratings](https://www.kaggle.com/datasets/kendallgillies/video-game-sales-and-ratings) as of January 2017 taken from Kaggle."
      ],
      "id": "8983e6c5"
    },
    {
      "cell_type": "markdown",
      "metadata": {
        "id": "Y2QZyx87gyCX"
      },
      "source": [
        "### Dataset Collection Process and Implications\n",
        "\n",
        "The dataset was collected through web scraping from both VGChartz and Metacritic. VGChartz is a video game sales tracking website known for its scale and credibility, providing a reliable source of sales figures for old video games and new releases. Metacritic is a popular site for rating and reviewing movies, series, video games and other media where both critics and users discuss and rate their favorite video games. For some video games, the year of release was missing from the combined scrape which which were manually entered instead. Since data was scraped from reliable sources for both the video game scores and information on the video games themselves and their sales figures, the conclusions that can be drawn from the data set should be reliable."
      ],
      "id": "Y2QZyx87gyCX"
    },
    {
      "cell_type": "markdown",
      "metadata": {
        "id": "59a3m8BEecyl"
      },
      "source": [
        "### Reading the Dataset"
      ],
      "id": "59a3m8BEecyl"
    },
    {
      "cell_type": "code",
      "execution_count": null,
      "metadata": {
        "colab": {
          "base_uri": "https://localhost:8080/",
          "height": 285
        },
        "id": "60d6e38a",
        "outputId": "3f25c67b-966f-41a4-8981-2a52d1f20ef4"
      },
      "outputs": [
        {
          "output_type": "display_data",
          "data": {
            "text/plain": [
              "                       Name Platform  Year_of_Release         Genre Publisher  \\\n",
              "0                Wii Sports      Wii           2006.0        Sports  Nintendo   \n",
              "1         Super Mario Bros.      NES           1985.0      Platform  Nintendo   \n",
              "2            Mario Kart Wii      Wii           2008.0        Racing  Nintendo   \n",
              "3         Wii Sports Resort      Wii           2009.0        Sports  Nintendo   \n",
              "4  Pokemon Red/Pokemon Blue        G           1996.0  Role-Playing  Nintendo   \n",
              "\n",
              "   NA_Sales  EU_Sales  JP_Sales  Other_Sales  Global_Sales  Critic_Score  \\\n",
              "0     41.36     28.96      3.77         8.45         82.54          76.0   \n",
              "1     29.08      3.58      6.81         0.77         40.24           NaN   \n",
              "2     15.68     12.80      3.79         3.29         35.57          82.0   \n",
              "3     15.61     10.95      3.28         2.95         32.78          80.0   \n",
              "4     11.27      8.89     10.22         1.00         31.37           NaN   \n",
              "\n",
              "   Critic_Count  User_Score  User_Count Rating  \n",
              "0          51.0         8.0       324.0      E  \n",
              "1           NaN         NaN         NaN    NaN  \n",
              "2          73.0         8.3       712.0      E  \n",
              "3          73.0         8.0       193.0      E  \n",
              "4           NaN         NaN         NaN    NaN  "
            ],
            "text/html": [
              "\n",
              "  <div id=\"df-f363c31b-2c62-4cd6-b516-56ab0032a79d\">\n",
              "    <div class=\"colab-df-container\">\n",
              "      <div>\n",
              "<style scoped>\n",
              "    .dataframe tbody tr th:only-of-type {\n",
              "        vertical-align: middle;\n",
              "    }\n",
              "\n",
              "    .dataframe tbody tr th {\n",
              "        vertical-align: top;\n",
              "    }\n",
              "\n",
              "    .dataframe thead th {\n",
              "        text-align: right;\n",
              "    }\n",
              "</style>\n",
              "<table border=\"1\" class=\"dataframe\">\n",
              "  <thead>\n",
              "    <tr style=\"text-align: right;\">\n",
              "      <th></th>\n",
              "      <th>Name</th>\n",
              "      <th>Platform</th>\n",
              "      <th>Year_of_Release</th>\n",
              "      <th>Genre</th>\n",
              "      <th>Publisher</th>\n",
              "      <th>NA_Sales</th>\n",
              "      <th>EU_Sales</th>\n",
              "      <th>JP_Sales</th>\n",
              "      <th>Other_Sales</th>\n",
              "      <th>Global_Sales</th>\n",
              "      <th>Critic_Score</th>\n",
              "      <th>Critic_Count</th>\n",
              "      <th>User_Score</th>\n",
              "      <th>User_Count</th>\n",
              "      <th>Rating</th>\n",
              "    </tr>\n",
              "  </thead>\n",
              "  <tbody>\n",
              "    <tr>\n",
              "      <th>0</th>\n",
              "      <td>Wii Sports</td>\n",
              "      <td>Wii</td>\n",
              "      <td>2006.0</td>\n",
              "      <td>Sports</td>\n",
              "      <td>Nintendo</td>\n",
              "      <td>41.36</td>\n",
              "      <td>28.96</td>\n",
              "      <td>3.77</td>\n",
              "      <td>8.45</td>\n",
              "      <td>82.54</td>\n",
              "      <td>76.0</td>\n",
              "      <td>51.0</td>\n",
              "      <td>8.0</td>\n",
              "      <td>324.0</td>\n",
              "      <td>E</td>\n",
              "    </tr>\n",
              "    <tr>\n",
              "      <th>1</th>\n",
              "      <td>Super Mario Bros.</td>\n",
              "      <td>NES</td>\n",
              "      <td>1985.0</td>\n",
              "      <td>Platform</td>\n",
              "      <td>Nintendo</td>\n",
              "      <td>29.08</td>\n",
              "      <td>3.58</td>\n",
              "      <td>6.81</td>\n",
              "      <td>0.77</td>\n",
              "      <td>40.24</td>\n",
              "      <td>NaN</td>\n",
              "      <td>NaN</td>\n",
              "      <td>NaN</td>\n",
              "      <td>NaN</td>\n",
              "      <td>NaN</td>\n",
              "    </tr>\n",
              "    <tr>\n",
              "      <th>2</th>\n",
              "      <td>Mario Kart Wii</td>\n",
              "      <td>Wii</td>\n",
              "      <td>2008.0</td>\n",
              "      <td>Racing</td>\n",
              "      <td>Nintendo</td>\n",
              "      <td>15.68</td>\n",
              "      <td>12.80</td>\n",
              "      <td>3.79</td>\n",
              "      <td>3.29</td>\n",
              "      <td>35.57</td>\n",
              "      <td>82.0</td>\n",
              "      <td>73.0</td>\n",
              "      <td>8.3</td>\n",
              "      <td>712.0</td>\n",
              "      <td>E</td>\n",
              "    </tr>\n",
              "    <tr>\n",
              "      <th>3</th>\n",
              "      <td>Wii Sports Resort</td>\n",
              "      <td>Wii</td>\n",
              "      <td>2009.0</td>\n",
              "      <td>Sports</td>\n",
              "      <td>Nintendo</td>\n",
              "      <td>15.61</td>\n",
              "      <td>10.95</td>\n",
              "      <td>3.28</td>\n",
              "      <td>2.95</td>\n",
              "      <td>32.78</td>\n",
              "      <td>80.0</td>\n",
              "      <td>73.0</td>\n",
              "      <td>8.0</td>\n",
              "      <td>193.0</td>\n",
              "      <td>E</td>\n",
              "    </tr>\n",
              "    <tr>\n",
              "      <th>4</th>\n",
              "      <td>Pokemon Red/Pokemon Blue</td>\n",
              "      <td>G</td>\n",
              "      <td>1996.0</td>\n",
              "      <td>Role-Playing</td>\n",
              "      <td>Nintendo</td>\n",
              "      <td>11.27</td>\n",
              "      <td>8.89</td>\n",
              "      <td>10.22</td>\n",
              "      <td>1.00</td>\n",
              "      <td>31.37</td>\n",
              "      <td>NaN</td>\n",
              "      <td>NaN</td>\n",
              "      <td>NaN</td>\n",
              "      <td>NaN</td>\n",
              "      <td>NaN</td>\n",
              "    </tr>\n",
              "  </tbody>\n",
              "</table>\n",
              "</div>\n",
              "      <button class=\"colab-df-convert\" onclick=\"convertToInteractive('df-f363c31b-2c62-4cd6-b516-56ab0032a79d')\"\n",
              "              title=\"Convert this dataframe to an interactive table.\"\n",
              "              style=\"display:none;\">\n",
              "        \n",
              "  <svg xmlns=\"http://www.w3.org/2000/svg\" height=\"24px\"viewBox=\"0 0 24 24\"\n",
              "       width=\"24px\">\n",
              "    <path d=\"M0 0h24v24H0V0z\" fill=\"none\"/>\n",
              "    <path d=\"M18.56 5.44l.94 2.06.94-2.06 2.06-.94-2.06-.94-.94-2.06-.94 2.06-2.06.94zm-11 1L8.5 8.5l.94-2.06 2.06-.94-2.06-.94L8.5 2.5l-.94 2.06-2.06.94zm10 10l.94 2.06.94-2.06 2.06-.94-2.06-.94-.94-2.06-.94 2.06-2.06.94z\"/><path d=\"M17.41 7.96l-1.37-1.37c-.4-.4-.92-.59-1.43-.59-.52 0-1.04.2-1.43.59L10.3 9.45l-7.72 7.72c-.78.78-.78 2.05 0 2.83L4 21.41c.39.39.9.59 1.41.59.51 0 1.02-.2 1.41-.59l7.78-7.78 2.81-2.81c.8-.78.8-2.07 0-2.86zM5.41 20L4 18.59l7.72-7.72 1.47 1.35L5.41 20z\"/>\n",
              "  </svg>\n",
              "      </button>\n",
              "      \n",
              "  <style>\n",
              "    .colab-df-container {\n",
              "      display:flex;\n",
              "      flex-wrap:wrap;\n",
              "      gap: 12px;\n",
              "    }\n",
              "\n",
              "    .colab-df-convert {\n",
              "      background-color: #E8F0FE;\n",
              "      border: none;\n",
              "      border-radius: 50%;\n",
              "      cursor: pointer;\n",
              "      display: none;\n",
              "      fill: #1967D2;\n",
              "      height: 32px;\n",
              "      padding: 0 0 0 0;\n",
              "      width: 32px;\n",
              "    }\n",
              "\n",
              "    .colab-df-convert:hover {\n",
              "      background-color: #E2EBFA;\n",
              "      box-shadow: 0px 1px 2px rgba(60, 64, 67, 0.3), 0px 1px 3px 1px rgba(60, 64, 67, 0.15);\n",
              "      fill: #174EA6;\n",
              "    }\n",
              "\n",
              "    [theme=dark] .colab-df-convert {\n",
              "      background-color: #3B4455;\n",
              "      fill: #D2E3FC;\n",
              "    }\n",
              "\n",
              "    [theme=dark] .colab-df-convert:hover {\n",
              "      background-color: #434B5C;\n",
              "      box-shadow: 0px 1px 3px 1px rgba(0, 0, 0, 0.15);\n",
              "      filter: drop-shadow(0px 1px 2px rgba(0, 0, 0, 0.3));\n",
              "      fill: #FFFFFF;\n",
              "    }\n",
              "  </style>\n",
              "\n",
              "      <script>\n",
              "        const buttonEl =\n",
              "          document.querySelector('#df-f363c31b-2c62-4cd6-b516-56ab0032a79d button.colab-df-convert');\n",
              "        buttonEl.style.display =\n",
              "          google.colab.kernel.accessAllowed ? 'block' : 'none';\n",
              "\n",
              "        async function convertToInteractive(key) {\n",
              "          const element = document.querySelector('#df-f363c31b-2c62-4cd6-b516-56ab0032a79d');\n",
              "          const dataTable =\n",
              "            await google.colab.kernel.invokeFunction('convertToInteractive',\n",
              "                                                     [key], {});\n",
              "          if (!dataTable) return;\n",
              "\n",
              "          const docLinkHtml = 'Like what you see? Visit the ' +\n",
              "            '<a target=\"_blank\" href=https://colab.research.google.com/notebooks/data_table.ipynb>data table notebook</a>'\n",
              "            + ' to learn more about interactive tables.';\n",
              "          element.innerHTML = '';\n",
              "          dataTable['output_type'] = 'display_data';\n",
              "          await google.colab.output.renderOutput(dataTable, element);\n",
              "          const docLink = document.createElement('div');\n",
              "          docLink.innerHTML = docLinkHtml;\n",
              "          element.appendChild(docLink);\n",
              "        }\n",
              "      </script>\n",
              "    </div>\n",
              "  </div>\n",
              "  "
            ]
          },
          "metadata": {}
        },
        {
          "output_type": "stream",
          "name": "stdout",
          "text": [
            "Number of observations:  17416\n"
          ]
        }
      ],
      "source": [
        "raw_df = pd.read_csv(\"Video_Game_Sales_as_of_Jan_2017.csv\")\n",
        "# url = 'https://raw.githubusercontent.com/eneii313/VGRS_Case_Study/main/Video_Game_Sales_as_of_Jan_2017.csv'\n",
        "# raw_df = pd.read_csv(url)\n",
        "display(raw_df.head())\n",
        "print('Number of observations: ',len(raw_df))"
      ],
      "id": "60d6e38a"
    },
    {
      "cell_type": "markdown",
      "metadata": {
        "id": "iZCN8L3uEjcT"
      },
      "source": [
        "There are a total of 17,416 observations in the dataset, with each row representing a video game released on or before January 2017. Let's take a look at a list of each variable."
      ],
      "id": "iZCN8L3uEjcT"
    },
    {
      "cell_type": "code",
      "execution_count": null,
      "metadata": {
        "colab": {
          "base_uri": "https://localhost:8080/"
        },
        "id": "7C1yRHQAFGRS",
        "outputId": "ade9e0e1-9135-44b0-b69e-e4924673e3f3"
      },
      "outputs": [
        {
          "output_type": "stream",
          "name": "stdout",
          "text": [
            "<class 'pandas.core.frame.DataFrame'>\n",
            "RangeIndex: 17416 entries, 0 to 17415\n",
            "Data columns (total 15 columns):\n",
            " #   Column           Non-Null Count  Dtype  \n",
            "---  ------           --------------  -----  \n",
            " 0   Name             17416 non-null  object \n",
            " 1   Platform         17416 non-null  object \n",
            " 2   Year_of_Release  17408 non-null  float64\n",
            " 3   Genre            17416 non-null  object \n",
            " 4   Publisher        17415 non-null  object \n",
            " 5   NA_Sales         17416 non-null  float64\n",
            " 6   EU_Sales         17416 non-null  float64\n",
            " 7   JP_Sales         17416 non-null  float64\n",
            " 8   Other_Sales      17416 non-null  float64\n",
            " 9   Global_Sales     17416 non-null  float64\n",
            " 10  Critic_Score     8336 non-null   float64\n",
            " 11  Critic_Count     8336 non-null   float64\n",
            " 12  User_Score       7798 non-null   float64\n",
            " 13  User_Count       7798 non-null   float64\n",
            " 14  Rating           10252 non-null  object \n",
            "dtypes: float64(10), object(5)\n",
            "memory usage: 2.0+ MB\n"
          ]
        }
      ],
      "source": [
        "raw_df.info()"
      ],
      "id": "7C1yRHQAFGRS"
    },
    {
      "cell_type": "markdown",
      "metadata": {
        "id": "eIB77CSZGpF1"
      },
      "source": [
        "There are 15 variables that provide a description of each game including their performance in terms of sales accross the world and in user and critic ratings and other categorical data that sets it apart from other games. We will now be taking a look at what each variable represents."
      ],
      "id": "eIB77CSZGpF1"
    },
    {
      "cell_type": "code",
      "execution_count": null,
      "metadata": {
        "colab": {
          "base_uri": "https://localhost:8080/"
        },
        "id": "bHDwu3uJH5Ex",
        "outputId": "990f1dab-78c8-4a6d-e705-c4653525666b"
      },
      "outputs": [
        {
          "output_type": "execute_result",
          "data": {
            "text/plain": [
              "array(['Wii Sports', 'Super Mario Bros.', 'Mario Kart Wii', ...,\n",
              "       'Ashita no Joe 2: The Anime Super Remix',\n",
              "       'NadePro!! Kisama no Seiyuu Yatte Miro!',\n",
              "       'Brian Lara 2007 Pressure Play'], dtype=object)"
            ]
          },
          "metadata": {},
          "execution_count": 4
        }
      ],
      "source": [
        "raw_df['Name'].unique()"
      ],
      "id": "bHDwu3uJH5Ex"
    },
    {
      "cell_type": "markdown",
      "metadata": {
        "id": "rPtn2VAFIFzo"
      },
      "source": [
        "The `Name` of a video game is the title of each video game in the data set."
      ],
      "id": "rPtn2VAFIFzo"
    },
    {
      "cell_type": "code",
      "execution_count": null,
      "metadata": {
        "colab": {
          "base_uri": "https://localhost:8080/"
        },
        "id": "70UZXlVnIuTI",
        "outputId": "fd842db5-4ef8-4066-d234-df37d315ef4e"
      },
      "outputs": [
        {
          "output_type": "execute_result",
          "data": {
            "text/plain": [
              "array(['Wii', 'NES', 'G', 'DS', 'X360', 'PS3', 'PS2', 'SNES', 'GBA',\n",
              "       '3DS', 'PS4', 'N64', 'PS', 'X', 'PC', '2600', 'PSP', 'XOne',\n",
              "       'WiiU', 'GC', 'GEN', 'DC', 'PSV', 'SAT', 'SCD', 'WS', 'NG', 'TG16',\n",
              "       '3DO', 'GG', 'PCFX'], dtype=object)"
            ]
          },
          "metadata": {},
          "execution_count": 5
        }
      ],
      "source": [
        "raw_df['Platform'].unique()"
      ],
      "id": "70UZXlVnIuTI"
    },
    {
      "cell_type": "markdown",
      "metadata": {
        "id": "oPNd_8H_Ix9B"
      },
      "source": [
        "The `Platform` of a video game is the device the game is playable on, which can include consoles like the Wii and PS3, handhelds like the GBA (Gameboy Advance) and PSP, and computers represented as PC."
      ],
      "id": "oPNd_8H_Ix9B"
    },
    {
      "cell_type": "code",
      "execution_count": null,
      "metadata": {
        "colab": {
          "base_uri": "https://localhost:8080/"
        },
        "id": "NOME7MKqJsaW",
        "outputId": "2ccd0fff-1270-413f-e436-1564c6bcaf92"
      },
      "outputs": [
        {
          "output_type": "execute_result",
          "data": {
            "text/plain": [
              "array([2006., 1985., 2008., 2009., 1996., 1989., 1984., 2005., 1999.,\n",
              "       2007., 2010., 2013., 2004., 1990., 1988., 2002., 2001., 2015.,\n",
              "       2011., 1998., 2012., 2014., 2016., 1992., 1997., 1993., 1994.,\n",
              "       1982., 2003., 1986., 2000., 1995., 1991., 1981., 1987., 1980.,\n",
              "       1983., 1978., 1977., 1976., 1979.,   nan, 2017.])"
            ]
          },
          "metadata": {},
          "execution_count": 6
        }
      ],
      "source": [
        "raw_df['Year_of_Release'].unique()"
      ],
      "id": "NOME7MKqJsaW"
    },
    {
      "cell_type": "markdown",
      "metadata": {
        "id": "9fDfMvSsJ9mb"
      },
      "source": [
        "The `Year_of_Release` is the year a videogame was released to be bought by the public. The most recent games are games released in 2017, and some of the oldest games in the dataset were released way back in the late 1970s."
      ],
      "id": "9fDfMvSsJ9mb"
    },
    {
      "cell_type": "code",
      "execution_count": null,
      "metadata": {
        "colab": {
          "base_uri": "https://localhost:8080/"
        },
        "id": "btehYoQBKnd0",
        "outputId": "4ad2c306-8ef1-4574-a6f1-f0361ca2b2c5"
      },
      "outputs": [
        {
          "output_type": "execute_result",
          "data": {
            "text/plain": [
              "array(['Sports', 'Platform', 'Racing', 'Role-Playing', 'Puzzle', 'Misc',\n",
              "       'Shooter', 'Simulation', 'Action', 'Fighting', 'Adventure',\n",
              "       'Strategy'], dtype=object)"
            ]
          },
          "metadata": {},
          "execution_count": 7
        }
      ],
      "source": [
        "raw_df['Genre'].unique()"
      ],
      "id": "btehYoQBKnd0"
    },
    {
      "cell_type": "markdown",
      "metadata": {
        "id": "Waw7G3JzKmkE"
      },
      "source": [
        "The `Genre` of a video game describes the kind of gameplay you can expect in a video game, its a good way to categorize video games into different niches and there are usually fans of each specific genre. Strategy games usually require strategic and tactical thinking and Adventure games focus on exploration within the game world. Video games are categorized into 12 different genres in this dataset."
      ],
      "id": "Waw7G3JzKmkE"
    },
    {
      "cell_type": "code",
      "execution_count": null,
      "metadata": {
        "colab": {
          "base_uri": "https://localhost:8080/"
        },
        "id": "IYJcOQMmMA5Y",
        "outputId": "1a881eb0-b9c4-4b13-c2c0-87c19792c493"
      },
      "outputs": [
        {
          "output_type": "execute_result",
          "data": {
            "text/plain": [
              "array(['Nintendo', 'Microsoft Game Studios', 'Take-Two Interactive',\n",
              "       'Sony Computer Entertainment', 'Activision', 'Ubisoft',\n",
              "       'Electronic Arts', 'Bethesda Softworks', 'Sega', 'SquareSoft',\n",
              "       'Atari', '505 Games', 'Capcom', 'GT Interactive',\n",
              "       'Konami Digital Entertainment', 'Square Enix',\n",
              "       'Sony Computer Entertainment Europe', 'Virgin Interactive',\n",
              "       'LucasArts', 'Warner Bros. Interactive Entertainment',\n",
              "       'Universal Interactive', 'Eidos Interactive', 'RedOctane',\n",
              "       'Vivendi Games', 'Enix Corporation', 'Namco Bandai Games',\n",
              "       'Palcom', 'Hasbro Interactive', 'THQ', 'Fox Interactive',\n",
              "       'Acclaim Entertainment', 'MTV Games', 'Disney Interactive Studios',\n",
              "       'Codemasters', 'Majesco Entertainment', 'Red Or', 'Level 5',\n",
              "       'Arena Entertainment', 'Midway Games', 'JVC', 'Deep Silver',\n",
              "       'NCSoft', '989 Studios', 'UEP Systems', 'Parker Bros.', 'Maxis',\n",
              "       'Imagic', 'Tecmo Koei', 'ASCII Entertainment', 'Valve Software',\n",
              "       'Mindscape', 'Infogrames', 'Square', 'Hello Games', 'Valve',\n",
              "       'Banpresto', 'D3Publisher', 'Activision Value',\n",
              "       'Oxygen Interactive', 'Red Storm Entertainment', 'Video System',\n",
              "       'Global Star', 'Gotham Games', 'Westwood Studios', 'GungHo',\n",
              "       'Crave Entertainment', 'Hudson Soft', 'Coleco',\n",
              "       'Rising Star Games', 'TDK Mediactive', 'ASC Games', 'Accolade',\n",
              "       'Zoo Games', 'Sony Online Entertainment', '3DO', 'Natsume', 'RTL',\n",
              "       'Alchemist', 'Focus Home Interactive', 'Black Label Games',\n",
              "       'SouthPeak Games', 'Ocean', 'Zoo Digital Publishing', 'Psygnosis',\n",
              "       'City Interactive', 'Empire Interactive', 'Success', 'Compile',\n",
              "       'Atlus', 'Slightly Mad Studios', 'Russel', 'Mastertronic', 'Taito',\n",
              "       'Agetec', 'Microprose', 'Play It', 'Mojang', 'GSP',\n",
              "       'Tomy Corporation', 'Sammy Corporation', 'Koch Media', 'Unknown',\n",
              "       'Game Factory', 'Titus', 'Marvelous Entertainment', 'Genki',\n",
              "       'CTO SpA', 'mixi, Inc', 'TalonSoft', 'Crystal Dynamics',\n",
              "       'Square Enix ', 'Pinnacle', 'SCi', 'Quelle', 'Rage Software',\n",
              "       'Ubisoft Annecy', 'Hasbro', 'Interplay', 'Scholastic Inc.',\n",
              "       'Mystique', 'ChunSoft', 'Square EA',\n",
              "       '20th Century Fox Video Games', 'Hudson Entertainment',\n",
              "       'Men-A-Vision', 'Nobilis', 'Avanquest Software',\n",
              "       'Big Ben Interactive', 'Nordic Games', 'Touchstone',\n",
              "       'Nippon Ichi Software', 'Sony Computer Entertainment America',\n",
              "       'Spike', 'Jester Interactive', 'LEGO Media', 'Quest',\n",
              "       'Illusion Softworks', 'Tigervision', 'Trion Worlds',\n",
              "       'Rocket Company', 'Metro 3D', 'Mattel Interactive', 'IE Institute',\n",
              "       'Funbox Media', 'Rondomedia', 'Ghostlight', 'Universal Gamex',\n",
              "       'Wizard Video Games', 'Monster Games',\n",
              "       'BMG Interactive Entertainment', 'Xseed Games', 'PQube', 'Laguna',\n",
              "       'Takara', 'Ignition Entertainment', 'Kadokawa Shoten',\n",
              "       'Enterbrain', 'Imagineer', 'Harmonix Music Systems',\n",
              "       'CPG Products', 'System 3 Arcade Software', 'Aruze Corp',\n",
              "       'Destineer', 'Gamebridge', 'Midas Interactive Entertainment',\n",
              "       'Jaleco', 'Answer Software', 'Pack In Soft', 'XS Games',\n",
              "       'Rebellion', 'Ultravision', 'Activision Blizzard', 'Xplosiv',\n",
              "       'Telltale Games', 'Wanadoo', 'NovaLogic', 'Epoch',\n",
              "       'BAM! Entertainment', 'GameMill Entertainment',\n",
              "       'Knowledge Adventure', 'Tetris Online', 'Mastiff', 'ESP', 'TYO',\n",
              "       'En Masse Entertainment', 'Screenlife', 'Telegames',\n",
              "       'Mud Duck Productions', 'Pioneer LDC', 'Magical Company', 'Kemco',\n",
              "       'Mentor Interactive', 'Human Entertainment', 'Data Age',\n",
              "       'Electronic Arts Victor', 'Jack of All Games', 'Avanquest',\n",
              "       'Black Bean Games', '989 Sports', 'Takara Tomy', 'Media Rings',\n",
              "       'Elf', 'Starfish', 'Zushi Games', 'Jorudan',\n",
              "       'Destination Software, Inc', 'New', 'Brash Entertainment',\n",
              "       'Kalypso Media', 'ITT Family Games', 'Ackkstudios', 'PopCap Games',\n",
              "       'Starpath Corp.', 'BPS', 'Marvelous Interactive',\n",
              "       'Gathering of Developers', 'NewKidCo', 'Storm City Games',\n",
              "       'CokeM Interactive', 'P2 Games', 'Arc System Works',\n",
              "       'CBS Electronics', 'Home Entertainment Suppliers', 'Magix',\n",
              "       'SouthPeak Interactive', 'Telesys', 'Angel Studios',\n",
              "       'Wargaming.net', 'Playmates', 'SNK Playmore',\n",
              "       'Hamster Corporation', 'From Software', 'Nippon Columbia',\n",
              "       'Nichibutsu', 'Conspiracy Entertainment', 'Little Orbit', 'Hect',\n",
              "       'Mumbo Jumbo', 'FuRyu', 'DTP Entertainment',\n",
              "       'Pacific Century Cyber Works', 'Indie Games', 'Liquid Games',\n",
              "       'NEC', 'Axela', 'ArtDink', 'Sunsoft', 'Gust', 'SNK',\n",
              "       'NEC Interchannel', 'Nihon Falcom Corporation',\n",
              "       'Xing Entertainment', 'ValuSoft', 'Victor Interactive',\n",
              "       'Sierra Entertainment', 'American Softworks', 'Milestone S.r.l.',\n",
              "       'Falcom Corporation', 'Detn8 Games', 'Bom', 'Nordcurrent',\n",
              "       'AQ Interactive', 'YooStar Entertainment Group Inc.', 'Sears',\n",
              "       'Seta Corporation', 'Rebellion Developments', 'On Demand', 'CCP',\n",
              "       'NCS', 'Agatsuma Entertainment', 'Gremlin Interactive Ltd',\n",
              "       'Aspyr', 'Compile Heart', 'Kadokawa Games', 'Culture Brain',\n",
              "       'Mad Catz', 'Shogakukan', 'Merscom LLC', 'JoWood Productions',\n",
              "       'Nippon Telenet', 'TDK Core', 'SSI', 'Foreign Media Games',\n",
              "       'Core Design Ltd.', 'bitComposer Games',\n",
              "       'Performance Designed Products', 'Astragon',\n",
              "       'Asylum Entertainment', 'NaturalMotion', 'UFO Interactive',\n",
              "       'Essential Games', 'Adeline Software', 'Funcom', 'PlayV',\n",
              "       'Panther Software', 'Blast! Entertainment Ltd', 'Crytek',\n",
              "       'Playlogic Game Factory', 'DSI Games', 'Avalon Interactive',\n",
              "       'Game Life', 'Popcorn Arcade', '7Sixty LLC', 'Aques', 'System 3',\n",
              "       'Syscom', 'Vir2L Studios', 'Vatical Entertainment',\n",
              "       'Neko Entertainment', 'Yacht Club Games',\n",
              "       'White Park Bay Software', 'Vic Tokai', 'Media Factory',\n",
              "       'Daedalic', '506 Games', 'NIS America', 'Game Arts', 'EA Games',\n",
              "       'The Adventure Company', 'Acquire', 'Broccoli',\n",
              "       'Paradox Interactive', 'General Entertainment', 'Imadio',\n",
              "       'Swing! Entertainment', 'Idea Factory', 'Sony Music Entertainment',\n",
              "       'Aqua Plus', 'Excalibur Publishing', 'Havas Interactive',\n",
              "       'Hip Interactive', 'Tripwire Interactive',\n",
              "       'DreamCatcher Interactive', 'SCS Software', 'Sting', 'Telstar',\n",
              "       'U.S. Gold', 'Funsta', 'DreamWorks Interactive',\n",
              "       'Slitherine Software', 'MTO', 'Graffiti', 'Tru Blu Entertainment',\n",
              "       'Bigben Interactive', 'DHM Interactive',\n",
              "       'Idea Factory International', 'FunSoft', 'Data Design Interactive',\n",
              "       'SPS', 'Moss', 'T&E Soft', 'NDA Productions', 'PM Studios',\n",
              "       'Data East', 'Time Warner Interactive', 'Gainax Network Systems',\n",
              "       'Daito', 'O3 Entertainment', 'inXile Entertainment', 'O-Games',\n",
              "       'Gameloft', 'Xicat Interactive', 'Simon & Schuster Interactive',\n",
              "       'Valcon Games', 'Insomniac Games', 'PopTop Software', 'TOHO',\n",
              "       'Bohemia Interactive', 'Reef Entertainment', '5p',\n",
              "       'HMH Interactive', 'Cave', 'Microids', 'Paon',\n",
              "       'CDV Software Entertainment', 'Micro Cabin', 'GameTek',\n",
              "       'Type-Moon', 'Benesse', 'Enjoy Gaming ltd.', 'Asmik Corp',\n",
              "       'Interplay Productions', 'Asmik Ace Entertainment', 'Image Epoch',\n",
              "       'Phantom EFX', 'Evolved Games', 'Aksys Games', 'responDESIGN',\n",
              "       'Griffin International', 'Culture Publishers', 'Hackberry',\n",
              "       'Hearty Robin', 'Nippon Amuse', 'Origin Systems',\n",
              "       'Dusenberry Martin Racing', 'Seventh Chord', 'Abylight', 'Mitsui',\n",
              "       'Global A Entertainment', 'Irem Software Engineering',\n",
              "       'Flight-Plan', 'Milestone', 'Glams', 'Locus', 'Warp',\n",
              "       'Myelin Media', 'Alternative Software', 'Mercury Games',\n",
              "       'Sunrise Interactive', 'Elite', 'Evolution Games',\n",
              "       'Daedalic Entertainment', 'Happinet', 'Edia', 'Athena', 'Aria',\n",
              "       'Tivola', 'Tommo', 'Altron', 'Revolution Software', 'Media Works',\n",
              "       'Fortyfive', 'Gamecock', 'Imax', '10TACLE Studios', 'Groove Games',\n",
              "       'Pack-In-Video', 'Crimson Cow', 'iWin', 'Asgard', 'Ecole',\n",
              "       'Yumedia', 'Ascaron Entertainment GmbH', 'HAL Laboratory',\n",
              "       'Phenomedia', 'Grand Prix Games', 'Kaga Create', 'DigiCube',\n",
              "       'Milestone S.r.l', '1C Company', 'Creative Core', 'MLB.com',\n",
              "       'Marvel Entertainment', 'WayForward Technologies',\n",
              "       'Gearbox Software', 'LSP Games', 'Games Workshop',\n",
              "       'ASCII Media Works', 'Coconuts Japan', 'Arika', 'Ertain',\n",
              "       'Prototype', 'Phantagram', 'TechnoSoft', 'The Learning Company',\n",
              "       'Vap', 'Misawa', 'Yeti', 'Navarre Corp', 'Pow', 'MediaQuest',\n",
              "       'Team17 Software', 'Gaslamp Games', 'Max Five', 'Tradewest',\n",
              "       'Comfort', 'Pony Canyon', 'FuRyu Corporation', 'Riverhillsoft',\n",
              "       'Summitsoft', 'Playmore', 'Kool Kizz', 'Monte Christo Multimedia',\n",
              "       'TopWare Interactive', 'Legacy Interactive',\n",
              "       'Cloud Imperium Games Corporation', 'Flashpoint Games', 'Sold Out',\n",
              "       'Introversion Software', 'CyberFront', 'Alawar Entertainment',\n",
              "       'Societa', 'Experience Inc.', 'Interchannel', 'Sonnet',\n",
              "       'Extreme Entertainment Group', 'Virtual Play Games', 'Zenrin',\n",
              "       'Iceberg Interactive', 'Devolver Digital', 'Ivolgamus',\n",
              "       'MC2 Entertainment', 'Office Create', '2D Boy', 'Kando Games',\n",
              "       'Cygames', 'Maximum Family Games', 'Fields', 'TGL',\n",
              "       'dramatic create', 'Princess Soft', 'Big Fish Games', 'Berkeley',\n",
              "       'Mamba Games', 'Fuji', 'Her Interactive', 'imageepoch Inc.',\n",
              "       'Just Flight', \"3 O'Clock\", 'Kamui', 'ASK', '49Games', 'KSS',\n",
              "       'KID', 'Quinrose', 'Encore', 'Epic Games', 'Sunflowers', 'G.Rev',\n",
              "       'Headup Games', 'Sweets', 'id Software',\n",
              "       'Kokopeli Digital Studios', 'Nexon', 'BushiRoad', 'Number None',\n",
              "       'Tryfirst', 'GN Software', 'Yukes', 'Strategy First',\n",
              "       'Stainless Games', 'Lexicon Entertainment', 'Licensed 4U',\n",
              "       'Paon Corporation', 'Kids Station', 'GOA', '7G//AMES',\n",
              "       'King Records', 'New World Computing', 'Masque Publishing',\n",
              "       'Minato Station', 'Graphsim Entertainment', 'Easy Interactive',\n",
              "       'Marvelous Games', 'Gaga', 'UFO', 'Yamasa Entertainment', 'Plenty',\n",
              "       'Blue Byte', 'Views', 'Focus Multimedia', 'fonfun', 'NetRevo',\n",
              "       'Quintet', 'Phoenix Games', 'Dorart', 'Codemasters Online',\n",
              "       'Aerosoft', 'Inti Creates', 'Imageworks', 'Karin Entertainment',\n",
              "       'Technos Japan Corporation', 'Gakken', 'Mirai Shounen', 'HuneX',\n",
              "       'Datam Polystar', 'Visco', 'Saurus', 'Revolution (Japan)',\n",
              "       'Giza10', 'Alvion', 'Giga', 'Mycom', 'Warashi', 'System Soft',\n",
              "       'RED Entertainment', 'Nighthawk Interactive',\n",
              "       'Lighthouse Interactive', 'Michaelsoft', 'GSC Game World',\n",
              "       'SystemSoft Alpha', 'Media Entertainment', 'Genterprise',\n",
              "       'Interworks Unlimited, Inc.', 'honeybee', 'Nitroplus',\n",
              "       'UIG Entertainment', 'Boost On', 'EON Digital Entertainment',\n",
              "       'Naxat Soft', 'Red Flagship', 'Entergram', 'Piacci',\n",
              "       'Paradox Development', 'Otomate', 'Badland Studio',\n",
              "       'Ascaron Entertainment', 'Ongakukan', 'Commseed',\n",
              "       'Technical Associates Inc', 'THQ Nordic', 'Takuyo',\n",
              "       'Interchannel-Holon', 'Gadget Soft', 'Qute', nan,\n",
              "       'Triangle Service', 'Mediascape', 'ITE Media', 'Digital Jesters',\n",
              "       'Bold Games', 'Best Media', 'RailSimulator.com',\n",
              "       'Gakken Kyouiku Shuppan', 'Lace Mamba Global',\n",
              "       'Oovee Game Studios', 'Now Production', 'Abel', 'Silky`s',\n",
              "       'Bergsala Lightweight', 'EuroVideo Medien', 'Dovetail Games',\n",
              "       'Hiromi', 'SystemSoft', 'Milkstone Studios',\n",
              "       'Dimple Entertainment', 'Firefly Studios', 'Team Meat'],\n",
              "      dtype=object)"
            ]
          },
          "metadata": {},
          "execution_count": 8
        }
      ],
      "source": [
        "raw_df['Publisher'].unique()"
      ],
      "id": "IYJcOQMmMA5Y"
    },
    {
      "cell_type": "markdown",
      "metadata": {
        "id": "YnAXhoh9MQrw"
      },
      "source": [
        "The `Publisher` of each video game is responsible for publishing the video game and is usually involved in marketing, management and have invested resources and funds into the development of the video game."
      ],
      "id": "YnAXhoh9MQrw"
    },
    {
      "cell_type": "code",
      "execution_count": null,
      "metadata": {
        "colab": {
          "base_uri": "https://localhost:8080/"
        },
        "id": "1SabEOffMQBH",
        "outputId": "b9e2b822-b8b9-43af-fa0a-b85775bbf7a4"
      },
      "outputs": [
        {
          "output_type": "stream",
          "name": "stdout",
          "text": [
            "North America Sales\n",
            "0        41.36\n",
            "1        29.08\n",
            "2        15.68\n",
            "3        15.61\n",
            "4        11.27\n",
            "         ...  \n",
            "17411     0.00\n",
            "17412     0.00\n",
            "17413     0.00\n",
            "17414     0.00\n",
            "17415     0.00\n",
            "Name: NA_Sales, Length: 17416, dtype: float64\n",
            "Japan Sales\n",
            "0         3.77\n",
            "1         6.81\n",
            "2         3.79\n",
            "3         3.28\n",
            "4        10.22\n",
            "         ...  \n",
            "17411     0.00\n",
            "17412     0.00\n",
            "17413     0.01\n",
            "17414     0.01\n",
            "17415     0.00\n",
            "Name: JP_Sales, Length: 17416, dtype: float64\n",
            "Europe Sales\n",
            "0        28.96\n",
            "1         3.58\n",
            "2        12.80\n",
            "3        10.95\n",
            "4         8.89\n",
            "         ...  \n",
            "17411     0.00\n",
            "17412     0.00\n",
            "17413     0.00\n",
            "17414     0.00\n",
            "17415     0.00\n",
            "Name: EU_Sales, Length: 17416, dtype: float64\n",
            "Other Sales\n",
            "0        8.45\n",
            "1        0.77\n",
            "2        3.29\n",
            "3        2.95\n",
            "4        1.00\n",
            "         ... \n",
            "17411    0.00\n",
            "17412    0.00\n",
            "17413    0.00\n",
            "17414    0.00\n",
            "17415    0.00\n",
            "Name: Other_Sales, Length: 17416, dtype: float64\n",
            "Global Sales\n",
            "0        82.54\n",
            "1        40.24\n",
            "2        35.57\n",
            "3        32.78\n",
            "4        31.37\n",
            "         ...  \n",
            "17411     0.01\n",
            "17412     0.01\n",
            "17413     0.01\n",
            "17414     0.01\n",
            "17415     0.01\n",
            "Name: Global_Sales, Length: 17416, dtype: float64\n"
          ]
        }
      ],
      "source": [
        "print('North America Sales')\n",
        "print(raw_df['NA_Sales'])\n",
        "print('Japan Sales')\n",
        "print(raw_df['JP_Sales'])\n",
        "print('Europe Sales')\n",
        "print(raw_df['EU_Sales'])\n",
        "print('Other Sales')\n",
        "print(raw_df['Other_Sales'])\n",
        "print('Global Sales')\n",
        "print(raw_df['Global_Sales'])"
      ],
      "id": "1SabEOffMQBH"
    },
    {
      "cell_type": "markdown",
      "metadata": {
        "id": "X3zJjr_dPC0t"
      },
      "source": [
        "There are 5 variables that represent sales in different areas. All the sales of each video game are floating point decimal numbers, representing the amount of copies sold in millions in the specified area.\n",
        "\n",
        "\n",
        "*   `NA_Sales` are sales in North America.\n",
        "*   `EU_Sales` are sales in Europe.\n",
        "*   `JP_Sales` are sales in Japan.\n",
        "*   `Other_Sales` are sales in the rest of the world.\n",
        "*   `Global_Sales` are total sales worldwide.\n",
        "\n",
        "\n"
      ],
      "id": "X3zJjr_dPC0t"
    },
    {
      "cell_type": "code",
      "execution_count": null,
      "metadata": {
        "colab": {
          "base_uri": "https://localhost:8080/"
        },
        "id": "5skMfFH9VsSt",
        "outputId": "febe03ed-7a1b-4504-dc39-d2aee272589b"
      },
      "outputs": [
        {
          "output_type": "execute_result",
          "data": {
            "text/plain": [
              "array([76., nan, 82., 80., 89., 58., 87., 91., 61., 97., 95., 77., 88.,\n",
              "       83., 94., 85., 93., 86., 98., 96., 90., 84., 73., 74., 78., 92.,\n",
              "       71., 72., 68., 62., 49., 67., 81., 66., 56., 79., 70., 59., 64.,\n",
              "       75., 60., 63., 69., 50., 25., 42., 44., 55., 57., 48., 29., 47.,\n",
              "       65., 54., 20., 37., 53., 38., 33., 52., 30., 32., 43., 45., 51.,\n",
              "       40., 46., 39., 34., 35., 41., 36., 28., 31., 27., 26., 19., 23.,\n",
              "       24., 21., 17., 22., 13.])"
            ]
          },
          "metadata": {},
          "execution_count": 10
        }
      ],
      "source": [
        "raw_df['Critic_Score'].unique()"
      ],
      "id": "5skMfFH9VsSt"
    },
    {
      "cell_type": "markdown",
      "metadata": {
        "id": "4NImA_qjSmfJ"
      },
      "source": [
        "The `Critic_Score` is the aggregate score of critics on Metacritic, with each score being a scale from 0 to 100. It is represented as a floating point number since there are several `NaN` values. Metacritic is a popular website for collecting reviews on movies, shows, and video games. Critics verified on the website are generally more recognized for having more credible opinions and ratings compared to users."
      ],
      "id": "4NImA_qjSmfJ"
    },
    {
      "cell_type": "code",
      "execution_count": null,
      "metadata": {
        "colab": {
          "base_uri": "https://localhost:8080/"
        },
        "id": "eOXvjC_pYAcj",
        "outputId": "8e3b70ce-a069-45d0-9ad0-ce42a67d1878"
      },
      "outputs": [
        {
          "output_type": "execute_result",
          "data": {
            "text/plain": [
              "array([ 51.,  nan,  73.,  65.,  41.,  80.,  64.,  63.,  45.,  33.,  50.,\n",
              "        58.,  62.,  37.,  54.,  81.,  89.,  21., 100.,  66.,  39.,  56.,\n",
              "        57.,  86.,  74.,  16.,  82.,  67.,  29.,  15.,  70.,  99.,  87.,\n",
              "        20.,  23.,  24.,  10.,  27.,  42.,  91.,  53.,  75.,  46.,  84.,\n",
              "       113.,  38.,  12.,  90.,  97.,  44., 105.,  77.,  68.,  28.,  96.,\n",
              "        94.,  61.,  22.,  88.,  47.,  98.,  85.,  13.,   8.,  14.,  95.,\n",
              "        17.,  35.,  19.,  48.,  52.,  83.,  72.,  30.,  69.,  76.,  18.,\n",
              "        34.,  40., 101.,  78.,   9.,  32.,  36.,  25.,  59.,  79.,  26.,\n",
              "        49.,  60.,  11., 102.,  31.,  43., 107.,   7.,  71.,  55.,  92.,\n",
              "         4.,  93.,   5.,   6., 103., 106.,   3., 104.])"
            ]
          },
          "metadata": {},
          "execution_count": 11
        }
      ],
      "source": [
        "raw_df['Critic_Count'].unique()"
      ],
      "id": "eOXvjC_pYAcj"
    },
    {
      "cell_type": "markdown",
      "metadata": {
        "id": "GAgYMFYwYGPX"
      },
      "source": [
        "The `Critic_Count` is the amount of critics cores used to come up with the `Critic_Score`."
      ],
      "id": "GAgYMFYwYGPX"
    },
    {
      "cell_type": "code",
      "execution_count": null,
      "metadata": {
        "colab": {
          "base_uri": "https://localhost:8080/"
        },
        "id": "fndtjtblYPA6",
        "outputId": "edf09766-7a4b-4065-9e2d-7acd6e0a852f"
      },
      "outputs": [
        {
          "output_type": "execute_result",
          "data": {
            "text/plain": [
              "array([8. , nan, 8.3, 8.5, 6.6, 8.4, 8.6, 7.7, 6.3, 7.4, 8.2, 9. , 7.9,\n",
              "       8.1, 8.7, 7.1, 3.4, 5.3, 4.8, 3.2, 8.9, 6.4, 7.8, 8.8, 7.5, 2.6,\n",
              "       7.2, 7. , 9.2, 7.3, 4.9, 4.3, 6.5, 7.6, 5.7, 9.1, 6.9, 9.4, 6.8,\n",
              "       3.5, 6.1, 5.4, 4. , 6.2, 4.5, 9.3, 4.2, 6. , 6.7, 3.7, 4.1, 5.8,\n",
              "       5.6, 5.5, 4.4, 5.9, 4.6, 3.9, 3.1, 2.9, 5.2, 5. , 5.1, 3.3, 4.7,\n",
              "       2.5, 1.9, 3. , 2.7, 2.2, 2. , 9.5, 2.1, 3.6, 2.8, 9.6, 1.8, 3.8,\n",
              "       0. , 1.6, 2.4, 1.7, 1.1, 1. , 0.3, 1.5, 1.2, 0.2, 2.3, 0.5, 1.3,\n",
              "       0.6, 1.4, 0.9, 0.7, 9.7])"
            ]
          },
          "metadata": {},
          "execution_count": 12
        }
      ],
      "source": [
        "raw_df['User_Score'].unique()"
      ],
      "id": "fndtjtblYPA6"
    },
    {
      "cell_type": "markdown",
      "metadata": {
        "id": "yD_lP3PnYpCh"
      },
      "source": [
        "The `User_Score` is the aggregate score given by Metacritic's subscribers. Each on a scale from 0 to 10 as a floating point number since each `User_Score` is the mean of all user's scores for a given game."
      ],
      "id": "yD_lP3PnYpCh"
    },
    {
      "cell_type": "code",
      "execution_count": null,
      "metadata": {
        "colab": {
          "base_uri": "https://localhost:8080/"
        },
        "id": "i2NC3OWYZQbs",
        "outputId": "8069adcb-a446-4b6e-d8b5-473485f718af"
      },
      "outputs": [
        {
          "output_type": "execute_result",
          "data": {
            "text/plain": [
              "0        324.0\n",
              "1          NaN\n",
              "2        712.0\n",
              "3        193.0\n",
              "4          NaN\n",
              "         ...  \n",
              "17411      NaN\n",
              "17412      NaN\n",
              "17413      NaN\n",
              "17414      NaN\n",
              "17415      NaN\n",
              "Name: User_Count, Length: 17416, dtype: float64"
            ]
          },
          "metadata": {},
          "execution_count": 13
        }
      ],
      "source": [
        "raw_df['User_Count']"
      ],
      "id": "i2NC3OWYZQbs"
    },
    {
      "cell_type": "markdown",
      "metadata": {
        "id": "aRO98CzeaAmF"
      },
      "source": [
        "The `User_Count` is the amount of Metacritic user scores used to come up with the `User_Score`. "
      ],
      "id": "aRO98CzeaAmF"
    },
    {
      "cell_type": "code",
      "execution_count": null,
      "metadata": {
        "colab": {
          "base_uri": "https://localhost:8080/"
        },
        "id": "ndV1TtM5faMf",
        "outputId": "6bc1e63d-e3e9-470b-8e11-c4998822b4dc"
      },
      "outputs": [
        {
          "output_type": "execute_result",
          "data": {
            "text/plain": [
              "array(['E', nan, 'M', 'T', 'E10+', 'K-A', 'AO', 'EC', 'RP'], dtype=object)"
            ]
          },
          "metadata": {},
          "execution_count": 14
        }
      ],
      "source": [
        "raw_df['Rating'].unique()"
      ],
      "id": "ndV1TtM5faMf"
    },
    {
      "cell_type": "markdown",
      "metadata": {
        "id": "8xqY-OigZbVa"
      },
      "source": [
        "The `Rating` is the Entertainment Software Rating Board (ESRB) rating which determines the recommended audience and age of players of the videogame."
      ],
      "id": "8xqY-OigZbVa"
    },
    {
      "cell_type": "markdown",
      "metadata": {
        "id": "51acb59f"
      },
      "source": [
        "## II. General Data Cleaning"
      ],
      "id": "51acb59f"
    },
    {
      "cell_type": "markdown",
      "metadata": {
        "id": "jCboLA30GFMW"
      },
      "source": [
        "In this section, we will make sure that the dataset does not contain any incosistensies that may affect the results of the analysis. More specific data cleaning will be done in future sections that require it. Since we have access to the dataset's source, [VGChartz](https://www.vgchartz.com/gamedb/), we will be using it to reference any missing values, if needed."
      ],
      "id": "jCboLA30GFMW"
    },
    {
      "cell_type": "markdown",
      "metadata": {
        "id": "19846038"
      },
      "source": [
        "### Checking for `NaN`s"
      ],
      "id": "19846038"
    },
    {
      "cell_type": "code",
      "execution_count": null,
      "metadata": {
        "colab": {
          "base_uri": "https://localhost:8080/"
        },
        "id": "8bf8c38f",
        "outputId": "8bfa6632-bc6f-4ef7-b6b5-9fd17b7a511e"
      },
      "outputs": [
        {
          "output_type": "execute_result",
          "data": {
            "text/plain": [
              "Name               False\n",
              "Platform           False\n",
              "Year_of_Release     True\n",
              "Genre              False\n",
              "Publisher           True\n",
              "NA_Sales           False\n",
              "EU_Sales           False\n",
              "JP_Sales           False\n",
              "Other_Sales        False\n",
              "Global_Sales       False\n",
              "Critic_Score        True\n",
              "Critic_Count        True\n",
              "User_Score          True\n",
              "User_Count          True\n",
              "Rating              True\n",
              "dtype: bool"
            ]
          },
          "metadata": {},
          "execution_count": 15
        }
      ],
      "source": [
        "raw_df.isnull().any()"
      ],
      "id": "8bf8c38f"
    },
    {
      "cell_type": "markdown",
      "metadata": {
        "id": "d96176b9"
      },
      "source": [
        "This study will mainly focus on the different `Sales` variables. Therefore, it is alright to leave `Critic_Score`, `Critic_Count`, `User_Score`, `User_Count` and `Rating` to have `NaN` values. The relevant variables with null values are `Year_of_Release` and `Publisher`. Let us first get the observations that have a null value for `Year_of_Release`."
      ],
      "id": "d96176b9"
    },
    {
      "cell_type": "code",
      "execution_count": null,
      "metadata": {
        "colab": {
          "base_uri": "https://localhost:8080/"
        },
        "id": "a697ff1f",
        "outputId": "0837a77d-c577-48ba-917e-ec7f3644bc5f",
        "scrolled": false
      },
      "outputs": [
        {
          "output_type": "display_data",
          "data": {
            "text/plain": [
              "                                             Name Platform  Year_of_Release  \\\n",
              "12795                Mobile Ops: The One Year War     X360              NaN   \n",
              "14210                                Housekeeping       DS              NaN   \n",
              "14532            Fullmetal Alchemist: Brotherhood      PSP              NaN   \n",
              "15162                 Wii de Asobu: Metroid Prime      Wii              NaN   \n",
              "15784  Writing and Speaking Beautiful Japanese DS       DS              NaN   \n",
              "16176                Ferrari: The Race Experience      Wii              NaN   \n",
              "16953                                     Sumioni      PSV              NaN   \n",
              "17271                                Free Running      PSP              NaN   \n",
              "\n",
              "            Genre                 Publisher  NA_Sales  EU_Sales  JP_Sales  \\\n",
              "12795  Simulation        Namco Bandai Games       0.0      0.00      0.06   \n",
              "14210      Action                   Unknown       0.0      0.00      0.04   \n",
              "14532      Action                   Unknown       0.0      0.00      0.03   \n",
              "15162     Shooter                  Nintendo       0.0      0.00      0.02   \n",
              "15784        Misc                   Unknown       0.0      0.00      0.02   \n",
              "16176      Racing  System 3 Arcade Software       0.0      0.01      0.00   \n",
              "16953      Action                       NaN       0.0      0.00      0.01   \n",
              "17271      Sports        Reef Entertainment       0.0      0.00      0.00   \n",
              "\n",
              "       Other_Sales  Global_Sales  Critic_Score  Critic_Count  User_Score  \\\n",
              "12795          0.0          0.06           NaN           NaN         NaN   \n",
              "14210          0.0          0.04           NaN           NaN         NaN   \n",
              "14532          0.0          0.03           NaN           NaN         NaN   \n",
              "15162          0.0          0.02           NaN           NaN         NaN   \n",
              "15784          0.0          0.02           NaN           NaN         NaN   \n",
              "16176          0.0          0.02          54.0           4.0         NaN   \n",
              "16953          0.0          0.01           NaN           NaN         NaN   \n",
              "17271          0.0          0.01           NaN           NaN         NaN   \n",
              "\n",
              "       User_Count Rating  \n",
              "12795         NaN    NaN  \n",
              "14210         NaN    NaN  \n",
              "14532         NaN    NaN  \n",
              "15162         NaN    NaN  \n",
              "15784         NaN    NaN  \n",
              "16176         NaN      E  \n",
              "16953         NaN    NaN  \n",
              "17271         NaN      T  "
            ],
            "text/html": [
              "\n",
              "  <div id=\"df-e9ea0edc-293b-4cd5-9c0c-7282533ff9be\">\n",
              "    <div class=\"colab-df-container\">\n",
              "      <div>\n",
              "<style scoped>\n",
              "    .dataframe tbody tr th:only-of-type {\n",
              "        vertical-align: middle;\n",
              "    }\n",
              "\n",
              "    .dataframe tbody tr th {\n",
              "        vertical-align: top;\n",
              "    }\n",
              "\n",
              "    .dataframe thead th {\n",
              "        text-align: right;\n",
              "    }\n",
              "</style>\n",
              "<table border=\"1\" class=\"dataframe\">\n",
              "  <thead>\n",
              "    <tr style=\"text-align: right;\">\n",
              "      <th></th>\n",
              "      <th>Name</th>\n",
              "      <th>Platform</th>\n",
              "      <th>Year_of_Release</th>\n",
              "      <th>Genre</th>\n",
              "      <th>Publisher</th>\n",
              "      <th>NA_Sales</th>\n",
              "      <th>EU_Sales</th>\n",
              "      <th>JP_Sales</th>\n",
              "      <th>Other_Sales</th>\n",
              "      <th>Global_Sales</th>\n",
              "      <th>Critic_Score</th>\n",
              "      <th>Critic_Count</th>\n",
              "      <th>User_Score</th>\n",
              "      <th>User_Count</th>\n",
              "      <th>Rating</th>\n",
              "    </tr>\n",
              "  </thead>\n",
              "  <tbody>\n",
              "    <tr>\n",
              "      <th>12795</th>\n",
              "      <td>Mobile Ops: The One Year War</td>\n",
              "      <td>X360</td>\n",
              "      <td>NaN</td>\n",
              "      <td>Simulation</td>\n",
              "      <td>Namco Bandai Games</td>\n",
              "      <td>0.0</td>\n",
              "      <td>0.00</td>\n",
              "      <td>0.06</td>\n",
              "      <td>0.0</td>\n",
              "      <td>0.06</td>\n",
              "      <td>NaN</td>\n",
              "      <td>NaN</td>\n",
              "      <td>NaN</td>\n",
              "      <td>NaN</td>\n",
              "      <td>NaN</td>\n",
              "    </tr>\n",
              "    <tr>\n",
              "      <th>14210</th>\n",
              "      <td>Housekeeping</td>\n",
              "      <td>DS</td>\n",
              "      <td>NaN</td>\n",
              "      <td>Action</td>\n",
              "      <td>Unknown</td>\n",
              "      <td>0.0</td>\n",
              "      <td>0.00</td>\n",
              "      <td>0.04</td>\n",
              "      <td>0.0</td>\n",
              "      <td>0.04</td>\n",
              "      <td>NaN</td>\n",
              "      <td>NaN</td>\n",
              "      <td>NaN</td>\n",
              "      <td>NaN</td>\n",
              "      <td>NaN</td>\n",
              "    </tr>\n",
              "    <tr>\n",
              "      <th>14532</th>\n",
              "      <td>Fullmetal Alchemist: Brotherhood</td>\n",
              "      <td>PSP</td>\n",
              "      <td>NaN</td>\n",
              "      <td>Action</td>\n",
              "      <td>Unknown</td>\n",
              "      <td>0.0</td>\n",
              "      <td>0.00</td>\n",
              "      <td>0.03</td>\n",
              "      <td>0.0</td>\n",
              "      <td>0.03</td>\n",
              "      <td>NaN</td>\n",
              "      <td>NaN</td>\n",
              "      <td>NaN</td>\n",
              "      <td>NaN</td>\n",
              "      <td>NaN</td>\n",
              "    </tr>\n",
              "    <tr>\n",
              "      <th>15162</th>\n",
              "      <td>Wii de Asobu: Metroid Prime</td>\n",
              "      <td>Wii</td>\n",
              "      <td>NaN</td>\n",
              "      <td>Shooter</td>\n",
              "      <td>Nintendo</td>\n",
              "      <td>0.0</td>\n",
              "      <td>0.00</td>\n",
              "      <td>0.02</td>\n",
              "      <td>0.0</td>\n",
              "      <td>0.02</td>\n",
              "      <td>NaN</td>\n",
              "      <td>NaN</td>\n",
              "      <td>NaN</td>\n",
              "      <td>NaN</td>\n",
              "      <td>NaN</td>\n",
              "    </tr>\n",
              "    <tr>\n",
              "      <th>15784</th>\n",
              "      <td>Writing and Speaking Beautiful Japanese DS</td>\n",
              "      <td>DS</td>\n",
              "      <td>NaN</td>\n",
              "      <td>Misc</td>\n",
              "      <td>Unknown</td>\n",
              "      <td>0.0</td>\n",
              "      <td>0.00</td>\n",
              "      <td>0.02</td>\n",
              "      <td>0.0</td>\n",
              "      <td>0.02</td>\n",
              "      <td>NaN</td>\n",
              "      <td>NaN</td>\n",
              "      <td>NaN</td>\n",
              "      <td>NaN</td>\n",
              "      <td>NaN</td>\n",
              "    </tr>\n",
              "    <tr>\n",
              "      <th>16176</th>\n",
              "      <td>Ferrari: The Race Experience</td>\n",
              "      <td>Wii</td>\n",
              "      <td>NaN</td>\n",
              "      <td>Racing</td>\n",
              "      <td>System 3 Arcade Software</td>\n",
              "      <td>0.0</td>\n",
              "      <td>0.01</td>\n",
              "      <td>0.00</td>\n",
              "      <td>0.0</td>\n",
              "      <td>0.02</td>\n",
              "      <td>54.0</td>\n",
              "      <td>4.0</td>\n",
              "      <td>NaN</td>\n",
              "      <td>NaN</td>\n",
              "      <td>E</td>\n",
              "    </tr>\n",
              "    <tr>\n",
              "      <th>16953</th>\n",
              "      <td>Sumioni</td>\n",
              "      <td>PSV</td>\n",
              "      <td>NaN</td>\n",
              "      <td>Action</td>\n",
              "      <td>NaN</td>\n",
              "      <td>0.0</td>\n",
              "      <td>0.00</td>\n",
              "      <td>0.01</td>\n",
              "      <td>0.0</td>\n",
              "      <td>0.01</td>\n",
              "      <td>NaN</td>\n",
              "      <td>NaN</td>\n",
              "      <td>NaN</td>\n",
              "      <td>NaN</td>\n",
              "      <td>NaN</td>\n",
              "    </tr>\n",
              "    <tr>\n",
              "      <th>17271</th>\n",
              "      <td>Free Running</td>\n",
              "      <td>PSP</td>\n",
              "      <td>NaN</td>\n",
              "      <td>Sports</td>\n",
              "      <td>Reef Entertainment</td>\n",
              "      <td>0.0</td>\n",
              "      <td>0.00</td>\n",
              "      <td>0.00</td>\n",
              "      <td>0.0</td>\n",
              "      <td>0.01</td>\n",
              "      <td>NaN</td>\n",
              "      <td>NaN</td>\n",
              "      <td>NaN</td>\n",
              "      <td>NaN</td>\n",
              "      <td>T</td>\n",
              "    </tr>\n",
              "  </tbody>\n",
              "</table>\n",
              "</div>\n",
              "      <button class=\"colab-df-convert\" onclick=\"convertToInteractive('df-e9ea0edc-293b-4cd5-9c0c-7282533ff9be')\"\n",
              "              title=\"Convert this dataframe to an interactive table.\"\n",
              "              style=\"display:none;\">\n",
              "        \n",
              "  <svg xmlns=\"http://www.w3.org/2000/svg\" height=\"24px\"viewBox=\"0 0 24 24\"\n",
              "       width=\"24px\">\n",
              "    <path d=\"M0 0h24v24H0V0z\" fill=\"none\"/>\n",
              "    <path d=\"M18.56 5.44l.94 2.06.94-2.06 2.06-.94-2.06-.94-.94-2.06-.94 2.06-2.06.94zm-11 1L8.5 8.5l.94-2.06 2.06-.94-2.06-.94L8.5 2.5l-.94 2.06-2.06.94zm10 10l.94 2.06.94-2.06 2.06-.94-2.06-.94-.94-2.06-.94 2.06-2.06.94z\"/><path d=\"M17.41 7.96l-1.37-1.37c-.4-.4-.92-.59-1.43-.59-.52 0-1.04.2-1.43.59L10.3 9.45l-7.72 7.72c-.78.78-.78 2.05 0 2.83L4 21.41c.39.39.9.59 1.41.59.51 0 1.02-.2 1.41-.59l7.78-7.78 2.81-2.81c.8-.78.8-2.07 0-2.86zM5.41 20L4 18.59l7.72-7.72 1.47 1.35L5.41 20z\"/>\n",
              "  </svg>\n",
              "      </button>\n",
              "      \n",
              "  <style>\n",
              "    .colab-df-container {\n",
              "      display:flex;\n",
              "      flex-wrap:wrap;\n",
              "      gap: 12px;\n",
              "    }\n",
              "\n",
              "    .colab-df-convert {\n",
              "      background-color: #E8F0FE;\n",
              "      border: none;\n",
              "      border-radius: 50%;\n",
              "      cursor: pointer;\n",
              "      display: none;\n",
              "      fill: #1967D2;\n",
              "      height: 32px;\n",
              "      padding: 0 0 0 0;\n",
              "      width: 32px;\n",
              "    }\n",
              "\n",
              "    .colab-df-convert:hover {\n",
              "      background-color: #E2EBFA;\n",
              "      box-shadow: 0px 1px 2px rgba(60, 64, 67, 0.3), 0px 1px 3px 1px rgba(60, 64, 67, 0.15);\n",
              "      fill: #174EA6;\n",
              "    }\n",
              "\n",
              "    [theme=dark] .colab-df-convert {\n",
              "      background-color: #3B4455;\n",
              "      fill: #D2E3FC;\n",
              "    }\n",
              "\n",
              "    [theme=dark] .colab-df-convert:hover {\n",
              "      background-color: #434B5C;\n",
              "      box-shadow: 0px 1px 3px 1px rgba(0, 0, 0, 0.15);\n",
              "      filter: drop-shadow(0px 1px 2px rgba(0, 0, 0, 0.3));\n",
              "      fill: #FFFFFF;\n",
              "    }\n",
              "  </style>\n",
              "\n",
              "      <script>\n",
              "        const buttonEl =\n",
              "          document.querySelector('#df-e9ea0edc-293b-4cd5-9c0c-7282533ff9be button.colab-df-convert');\n",
              "        buttonEl.style.display =\n",
              "          google.colab.kernel.accessAllowed ? 'block' : 'none';\n",
              "\n",
              "        async function convertToInteractive(key) {\n",
              "          const element = document.querySelector('#df-e9ea0edc-293b-4cd5-9c0c-7282533ff9be');\n",
              "          const dataTable =\n",
              "            await google.colab.kernel.invokeFunction('convertToInteractive',\n",
              "                                                     [key], {});\n",
              "          if (!dataTable) return;\n",
              "\n",
              "          const docLinkHtml = 'Like what you see? Visit the ' +\n",
              "            '<a target=\"_blank\" href=https://colab.research.google.com/notebooks/data_table.ipynb>data table notebook</a>'\n",
              "            + ' to learn more about interactive tables.';\n",
              "          element.innerHTML = '';\n",
              "          dataTable['output_type'] = 'display_data';\n",
              "          await google.colab.output.renderOutput(dataTable, element);\n",
              "          const docLink = document.createElement('div');\n",
              "          docLink.innerHTML = docLinkHtml;\n",
              "          element.appendChild(docLink);\n",
              "        }\n",
              "      </script>\n",
              "    </div>\n",
              "  </div>\n",
              "  "
            ]
          },
          "metadata": {}
        }
      ],
      "source": [
        "null_year_df = raw_df[raw_df['Year_of_Release'].isnull()]\n",
        "display(null_year_df)"
      ],
      "id": "a697ff1f"
    },
    {
      "cell_type": "markdown",
      "metadata": {
        "id": "9736c99b"
      },
      "source": [
        "There are 8 observations with a null value for `Year_of_Release`. This seems to be a data collection error, since searching for these titles in VGChartz have release dates listed for each of them. Since there are only a few with this issue, we can simply add the correct value for each of them."
      ],
      "id": "9736c99b"
    },
    {
      "cell_type": "markdown",
      "metadata": {
        "id": "e2adcc29"
      },
      "source": [
        "References: <br>\n",
        "[Mobile Ops: The One Year War](https://www.vgchartz.com/game/24246/mobile-ops-the-one-year-war/?region=All) <br>\n",
        "[Housekeeping](https://www.vgchartz.com/game/3497/housekeeping/?region=All) <br>\n",
        "[Fullmetal Alchemist: Brotherhood](https://www.vgchartz.com/game/37307/fullmetal-alchemist-brotherhood/?region=All) <br>\n",
        "[Wii de Asobu: Metroid Prime](https://www.vgchartz.com/game/27348/wii-de-asobu-metroid-prime/?region=All) <br>\n",
        "[Writing and Speaking Beautiful Japanese DS](https://www.vgchartz.com/games/commentwall.php?id=4750) <br>\n",
        "[Ferrari: The Race Experience](https://www.vgchartz.com/game/47029/ferrari-the-race-experience/?region=All) <br>\n",
        "[Free Running](https://www.vgchartz.com/game/22809/free-running/?region=All)"
      ],
      "id": "e2adcc29"
    },
    {
      "cell_type": "code",
      "execution_count": null,
      "metadata": {
        "id": "228016a6"
      },
      "outputs": [],
      "source": [
        "raw_df.loc[12795,'Year_of_Release'] = 2008\n",
        "raw_df.loc[14210,'Year_of_Release'] = 2006\n",
        "raw_df.loc[14532,'Year_of_Release'] = 2009\n",
        "raw_df.loc[15162,'Year_of_Release'] = 2009\n",
        "raw_df.loc[15784,'Year_of_Release'] = 2008\n",
        "raw_df.loc[16176,'Year_of_Release'] = 2010\n",
        "raw_df.loc[17271,'Year_of_Release'] = 2007"
      ],
      "id": "228016a6"
    },
    {
      "cell_type": "markdown",
      "metadata": {
        "id": "64cf2eea"
      },
      "source": [
        "Only one video game, [Sumioni](https://www.vgchartz.com/game/63722/sumioni/?region=All), does not have a listed release date. Coincidentally, it is also the game that has a null value in the `Publisher` variable. Thus, we can replace its value with the mean `Year_of_Release` and add the correct value for its `Publisher`."
      ],
      "id": "64cf2eea"
    },
    {
      "cell_type": "code",
      "execution_count": null,
      "metadata": {
        "id": "18e7eef4"
      },
      "outputs": [],
      "source": [
        "raw_df.loc[16953,'Year_of_Release'] = round(raw_df['Year_of_Release'].mean(), 0)\n",
        "raw_df.loc[16953,'Publisher'] = 'Acquire'"
      ],
      "id": "18e7eef4"
    },
    {
      "cell_type": "markdown",
      "metadata": {
        "id": "8c5cf98a"
      },
      "source": [
        "Since there are no longer missing values in `Year_of_Release`, we can convert the variable values into an integer."
      ],
      "id": "8c5cf98a"
    },
    {
      "cell_type": "code",
      "execution_count": null,
      "metadata": {
        "id": "53593209"
      },
      "outputs": [],
      "source": [
        "raw_df['Year_of_Release'] = raw_df['Year_of_Release'].astype(np.int64)"
      ],
      "id": "53593209"
    },
    {
      "cell_type": "markdown",
      "metadata": {
        "id": "b7d8d8a1"
      },
      "source": [
        "### Checking for Inconsistent Categorical Values"
      ],
      "id": "b7d8d8a1"
    },
    {
      "cell_type": "markdown",
      "metadata": {
        "id": "29cb8285"
      },
      "source": [
        "The dataset has 3 categorical variables that have limited values: `Platform`, `Genre`, and `Rating`."
      ],
      "id": "29cb8285"
    },
    {
      "cell_type": "markdown",
      "metadata": {
        "id": "035a482a"
      },
      "source": [
        "#### `Platform` variable"
      ],
      "id": "035a482a"
    },
    {
      "cell_type": "code",
      "execution_count": null,
      "metadata": {
        "colab": {
          "base_uri": "https://localhost:8080/"
        },
        "id": "a853542a",
        "outputId": "472c8093-e0cb-4170-a9d7-ceafab2142f0"
      },
      "outputs": [
        {
          "output_type": "execute_result",
          "data": {
            "text/plain": [
              "array(['Wii', 'NES', 'G', 'DS', 'X360', 'PS3', 'PS2', 'SNES', 'GBA',\n",
              "       '3DS', 'PS4', 'N64', 'PS', 'X', 'PC', '2600', 'PSP', 'XOne',\n",
              "       'WiiU', 'GC', 'GEN', 'DC', 'PSV', 'SAT', 'SCD', 'WS', 'NG', 'TG16',\n",
              "       '3DO', 'GG', 'PCFX'], dtype=object)"
            ]
          },
          "metadata": {},
          "execution_count": 20
        }
      ],
      "source": [
        "raw_df['Platform'].unique()"
      ],
      "id": "a853542a"
    },
    {
      "cell_type": "markdown",
      "metadata": {
        "id": "66a8f40e"
      },
      "source": [
        "The unique values of the `Platform` variable represent the platform codes in [VGChartz](https://www.vgchartz.com/charts/platform_totals/Hardware.php/). They are all valid, with `G` and `X` representing `GB` and `XB`, respectively."
      ],
      "id": "66a8f40e"
    },
    {
      "cell_type": "markdown",
      "metadata": {
        "id": "7f9ac322"
      },
      "source": [
        "#### `Genre` variable"
      ],
      "id": "7f9ac322"
    },
    {
      "cell_type": "code",
      "execution_count": null,
      "metadata": {
        "colab": {
          "base_uri": "https://localhost:8080/"
        },
        "id": "ff97aea9",
        "outputId": "5994f91d-f8ba-4b5b-ee46-f7f7cf7d878b"
      },
      "outputs": [
        {
          "output_type": "execute_result",
          "data": {
            "text/plain": [
              "array(['Sports', 'Platform', 'Racing', 'Role-Playing', 'Puzzle', 'Misc',\n",
              "       'Shooter', 'Simulation', 'Action', 'Fighting', 'Adventure',\n",
              "       'Strategy'], dtype=object)"
            ]
          },
          "metadata": {},
          "execution_count": 21
        }
      ],
      "source": [
        "raw_df['Genre'].unique()"
      ],
      "id": "ff97aea9"
    },
    {
      "cell_type": "markdown",
      "metadata": {
        "id": "de1b74da"
      },
      "source": [
        "There are no misspelled values and are all valid genres listed in VGChartz."
      ],
      "id": "de1b74da"
    },
    {
      "cell_type": "markdown",
      "metadata": {
        "id": "3be8022e"
      },
      "source": [
        "#### `Rating` Variable"
      ],
      "id": "3be8022e"
    },
    {
      "cell_type": "code",
      "execution_count": null,
      "metadata": {
        "colab": {
          "base_uri": "https://localhost:8080/"
        },
        "id": "8d133eb2",
        "outputId": "536d83cd-6b96-4e38-d76c-818f023d5f2a"
      },
      "outputs": [
        {
          "output_type": "execute_result",
          "data": {
            "text/plain": [
              "array(['E', nan, 'M', 'T', 'E10+', 'K-A', 'AO', 'EC', 'RP'], dtype=object)"
            ]
          },
          "metadata": {},
          "execution_count": 22
        }
      ],
      "source": [
        "raw_df['Rating'].unique()"
      ],
      "id": "8d133eb2"
    },
    {
      "cell_type": "markdown",
      "metadata": {
        "id": "f4d02581"
      },
      "source": [
        "There are currently 7 ESRB ratings according to [IGN](https://www.ign.com/wikis/content-ratings/ESRB). All of the `Rating` non-null values are valid rating summaries apart from `K-A`. `K-A` (Kids-Adults) is the old term for the `E` (Everyone) rating. Thus, `K-A` values will be replaced by `E`."
      ],
      "id": "f4d02581"
    },
    {
      "cell_type": "code",
      "execution_count": null,
      "metadata": {
        "colab": {
          "base_uri": "https://localhost:8080/"
        },
        "id": "3b42201f",
        "outputId": "7b16c17a-228a-4702-9a88-0b32bc5f4146"
      },
      "outputs": [
        {
          "output_type": "execute_result",
          "data": {
            "text/plain": [
              "array(['E', nan, 'M', 'T', 'E10+', 'AO', 'EC', 'RP'], dtype=object)"
            ]
          },
          "metadata": {},
          "execution_count": 23
        }
      ],
      "source": [
        "raw_df['Rating'] = raw_df['Rating'].replace({'K-A': 'E'})\n",
        "raw_df['Rating'].unique()"
      ],
      "id": "3b42201f"
    },
    {
      "cell_type": "markdown",
      "metadata": {
        "id": "2312ccc6"
      },
      "source": [
        "### Checking for Duplicates"
      ],
      "id": "2312ccc6"
    },
    {
      "cell_type": "markdown",
      "metadata": {
        "id": "a3864fcb"
      },
      "source": [
        "Let us first check if there are any duplicate `Name` values."
      ],
      "id": "a3864fcb"
    },
    {
      "cell_type": "code",
      "execution_count": null,
      "metadata": {
        "colab": {
          "base_uri": "https://localhost:8080/"
        },
        "id": "e1cb5b8b",
        "outputId": "d436bd8b-8504-45a1-f69e-483fbf60a7ce"
      },
      "outputs": [
        {
          "output_type": "display_data",
          "data": {
            "text/plain": [
              "                                                  index  Count\n",
              "2640                       007: The World is not Enough      2\n",
              "2141                                  11eyes: CrossOver      2\n",
              "1635                   18 Wheeler: American Pro Trucker      2\n",
              "2652                                   187: Ride or Die      2\n",
              "1994  2 in 1 Combo Pack: Sonic Heroes / Super Monkey...      2\n",
              "...                                                 ...    ...\n",
              "4                              LEGO Marvel Super Heroes      9\n",
              "1                                         Madden NFL 07      9\n",
              "2                                         Madden NFL 08      9\n",
              "5                                           Ratatouille      9\n",
              "0                           Need for Speed: Most Wanted     12\n",
              "\n",
              "[2896 rows x 2 columns]"
            ],
            "text/html": [
              "\n",
              "  <div id=\"df-12955a26-db7f-48a6-963a-91dd3513d471\">\n",
              "    <div class=\"colab-df-container\">\n",
              "      <div>\n",
              "<style scoped>\n",
              "    .dataframe tbody tr th:only-of-type {\n",
              "        vertical-align: middle;\n",
              "    }\n",
              "\n",
              "    .dataframe tbody tr th {\n",
              "        vertical-align: top;\n",
              "    }\n",
              "\n",
              "    .dataframe thead th {\n",
              "        text-align: right;\n",
              "    }\n",
              "</style>\n",
              "<table border=\"1\" class=\"dataframe\">\n",
              "  <thead>\n",
              "    <tr style=\"text-align: right;\">\n",
              "      <th></th>\n",
              "      <th>index</th>\n",
              "      <th>Count</th>\n",
              "    </tr>\n",
              "  </thead>\n",
              "  <tbody>\n",
              "    <tr>\n",
              "      <th>2640</th>\n",
              "      <td>007: The World is not Enough</td>\n",
              "      <td>2</td>\n",
              "    </tr>\n",
              "    <tr>\n",
              "      <th>2141</th>\n",
              "      <td>11eyes: CrossOver</td>\n",
              "      <td>2</td>\n",
              "    </tr>\n",
              "    <tr>\n",
              "      <th>1635</th>\n",
              "      <td>18 Wheeler: American Pro Trucker</td>\n",
              "      <td>2</td>\n",
              "    </tr>\n",
              "    <tr>\n",
              "      <th>2652</th>\n",
              "      <td>187: Ride or Die</td>\n",
              "      <td>2</td>\n",
              "    </tr>\n",
              "    <tr>\n",
              "      <th>1994</th>\n",
              "      <td>2 in 1 Combo Pack: Sonic Heroes / Super Monkey...</td>\n",
              "      <td>2</td>\n",
              "    </tr>\n",
              "    <tr>\n",
              "      <th>...</th>\n",
              "      <td>...</td>\n",
              "      <td>...</td>\n",
              "    </tr>\n",
              "    <tr>\n",
              "      <th>4</th>\n",
              "      <td>LEGO Marvel Super Heroes</td>\n",
              "      <td>9</td>\n",
              "    </tr>\n",
              "    <tr>\n",
              "      <th>1</th>\n",
              "      <td>Madden NFL 07</td>\n",
              "      <td>9</td>\n",
              "    </tr>\n",
              "    <tr>\n",
              "      <th>2</th>\n",
              "      <td>Madden NFL 08</td>\n",
              "      <td>9</td>\n",
              "    </tr>\n",
              "    <tr>\n",
              "      <th>5</th>\n",
              "      <td>Ratatouille</td>\n",
              "      <td>9</td>\n",
              "    </tr>\n",
              "    <tr>\n",
              "      <th>0</th>\n",
              "      <td>Need for Speed: Most Wanted</td>\n",
              "      <td>12</td>\n",
              "    </tr>\n",
              "  </tbody>\n",
              "</table>\n",
              "<p>2896 rows × 2 columns</p>\n",
              "</div>\n",
              "      <button class=\"colab-df-convert\" onclick=\"convertToInteractive('df-12955a26-db7f-48a6-963a-91dd3513d471')\"\n",
              "              title=\"Convert this dataframe to an interactive table.\"\n",
              "              style=\"display:none;\">\n",
              "        \n",
              "  <svg xmlns=\"http://www.w3.org/2000/svg\" height=\"24px\"viewBox=\"0 0 24 24\"\n",
              "       width=\"24px\">\n",
              "    <path d=\"M0 0h24v24H0V0z\" fill=\"none\"/>\n",
              "    <path d=\"M18.56 5.44l.94 2.06.94-2.06 2.06-.94-2.06-.94-.94-2.06-.94 2.06-2.06.94zm-11 1L8.5 8.5l.94-2.06 2.06-.94-2.06-.94L8.5 2.5l-.94 2.06-2.06.94zm10 10l.94 2.06.94-2.06 2.06-.94-2.06-.94-.94-2.06-.94 2.06-2.06.94z\"/><path d=\"M17.41 7.96l-1.37-1.37c-.4-.4-.92-.59-1.43-.59-.52 0-1.04.2-1.43.59L10.3 9.45l-7.72 7.72c-.78.78-.78 2.05 0 2.83L4 21.41c.39.39.9.59 1.41.59.51 0 1.02-.2 1.41-.59l7.78-7.78 2.81-2.81c.8-.78.8-2.07 0-2.86zM5.41 20L4 18.59l7.72-7.72 1.47 1.35L5.41 20z\"/>\n",
              "  </svg>\n",
              "      </button>\n",
              "      \n",
              "  <style>\n",
              "    .colab-df-container {\n",
              "      display:flex;\n",
              "      flex-wrap:wrap;\n",
              "      gap: 12px;\n",
              "    }\n",
              "\n",
              "    .colab-df-convert {\n",
              "      background-color: #E8F0FE;\n",
              "      border: none;\n",
              "      border-radius: 50%;\n",
              "      cursor: pointer;\n",
              "      display: none;\n",
              "      fill: #1967D2;\n",
              "      height: 32px;\n",
              "      padding: 0 0 0 0;\n",
              "      width: 32px;\n",
              "    }\n",
              "\n",
              "    .colab-df-convert:hover {\n",
              "      background-color: #E2EBFA;\n",
              "      box-shadow: 0px 1px 2px rgba(60, 64, 67, 0.3), 0px 1px 3px 1px rgba(60, 64, 67, 0.15);\n",
              "      fill: #174EA6;\n",
              "    }\n",
              "\n",
              "    [theme=dark] .colab-df-convert {\n",
              "      background-color: #3B4455;\n",
              "      fill: #D2E3FC;\n",
              "    }\n",
              "\n",
              "    [theme=dark] .colab-df-convert:hover {\n",
              "      background-color: #434B5C;\n",
              "      box-shadow: 0px 1px 3px 1px rgba(0, 0, 0, 0.15);\n",
              "      filter: drop-shadow(0px 1px 2px rgba(0, 0, 0, 0.3));\n",
              "      fill: #FFFFFF;\n",
              "    }\n",
              "  </style>\n",
              "\n",
              "      <script>\n",
              "        const buttonEl =\n",
              "          document.querySelector('#df-12955a26-db7f-48a6-963a-91dd3513d471 button.colab-df-convert');\n",
              "        buttonEl.style.display =\n",
              "          google.colab.kernel.accessAllowed ? 'block' : 'none';\n",
              "\n",
              "        async function convertToInteractive(key) {\n",
              "          const element = document.querySelector('#df-12955a26-db7f-48a6-963a-91dd3513d471');\n",
              "          const dataTable =\n",
              "            await google.colab.kernel.invokeFunction('convertToInteractive',\n",
              "                                                     [key], {});\n",
              "          if (!dataTable) return;\n",
              "\n",
              "          const docLinkHtml = 'Like what you see? Visit the ' +\n",
              "            '<a target=\"_blank\" href=https://colab.research.google.com/notebooks/data_table.ipynb>data table notebook</a>'\n",
              "            + ' to learn more about interactive tables.';\n",
              "          element.innerHTML = '';\n",
              "          dataTable['output_type'] = 'display_data';\n",
              "          await google.colab.output.renderOutput(dataTable, element);\n",
              "          const docLink = document.createElement('div');\n",
              "          docLink.innerHTML = docLinkHtml;\n",
              "          element.appendChild(docLink);\n",
              "        }\n",
              "      </script>\n",
              "    </div>\n",
              "  </div>\n",
              "  "
            ]
          },
          "metadata": {}
        },
        {
          "output_type": "stream",
          "name": "stdout",
          "text": [
            "Duplicate Names:  2896\n",
            "Total Number of Observations with Duplicate Names:  8232\n"
          ]
        }
      ],
      "source": [
        "duplicate_names = raw_df['Name'].value_counts().reset_index(name='Count').query('Count > 1').sort_values(['Count', 'index'])\n",
        "display(duplicate_names)\n",
        "print('Duplicate Names: ', len(duplicate_names))\n",
        "print('Total Number of Observations with Duplicate Names: ', duplicate_names['Count'].sum())"
      ],
      "id": "e1cb5b8b"
    },
    {
      "cell_type": "markdown",
      "metadata": {
        "id": "098c8100"
      },
      "source": [
        "There are 2,896 video game titles that have more than one observation and a total of 8,232 observations with duplicate titles. Let's take a closer look at the observations with the most duplicated title: `Need for Speed: Most Wanted`."
      ],
      "id": "098c8100"
    },
    {
      "cell_type": "code",
      "execution_count": null,
      "metadata": {
        "colab": {
          "base_uri": "https://localhost:8080/"
        },
        "id": "db0076b2",
        "outputId": "3e6a696c-106a-48bf-dc4e-e808831fd37d",
        "scrolled": false
      },
      "outputs": [
        {
          "output_type": "execute_result",
          "data": {
            "text/plain": [
              "                              Name Platform  Year_of_Release   Genre  \\\n",
              "259    Need for Speed: Most Wanted      PS2             2005  Racing   \n",
              "1601   Need for Speed: Most Wanted     X360             2005  Racing   \n",
              "2007   Need for Speed: Most Wanted        X             2005  Racing   \n",
              "3603   Need for Speed: Most Wanted       GC             2005  Racing   \n",
              "6005   Need for Speed: Most Wanted       PC             2005  Racing   \n",
              "6444   Need for Speed: Most Wanted       DS             2005  Racing   \n",
              "6509   Need for Speed: Most Wanted      GBA             2005  Racing   \n",
              "529    Need for Speed: Most Wanted      PS3             2012  Racing   \n",
              "1198   Need for Speed: Most Wanted     X360             2012  Racing   \n",
              "2036   Need for Speed: Most Wanted      PSV             2012  Racing   \n",
              "11780  Need for Speed: Most Wanted       PC             2012  Racing   \n",
              "6308   Need for Speed: Most Wanted     WiiU             2013  Racing   \n",
              "\n",
              "             Publisher  NA_Sales  EU_Sales  JP_Sales  Other_Sales  \\\n",
              "259    Electronic Arts      2.03      1.79      0.08         0.47   \n",
              "1601   Electronic Arts      1.00      0.13      0.02         0.10   \n",
              "2007   Electronic Arts      0.53      0.46      0.00         0.05   \n",
              "3603   Electronic Arts      0.43      0.11      0.00         0.02   \n",
              "6005   Electronic Arts      0.02      0.23      0.00         0.04   \n",
              "6444   Electronic Arts      0.24      0.01      0.00         0.02   \n",
              "6509   Electronic Arts      0.19      0.07      0.00         0.00   \n",
              "529    Electronic Arts      0.71      1.46      0.06         0.58   \n",
              "1198   Electronic Arts      0.62      0.78      0.01         0.15   \n",
              "2036   Electronic Arts      0.33      0.46      0.01         0.22   \n",
              "11780  Electronic Arts      0.00      0.06      0.00         0.02   \n",
              "6308   Electronic Arts      0.13      0.12      0.00         0.02   \n",
              "\n",
              "       Global_Sales  Critic_Score  Critic_Count  User_Score  User_Count Rating  \n",
              "259            4.37          82.0          36.0         9.1       138.0      T  \n",
              "1601           1.25          83.0          54.0         8.4       135.0      T  \n",
              "2007           1.04          83.0          32.0         8.8        29.0      T  \n",
              "3603           0.56          80.0          18.0         9.1        23.0      T  \n",
              "6005           0.29          82.0          19.0         8.5       531.0      T  \n",
              "6444           0.27          45.0           4.0         6.1        22.0      E  \n",
              "6509           0.26           NaN           NaN         8.3        14.0      E  \n",
              "529            2.81           NaN           NaN         NaN         NaN    NaN  \n",
              "1198           1.56          83.0          54.0         8.4       135.0      T  \n",
              "2036           1.02           NaN           NaN         NaN         NaN    NaN  \n",
              "11780          0.08          82.0          19.0         8.5       531.0      T  \n",
              "6308           0.27           NaN           NaN         NaN         NaN    NaN  "
            ],
            "text/html": [
              "\n",
              "  <div id=\"df-2b51bb5e-1d50-4c0e-968b-c5b24f901cdb\">\n",
              "    <div class=\"colab-df-container\">\n",
              "      <div>\n",
              "<style scoped>\n",
              "    .dataframe tbody tr th:only-of-type {\n",
              "        vertical-align: middle;\n",
              "    }\n",
              "\n",
              "    .dataframe tbody tr th {\n",
              "        vertical-align: top;\n",
              "    }\n",
              "\n",
              "    .dataframe thead th {\n",
              "        text-align: right;\n",
              "    }\n",
              "</style>\n",
              "<table border=\"1\" class=\"dataframe\">\n",
              "  <thead>\n",
              "    <tr style=\"text-align: right;\">\n",
              "      <th></th>\n",
              "      <th>Name</th>\n",
              "      <th>Platform</th>\n",
              "      <th>Year_of_Release</th>\n",
              "      <th>Genre</th>\n",
              "      <th>Publisher</th>\n",
              "      <th>NA_Sales</th>\n",
              "      <th>EU_Sales</th>\n",
              "      <th>JP_Sales</th>\n",
              "      <th>Other_Sales</th>\n",
              "      <th>Global_Sales</th>\n",
              "      <th>Critic_Score</th>\n",
              "      <th>Critic_Count</th>\n",
              "      <th>User_Score</th>\n",
              "      <th>User_Count</th>\n",
              "      <th>Rating</th>\n",
              "    </tr>\n",
              "  </thead>\n",
              "  <tbody>\n",
              "    <tr>\n",
              "      <th>259</th>\n",
              "      <td>Need for Speed: Most Wanted</td>\n",
              "      <td>PS2</td>\n",
              "      <td>2005</td>\n",
              "      <td>Racing</td>\n",
              "      <td>Electronic Arts</td>\n",
              "      <td>2.03</td>\n",
              "      <td>1.79</td>\n",
              "      <td>0.08</td>\n",
              "      <td>0.47</td>\n",
              "      <td>4.37</td>\n",
              "      <td>82.0</td>\n",
              "      <td>36.0</td>\n",
              "      <td>9.1</td>\n",
              "      <td>138.0</td>\n",
              "      <td>T</td>\n",
              "    </tr>\n",
              "    <tr>\n",
              "      <th>1601</th>\n",
              "      <td>Need for Speed: Most Wanted</td>\n",
              "      <td>X360</td>\n",
              "      <td>2005</td>\n",
              "      <td>Racing</td>\n",
              "      <td>Electronic Arts</td>\n",
              "      <td>1.00</td>\n",
              "      <td>0.13</td>\n",
              "      <td>0.02</td>\n",
              "      <td>0.10</td>\n",
              "      <td>1.25</td>\n",
              "      <td>83.0</td>\n",
              "      <td>54.0</td>\n",
              "      <td>8.4</td>\n",
              "      <td>135.0</td>\n",
              "      <td>T</td>\n",
              "    </tr>\n",
              "    <tr>\n",
              "      <th>2007</th>\n",
              "      <td>Need for Speed: Most Wanted</td>\n",
              "      <td>X</td>\n",
              "      <td>2005</td>\n",
              "      <td>Racing</td>\n",
              "      <td>Electronic Arts</td>\n",
              "      <td>0.53</td>\n",
              "      <td>0.46</td>\n",
              "      <td>0.00</td>\n",
              "      <td>0.05</td>\n",
              "      <td>1.04</td>\n",
              "      <td>83.0</td>\n",
              "      <td>32.0</td>\n",
              "      <td>8.8</td>\n",
              "      <td>29.0</td>\n",
              "      <td>T</td>\n",
              "    </tr>\n",
              "    <tr>\n",
              "      <th>3603</th>\n",
              "      <td>Need for Speed: Most Wanted</td>\n",
              "      <td>GC</td>\n",
              "      <td>2005</td>\n",
              "      <td>Racing</td>\n",
              "      <td>Electronic Arts</td>\n",
              "      <td>0.43</td>\n",
              "      <td>0.11</td>\n",
              "      <td>0.00</td>\n",
              "      <td>0.02</td>\n",
              "      <td>0.56</td>\n",
              "      <td>80.0</td>\n",
              "      <td>18.0</td>\n",
              "      <td>9.1</td>\n",
              "      <td>23.0</td>\n",
              "      <td>T</td>\n",
              "    </tr>\n",
              "    <tr>\n",
              "      <th>6005</th>\n",
              "      <td>Need for Speed: Most Wanted</td>\n",
              "      <td>PC</td>\n",
              "      <td>2005</td>\n",
              "      <td>Racing</td>\n",
              "      <td>Electronic Arts</td>\n",
              "      <td>0.02</td>\n",
              "      <td>0.23</td>\n",
              "      <td>0.00</td>\n",
              "      <td>0.04</td>\n",
              "      <td>0.29</td>\n",
              "      <td>82.0</td>\n",
              "      <td>19.0</td>\n",
              "      <td>8.5</td>\n",
              "      <td>531.0</td>\n",
              "      <td>T</td>\n",
              "    </tr>\n",
              "    <tr>\n",
              "      <th>6444</th>\n",
              "      <td>Need for Speed: Most Wanted</td>\n",
              "      <td>DS</td>\n",
              "      <td>2005</td>\n",
              "      <td>Racing</td>\n",
              "      <td>Electronic Arts</td>\n",
              "      <td>0.24</td>\n",
              "      <td>0.01</td>\n",
              "      <td>0.00</td>\n",
              "      <td>0.02</td>\n",
              "      <td>0.27</td>\n",
              "      <td>45.0</td>\n",
              "      <td>4.0</td>\n",
              "      <td>6.1</td>\n",
              "      <td>22.0</td>\n",
              "      <td>E</td>\n",
              "    </tr>\n",
              "    <tr>\n",
              "      <th>6509</th>\n",
              "      <td>Need for Speed: Most Wanted</td>\n",
              "      <td>GBA</td>\n",
              "      <td>2005</td>\n",
              "      <td>Racing</td>\n",
              "      <td>Electronic Arts</td>\n",
              "      <td>0.19</td>\n",
              "      <td>0.07</td>\n",
              "      <td>0.00</td>\n",
              "      <td>0.00</td>\n",
              "      <td>0.26</td>\n",
              "      <td>NaN</td>\n",
              "      <td>NaN</td>\n",
              "      <td>8.3</td>\n",
              "      <td>14.0</td>\n",
              "      <td>E</td>\n",
              "    </tr>\n",
              "    <tr>\n",
              "      <th>529</th>\n",
              "      <td>Need for Speed: Most Wanted</td>\n",
              "      <td>PS3</td>\n",
              "      <td>2012</td>\n",
              "      <td>Racing</td>\n",
              "      <td>Electronic Arts</td>\n",
              "      <td>0.71</td>\n",
              "      <td>1.46</td>\n",
              "      <td>0.06</td>\n",
              "      <td>0.58</td>\n",
              "      <td>2.81</td>\n",
              "      <td>NaN</td>\n",
              "      <td>NaN</td>\n",
              "      <td>NaN</td>\n",
              "      <td>NaN</td>\n",
              "      <td>NaN</td>\n",
              "    </tr>\n",
              "    <tr>\n",
              "      <th>1198</th>\n",
              "      <td>Need for Speed: Most Wanted</td>\n",
              "      <td>X360</td>\n",
              "      <td>2012</td>\n",
              "      <td>Racing</td>\n",
              "      <td>Electronic Arts</td>\n",
              "      <td>0.62</td>\n",
              "      <td>0.78</td>\n",
              "      <td>0.01</td>\n",
              "      <td>0.15</td>\n",
              "      <td>1.56</td>\n",
              "      <td>83.0</td>\n",
              "      <td>54.0</td>\n",
              "      <td>8.4</td>\n",
              "      <td>135.0</td>\n",
              "      <td>T</td>\n",
              "    </tr>\n",
              "    <tr>\n",
              "      <th>2036</th>\n",
              "      <td>Need for Speed: Most Wanted</td>\n",
              "      <td>PSV</td>\n",
              "      <td>2012</td>\n",
              "      <td>Racing</td>\n",
              "      <td>Electronic Arts</td>\n",
              "      <td>0.33</td>\n",
              "      <td>0.46</td>\n",
              "      <td>0.01</td>\n",
              "      <td>0.22</td>\n",
              "      <td>1.02</td>\n",
              "      <td>NaN</td>\n",
              "      <td>NaN</td>\n",
              "      <td>NaN</td>\n",
              "      <td>NaN</td>\n",
              "      <td>NaN</td>\n",
              "    </tr>\n",
              "    <tr>\n",
              "      <th>11780</th>\n",
              "      <td>Need for Speed: Most Wanted</td>\n",
              "      <td>PC</td>\n",
              "      <td>2012</td>\n",
              "      <td>Racing</td>\n",
              "      <td>Electronic Arts</td>\n",
              "      <td>0.00</td>\n",
              "      <td>0.06</td>\n",
              "      <td>0.00</td>\n",
              "      <td>0.02</td>\n",
              "      <td>0.08</td>\n",
              "      <td>82.0</td>\n",
              "      <td>19.0</td>\n",
              "      <td>8.5</td>\n",
              "      <td>531.0</td>\n",
              "      <td>T</td>\n",
              "    </tr>\n",
              "    <tr>\n",
              "      <th>6308</th>\n",
              "      <td>Need for Speed: Most Wanted</td>\n",
              "      <td>WiiU</td>\n",
              "      <td>2013</td>\n",
              "      <td>Racing</td>\n",
              "      <td>Electronic Arts</td>\n",
              "      <td>0.13</td>\n",
              "      <td>0.12</td>\n",
              "      <td>0.00</td>\n",
              "      <td>0.02</td>\n",
              "      <td>0.27</td>\n",
              "      <td>NaN</td>\n",
              "      <td>NaN</td>\n",
              "      <td>NaN</td>\n",
              "      <td>NaN</td>\n",
              "      <td>NaN</td>\n",
              "    </tr>\n",
              "  </tbody>\n",
              "</table>\n",
              "</div>\n",
              "      <button class=\"colab-df-convert\" onclick=\"convertToInteractive('df-2b51bb5e-1d50-4c0e-968b-c5b24f901cdb')\"\n",
              "              title=\"Convert this dataframe to an interactive table.\"\n",
              "              style=\"display:none;\">\n",
              "        \n",
              "  <svg xmlns=\"http://www.w3.org/2000/svg\" height=\"24px\"viewBox=\"0 0 24 24\"\n",
              "       width=\"24px\">\n",
              "    <path d=\"M0 0h24v24H0V0z\" fill=\"none\"/>\n",
              "    <path d=\"M18.56 5.44l.94 2.06.94-2.06 2.06-.94-2.06-.94-.94-2.06-.94 2.06-2.06.94zm-11 1L8.5 8.5l.94-2.06 2.06-.94-2.06-.94L8.5 2.5l-.94 2.06-2.06.94zm10 10l.94 2.06.94-2.06 2.06-.94-2.06-.94-.94-2.06-.94 2.06-2.06.94z\"/><path d=\"M17.41 7.96l-1.37-1.37c-.4-.4-.92-.59-1.43-.59-.52 0-1.04.2-1.43.59L10.3 9.45l-7.72 7.72c-.78.78-.78 2.05 0 2.83L4 21.41c.39.39.9.59 1.41.59.51 0 1.02-.2 1.41-.59l7.78-7.78 2.81-2.81c.8-.78.8-2.07 0-2.86zM5.41 20L4 18.59l7.72-7.72 1.47 1.35L5.41 20z\"/>\n",
              "  </svg>\n",
              "      </button>\n",
              "      \n",
              "  <style>\n",
              "    .colab-df-container {\n",
              "      display:flex;\n",
              "      flex-wrap:wrap;\n",
              "      gap: 12px;\n",
              "    }\n",
              "\n",
              "    .colab-df-convert {\n",
              "      background-color: #E8F0FE;\n",
              "      border: none;\n",
              "      border-radius: 50%;\n",
              "      cursor: pointer;\n",
              "      display: none;\n",
              "      fill: #1967D2;\n",
              "      height: 32px;\n",
              "      padding: 0 0 0 0;\n",
              "      width: 32px;\n",
              "    }\n",
              "\n",
              "    .colab-df-convert:hover {\n",
              "      background-color: #E2EBFA;\n",
              "      box-shadow: 0px 1px 2px rgba(60, 64, 67, 0.3), 0px 1px 3px 1px rgba(60, 64, 67, 0.15);\n",
              "      fill: #174EA6;\n",
              "    }\n",
              "\n",
              "    [theme=dark] .colab-df-convert {\n",
              "      background-color: #3B4455;\n",
              "      fill: #D2E3FC;\n",
              "    }\n",
              "\n",
              "    [theme=dark] .colab-df-convert:hover {\n",
              "      background-color: #434B5C;\n",
              "      box-shadow: 0px 1px 3px 1px rgba(0, 0, 0, 0.15);\n",
              "      filter: drop-shadow(0px 1px 2px rgba(0, 0, 0, 0.3));\n",
              "      fill: #FFFFFF;\n",
              "    }\n",
              "  </style>\n",
              "\n",
              "      <script>\n",
              "        const buttonEl =\n",
              "          document.querySelector('#df-2b51bb5e-1d50-4c0e-968b-c5b24f901cdb button.colab-df-convert');\n",
              "        buttonEl.style.display =\n",
              "          google.colab.kernel.accessAllowed ? 'block' : 'none';\n",
              "\n",
              "        async function convertToInteractive(key) {\n",
              "          const element = document.querySelector('#df-2b51bb5e-1d50-4c0e-968b-c5b24f901cdb');\n",
              "          const dataTable =\n",
              "            await google.colab.kernel.invokeFunction('convertToInteractive',\n",
              "                                                     [key], {});\n",
              "          if (!dataTable) return;\n",
              "\n",
              "          const docLinkHtml = 'Like what you see? Visit the ' +\n",
              "            '<a target=\"_blank\" href=https://colab.research.google.com/notebooks/data_table.ipynb>data table notebook</a>'\n",
              "            + ' to learn more about interactive tables.';\n",
              "          element.innerHTML = '';\n",
              "          dataTable['output_type'] = 'display_data';\n",
              "          await google.colab.output.renderOutput(dataTable, element);\n",
              "          const docLink = document.createElement('div');\n",
              "          docLink.innerHTML = docLinkHtml;\n",
              "          element.appendChild(docLink);\n",
              "        }\n",
              "      </script>\n",
              "    </div>\n",
              "  </div>\n",
              "  "
            ]
          },
          "metadata": {},
          "execution_count": 25
        }
      ],
      "source": [
        "need_for_speed_observations = raw_df[raw_df['Name'] == 'Need for Speed: Most Wanted'].sort_values('Year_of_Release')\n",
        "need_for_speed_observations"
      ],
      "id": "db0076b2"
    },
    {
      "cell_type": "markdown",
      "metadata": {
        "id": "bf9e3b35"
      },
      "source": [
        "Closely examining the observations above reveals that the observations with the title `Need for Speed: Most Wanted` are similar in `Name`, `Genre`, and `Publisher`. Meanwhile, their values in the `Platform` and `Year_of_Release` columns vary. This may be due to the fact that the same game can be published across different platforms, which could affect the game's performance and sales. Some games may also receive remakes with the same name, which is considered to be a different game from the original. Therefore, observations with duplicate titles will be considered as separate observations."
      ],
      "id": "bf9e3b35"
    },
    {
      "cell_type": "markdown",
      "metadata": {
        "id": "5885cd15"
      },
      "source": [
        "With these in mind, let us check if there are any duplicate titles with the same values for `Platform` and `Year_of_Release`."
      ],
      "id": "5885cd15"
    },
    {
      "cell_type": "code",
      "execution_count": null,
      "metadata": {
        "colab": {
          "base_uri": "https://localhost:8080/"
        },
        "id": "c8c02509",
        "outputId": "9594f43f-0801-40ed-b4ff-748be993c65a"
      },
      "outputs": [
        {
          "output_type": "display_data",
          "data": {
            "text/plain": [
              "                 Name Platform  Year_of_Release  Count\n",
              "1       Madden NFL 13      PS3             2012      2\n",
              "0  Sonic the Hedgehog      PS3             2006      2\n",
              "2      SoulCalibur IV     X360             2008      2"
            ],
            "text/html": [
              "\n",
              "  <div id=\"df-edca64b4-eed4-41c2-a0e8-42e9cab348d9\">\n",
              "    <div class=\"colab-df-container\">\n",
              "      <div>\n",
              "<style scoped>\n",
              "    .dataframe tbody tr th:only-of-type {\n",
              "        vertical-align: middle;\n",
              "    }\n",
              "\n",
              "    .dataframe tbody tr th {\n",
              "        vertical-align: top;\n",
              "    }\n",
              "\n",
              "    .dataframe thead th {\n",
              "        text-align: right;\n",
              "    }\n",
              "</style>\n",
              "<table border=\"1\" class=\"dataframe\">\n",
              "  <thead>\n",
              "    <tr style=\"text-align: right;\">\n",
              "      <th></th>\n",
              "      <th>Name</th>\n",
              "      <th>Platform</th>\n",
              "      <th>Year_of_Release</th>\n",
              "      <th>Count</th>\n",
              "    </tr>\n",
              "  </thead>\n",
              "  <tbody>\n",
              "    <tr>\n",
              "      <th>1</th>\n",
              "      <td>Madden NFL 13</td>\n",
              "      <td>PS3</td>\n",
              "      <td>2012</td>\n",
              "      <td>2</td>\n",
              "    </tr>\n",
              "    <tr>\n",
              "      <th>0</th>\n",
              "      <td>Sonic the Hedgehog</td>\n",
              "      <td>PS3</td>\n",
              "      <td>2006</td>\n",
              "      <td>2</td>\n",
              "    </tr>\n",
              "    <tr>\n",
              "      <th>2</th>\n",
              "      <td>SoulCalibur IV</td>\n",
              "      <td>X360</td>\n",
              "      <td>2008</td>\n",
              "      <td>2</td>\n",
              "    </tr>\n",
              "  </tbody>\n",
              "</table>\n",
              "</div>\n",
              "      <button class=\"colab-df-convert\" onclick=\"convertToInteractive('df-edca64b4-eed4-41c2-a0e8-42e9cab348d9')\"\n",
              "              title=\"Convert this dataframe to an interactive table.\"\n",
              "              style=\"display:none;\">\n",
              "        \n",
              "  <svg xmlns=\"http://www.w3.org/2000/svg\" height=\"24px\"viewBox=\"0 0 24 24\"\n",
              "       width=\"24px\">\n",
              "    <path d=\"M0 0h24v24H0V0z\" fill=\"none\"/>\n",
              "    <path d=\"M18.56 5.44l.94 2.06.94-2.06 2.06-.94-2.06-.94-.94-2.06-.94 2.06-2.06.94zm-11 1L8.5 8.5l.94-2.06 2.06-.94-2.06-.94L8.5 2.5l-.94 2.06-2.06.94zm10 10l.94 2.06.94-2.06 2.06-.94-2.06-.94-.94-2.06-.94 2.06-2.06.94z\"/><path d=\"M17.41 7.96l-1.37-1.37c-.4-.4-.92-.59-1.43-.59-.52 0-1.04.2-1.43.59L10.3 9.45l-7.72 7.72c-.78.78-.78 2.05 0 2.83L4 21.41c.39.39.9.59 1.41.59.51 0 1.02-.2 1.41-.59l7.78-7.78 2.81-2.81c.8-.78.8-2.07 0-2.86zM5.41 20L4 18.59l7.72-7.72 1.47 1.35L5.41 20z\"/>\n",
              "  </svg>\n",
              "      </button>\n",
              "      \n",
              "  <style>\n",
              "    .colab-df-container {\n",
              "      display:flex;\n",
              "      flex-wrap:wrap;\n",
              "      gap: 12px;\n",
              "    }\n",
              "\n",
              "    .colab-df-convert {\n",
              "      background-color: #E8F0FE;\n",
              "      border: none;\n",
              "      border-radius: 50%;\n",
              "      cursor: pointer;\n",
              "      display: none;\n",
              "      fill: #1967D2;\n",
              "      height: 32px;\n",
              "      padding: 0 0 0 0;\n",
              "      width: 32px;\n",
              "    }\n",
              "\n",
              "    .colab-df-convert:hover {\n",
              "      background-color: #E2EBFA;\n",
              "      box-shadow: 0px 1px 2px rgba(60, 64, 67, 0.3), 0px 1px 3px 1px rgba(60, 64, 67, 0.15);\n",
              "      fill: #174EA6;\n",
              "    }\n",
              "\n",
              "    [theme=dark] .colab-df-convert {\n",
              "      background-color: #3B4455;\n",
              "      fill: #D2E3FC;\n",
              "    }\n",
              "\n",
              "    [theme=dark] .colab-df-convert:hover {\n",
              "      background-color: #434B5C;\n",
              "      box-shadow: 0px 1px 3px 1px rgba(0, 0, 0, 0.15);\n",
              "      filter: drop-shadow(0px 1px 2px rgba(0, 0, 0, 0.3));\n",
              "      fill: #FFFFFF;\n",
              "    }\n",
              "  </style>\n",
              "\n",
              "      <script>\n",
              "        const buttonEl =\n",
              "          document.querySelector('#df-edca64b4-eed4-41c2-a0e8-42e9cab348d9 button.colab-df-convert');\n",
              "        buttonEl.style.display =\n",
              "          google.colab.kernel.accessAllowed ? 'block' : 'none';\n",
              "\n",
              "        async function convertToInteractive(key) {\n",
              "          const element = document.querySelector('#df-edca64b4-eed4-41c2-a0e8-42e9cab348d9');\n",
              "          const dataTable =\n",
              "            await google.colab.kernel.invokeFunction('convertToInteractive',\n",
              "                                                     [key], {});\n",
              "          if (!dataTable) return;\n",
              "\n",
              "          const docLinkHtml = 'Like what you see? Visit the ' +\n",
              "            '<a target=\"_blank\" href=https://colab.research.google.com/notebooks/data_table.ipynb>data table notebook</a>'\n",
              "            + ' to learn more about interactive tables.';\n",
              "          element.innerHTML = '';\n",
              "          dataTable['output_type'] = 'display_data';\n",
              "          await google.colab.output.renderOutput(dataTable, element);\n",
              "          const docLink = document.createElement('div');\n",
              "          docLink.innerHTML = docLinkHtml;\n",
              "          element.appendChild(docLink);\n",
              "        }\n",
              "      </script>\n",
              "    </div>\n",
              "  </div>\n",
              "  "
            ]
          },
          "metadata": {}
        },
        {
          "output_type": "stream",
          "name": "stdout",
          "text": [
            "Duplicate Observations:  3\n",
            "Total Number of Observations with Duplicates:  6\n"
          ]
        }
      ],
      "source": [
        "duplicates = raw_df[['Name', 'Platform', 'Year_of_Release']].value_counts().reset_index(name='Count').query('Count > 1').sort_values(['Count', 'Name'])\n",
        "display(duplicates)\n",
        "\n",
        "print('Duplicate Observations: ', len(duplicates))\n",
        "print('Total Number of Observations with Duplicates: ', duplicates['Count'].sum())"
      ],
      "id": "c8c02509"
    },
    {
      "cell_type": "markdown",
      "metadata": {
        "id": "26d1b981"
      },
      "source": [
        "There are 3 video games that have the duplicate values for `Name`, `Platform`, and `Year_of_Release`."
      ],
      "id": "26d1b981"
    },
    {
      "cell_type": "code",
      "execution_count": null,
      "metadata": {
        "colab": {
          "base_uri": "https://localhost:8080/"
        },
        "id": "d559e68c",
        "outputId": "35c11d18-636c-4911-e997-dd2e67b199d2"
      },
      "outputs": [
        {
          "output_type": "display_data",
          "data": {
            "text/plain": [
              "                 Name Platform  Year_of_Release     Genre           Publisher  \\\n",
              "0       Madden NFL 13      PS3             2012    Sports     Electronic Arts   \n",
              "1       Madden NFL 13      PS3             2012    Sports     Electronic Arts   \n",
              "2  Sonic the Hedgehog      PS3             2006  Platform                Sega   \n",
              "3  Sonic the Hedgehog      PS3             2006  Platform                Sega   \n",
              "4      SoulCalibur IV     X360             2008  Fighting             Ubisoft   \n",
              "5      SoulCalibur IV     X360             2008  Fighting  Namco Bandai Games   \n",
              "\n",
              "   NA_Sales  EU_Sales  JP_Sales  Other_Sales  Global_Sales  Critic_Score  \\\n",
              "0      2.12      0.22      0.00         0.23          2.57          83.0   \n",
              "1      0.00      0.01      0.00         0.00          0.01          83.0   \n",
              "2      0.41      0.06      0.04         0.66          1.16          43.0   \n",
              "3      0.00      0.48      0.00         0.00          0.48          43.0   \n",
              "4      0.92      0.43      0.07         0.15          1.58          85.0   \n",
              "5      0.00      0.00      0.00         0.00          0.01          85.0   \n",
              "\n",
              "   Critic_Count  User_Score  User_Count Rating  \n",
              "0          22.0         5.5       101.0      E  \n",
              "1          22.0         5.5       101.0      E  \n",
              "2          17.0         4.1       177.0   E10+  \n",
              "3          17.0         4.1       177.0   E10+  \n",
              "4          62.0         7.9       158.0      T  \n",
              "5          62.0         7.9       158.0      T  "
            ],
            "text/html": [
              "\n",
              "  <div id=\"df-022e5904-da65-46a4-b5f3-73854d5569b1\">\n",
              "    <div class=\"colab-df-container\">\n",
              "      <div>\n",
              "<style scoped>\n",
              "    .dataframe tbody tr th:only-of-type {\n",
              "        vertical-align: middle;\n",
              "    }\n",
              "\n",
              "    .dataframe tbody tr th {\n",
              "        vertical-align: top;\n",
              "    }\n",
              "\n",
              "    .dataframe thead th {\n",
              "        text-align: right;\n",
              "    }\n",
              "</style>\n",
              "<table border=\"1\" class=\"dataframe\">\n",
              "  <thead>\n",
              "    <tr style=\"text-align: right;\">\n",
              "      <th></th>\n",
              "      <th>Name</th>\n",
              "      <th>Platform</th>\n",
              "      <th>Year_of_Release</th>\n",
              "      <th>Genre</th>\n",
              "      <th>Publisher</th>\n",
              "      <th>NA_Sales</th>\n",
              "      <th>EU_Sales</th>\n",
              "      <th>JP_Sales</th>\n",
              "      <th>Other_Sales</th>\n",
              "      <th>Global_Sales</th>\n",
              "      <th>Critic_Score</th>\n",
              "      <th>Critic_Count</th>\n",
              "      <th>User_Score</th>\n",
              "      <th>User_Count</th>\n",
              "      <th>Rating</th>\n",
              "    </tr>\n",
              "  </thead>\n",
              "  <tbody>\n",
              "    <tr>\n",
              "      <th>0</th>\n",
              "      <td>Madden NFL 13</td>\n",
              "      <td>PS3</td>\n",
              "      <td>2012</td>\n",
              "      <td>Sports</td>\n",
              "      <td>Electronic Arts</td>\n",
              "      <td>2.12</td>\n",
              "      <td>0.22</td>\n",
              "      <td>0.00</td>\n",
              "      <td>0.23</td>\n",
              "      <td>2.57</td>\n",
              "      <td>83.0</td>\n",
              "      <td>22.0</td>\n",
              "      <td>5.5</td>\n",
              "      <td>101.0</td>\n",
              "      <td>E</td>\n",
              "    </tr>\n",
              "    <tr>\n",
              "      <th>1</th>\n",
              "      <td>Madden NFL 13</td>\n",
              "      <td>PS3</td>\n",
              "      <td>2012</td>\n",
              "      <td>Sports</td>\n",
              "      <td>Electronic Arts</td>\n",
              "      <td>0.00</td>\n",
              "      <td>0.01</td>\n",
              "      <td>0.00</td>\n",
              "      <td>0.00</td>\n",
              "      <td>0.01</td>\n",
              "      <td>83.0</td>\n",
              "      <td>22.0</td>\n",
              "      <td>5.5</td>\n",
              "      <td>101.0</td>\n",
              "      <td>E</td>\n",
              "    </tr>\n",
              "    <tr>\n",
              "      <th>2</th>\n",
              "      <td>Sonic the Hedgehog</td>\n",
              "      <td>PS3</td>\n",
              "      <td>2006</td>\n",
              "      <td>Platform</td>\n",
              "      <td>Sega</td>\n",
              "      <td>0.41</td>\n",
              "      <td>0.06</td>\n",
              "      <td>0.04</td>\n",
              "      <td>0.66</td>\n",
              "      <td>1.16</td>\n",
              "      <td>43.0</td>\n",
              "      <td>17.0</td>\n",
              "      <td>4.1</td>\n",
              "      <td>177.0</td>\n",
              "      <td>E10+</td>\n",
              "    </tr>\n",
              "    <tr>\n",
              "      <th>3</th>\n",
              "      <td>Sonic the Hedgehog</td>\n",
              "      <td>PS3</td>\n",
              "      <td>2006</td>\n",
              "      <td>Platform</td>\n",
              "      <td>Sega</td>\n",
              "      <td>0.00</td>\n",
              "      <td>0.48</td>\n",
              "      <td>0.00</td>\n",
              "      <td>0.00</td>\n",
              "      <td>0.48</td>\n",
              "      <td>43.0</td>\n",
              "      <td>17.0</td>\n",
              "      <td>4.1</td>\n",
              "      <td>177.0</td>\n",
              "      <td>E10+</td>\n",
              "    </tr>\n",
              "    <tr>\n",
              "      <th>4</th>\n",
              "      <td>SoulCalibur IV</td>\n",
              "      <td>X360</td>\n",
              "      <td>2008</td>\n",
              "      <td>Fighting</td>\n",
              "      <td>Ubisoft</td>\n",
              "      <td>0.92</td>\n",
              "      <td>0.43</td>\n",
              "      <td>0.07</td>\n",
              "      <td>0.15</td>\n",
              "      <td>1.58</td>\n",
              "      <td>85.0</td>\n",
              "      <td>62.0</td>\n",
              "      <td>7.9</td>\n",
              "      <td>158.0</td>\n",
              "      <td>T</td>\n",
              "    </tr>\n",
              "    <tr>\n",
              "      <th>5</th>\n",
              "      <td>SoulCalibur IV</td>\n",
              "      <td>X360</td>\n",
              "      <td>2008</td>\n",
              "      <td>Fighting</td>\n",
              "      <td>Namco Bandai Games</td>\n",
              "      <td>0.00</td>\n",
              "      <td>0.00</td>\n",
              "      <td>0.00</td>\n",
              "      <td>0.00</td>\n",
              "      <td>0.01</td>\n",
              "      <td>85.0</td>\n",
              "      <td>62.0</td>\n",
              "      <td>7.9</td>\n",
              "      <td>158.0</td>\n",
              "      <td>T</td>\n",
              "    </tr>\n",
              "  </tbody>\n",
              "</table>\n",
              "</div>\n",
              "      <button class=\"colab-df-convert\" onclick=\"convertToInteractive('df-022e5904-da65-46a4-b5f3-73854d5569b1')\"\n",
              "              title=\"Convert this dataframe to an interactive table.\"\n",
              "              style=\"display:none;\">\n",
              "        \n",
              "  <svg xmlns=\"http://www.w3.org/2000/svg\" height=\"24px\"viewBox=\"0 0 24 24\"\n",
              "       width=\"24px\">\n",
              "    <path d=\"M0 0h24v24H0V0z\" fill=\"none\"/>\n",
              "    <path d=\"M18.56 5.44l.94 2.06.94-2.06 2.06-.94-2.06-.94-.94-2.06-.94 2.06-2.06.94zm-11 1L8.5 8.5l.94-2.06 2.06-.94-2.06-.94L8.5 2.5l-.94 2.06-2.06.94zm10 10l.94 2.06.94-2.06 2.06-.94-2.06-.94-.94-2.06-.94 2.06-2.06.94z\"/><path d=\"M17.41 7.96l-1.37-1.37c-.4-.4-.92-.59-1.43-.59-.52 0-1.04.2-1.43.59L10.3 9.45l-7.72 7.72c-.78.78-.78 2.05 0 2.83L4 21.41c.39.39.9.59 1.41.59.51 0 1.02-.2 1.41-.59l7.78-7.78 2.81-2.81c.8-.78.8-2.07 0-2.86zM5.41 20L4 18.59l7.72-7.72 1.47 1.35L5.41 20z\"/>\n",
              "  </svg>\n",
              "      </button>\n",
              "      \n",
              "  <style>\n",
              "    .colab-df-container {\n",
              "      display:flex;\n",
              "      flex-wrap:wrap;\n",
              "      gap: 12px;\n",
              "    }\n",
              "\n",
              "    .colab-df-convert {\n",
              "      background-color: #E8F0FE;\n",
              "      border: none;\n",
              "      border-radius: 50%;\n",
              "      cursor: pointer;\n",
              "      display: none;\n",
              "      fill: #1967D2;\n",
              "      height: 32px;\n",
              "      padding: 0 0 0 0;\n",
              "      width: 32px;\n",
              "    }\n",
              "\n",
              "    .colab-df-convert:hover {\n",
              "      background-color: #E2EBFA;\n",
              "      box-shadow: 0px 1px 2px rgba(60, 64, 67, 0.3), 0px 1px 3px 1px rgba(60, 64, 67, 0.15);\n",
              "      fill: #174EA6;\n",
              "    }\n",
              "\n",
              "    [theme=dark] .colab-df-convert {\n",
              "      background-color: #3B4455;\n",
              "      fill: #D2E3FC;\n",
              "    }\n",
              "\n",
              "    [theme=dark] .colab-df-convert:hover {\n",
              "      background-color: #434B5C;\n",
              "      box-shadow: 0px 1px 3px 1px rgba(0, 0, 0, 0.15);\n",
              "      filter: drop-shadow(0px 1px 2px rgba(0, 0, 0, 0.3));\n",
              "      fill: #FFFFFF;\n",
              "    }\n",
              "  </style>\n",
              "\n",
              "      <script>\n",
              "        const buttonEl =\n",
              "          document.querySelector('#df-022e5904-da65-46a4-b5f3-73854d5569b1 button.colab-df-convert');\n",
              "        buttonEl.style.display =\n",
              "          google.colab.kernel.accessAllowed ? 'block' : 'none';\n",
              "\n",
              "        async function convertToInteractive(key) {\n",
              "          const element = document.querySelector('#df-022e5904-da65-46a4-b5f3-73854d5569b1');\n",
              "          const dataTable =\n",
              "            await google.colab.kernel.invokeFunction('convertToInteractive',\n",
              "                                                     [key], {});\n",
              "          if (!dataTable) return;\n",
              "\n",
              "          const docLinkHtml = 'Like what you see? Visit the ' +\n",
              "            '<a target=\"_blank\" href=https://colab.research.google.com/notebooks/data_table.ipynb>data table notebook</a>'\n",
              "            + ' to learn more about interactive tables.';\n",
              "          element.innerHTML = '';\n",
              "          dataTable['output_type'] = 'display_data';\n",
              "          await google.colab.output.renderOutput(dataTable, element);\n",
              "          const docLink = document.createElement('div');\n",
              "          docLink.innerHTML = docLinkHtml;\n",
              "          element.appendChild(docLink);\n",
              "        }\n",
              "      </script>\n",
              "    </div>\n",
              "  </div>\n",
              "  "
            ]
          },
          "metadata": {}
        }
      ],
      "source": [
        "duplicate_df = pd.merge(duplicates, raw_df, how='inner')\n",
        "duplicate_df.drop(['Count'], axis=1, inplace=True)\n",
        "display(duplicate_df)"
      ],
      "id": "d559e68c"
    },
    {
      "cell_type": "markdown",
      "metadata": {
        "id": "cc94adf3"
      },
      "source": [
        "Both `Madden NFL 13` and `Sonic the Hedgehog` have similar values to their duplicate apart from their total sales. We can also assume that the observations for `SoulCalibur IV` represents the same game, as it has similar values apart from sales and publisher. The original publisher is listed as 'Namco Bandai' in [VGChartz](https://www.vgchartz.com/games/games.php?name=SoulCalibur+IV&keyword=&console=&region=All&developer=&publisher=&goty_year=&genre=&boxart=Both&banner=Both&ownership=Both&showmultiplat=No&results=50&order=Sales&showtotalsales=0&showpublisher=0&showpublisher=1&showvgchartzscore=0&showvgchartzscore=1&shownasales=0&showdeveloper=0&showcriticscore=0&showcriticscore=1&showpalsales=0&showreleasedate=0&showreleasedate=1&showuserscore=0&showuserscore=1&showjapansales=0&showlastupdate=0&showlastupdate=1&showothersales=0&showshipped=0&showshipped=1), so we shall keep this value. For the total sales, we will combine the sales of each game and replace the old values in the dataframe with the new, combined ones."
      ],
      "id": "cc94adf3"
    },
    {
      "cell_type": "code",
      "execution_count": null,
      "metadata": {
        "colab": {
          "base_uri": "https://localhost:8080/"
        },
        "id": "0ee1ffbf",
        "outputId": "89e221d9-a6a7-4c98-a151-262d291b6b17"
      },
      "outputs": [
        {
          "output_type": "execute_result",
          "data": {
            "text/plain": [
              "                 Name Platform  Year_of_Release     Genre           Publisher  \\\n",
              "0       Madden NFL 13      PS3             2012    Sports     Electronic Arts   \n",
              "1  Sonic the Hedgehog      PS3             2006  Platform                Sega   \n",
              "2      SoulCalibur IV     X360             2008  Fighting  Namco Bandai Games   \n",
              "\n",
              "   NA_Sales  EU_Sales  JP_Sales  Other_Sales  Global_Sales  Critic_Score  \\\n",
              "0      2.12      0.23      0.00         0.23          2.58          83.0   \n",
              "1      0.41      0.54      0.04         0.66          1.64          43.0   \n",
              "2      0.92      0.43      0.07         0.15          1.59          85.0   \n",
              "\n",
              "   Critic_Count  User_Score  User_Count Rating  \n",
              "0          22.0         5.5       101.0      E  \n",
              "1          17.0         4.1       177.0   E10+  \n",
              "2          62.0         7.9       158.0      T  "
            ],
            "text/html": [
              "\n",
              "  <div id=\"df-795ebd4b-da28-47d9-aa69-d094db4b0bb7\">\n",
              "    <div class=\"colab-df-container\">\n",
              "      <div>\n",
              "<style scoped>\n",
              "    .dataframe tbody tr th:only-of-type {\n",
              "        vertical-align: middle;\n",
              "    }\n",
              "\n",
              "    .dataframe tbody tr th {\n",
              "        vertical-align: top;\n",
              "    }\n",
              "\n",
              "    .dataframe thead th {\n",
              "        text-align: right;\n",
              "    }\n",
              "</style>\n",
              "<table border=\"1\" class=\"dataframe\">\n",
              "  <thead>\n",
              "    <tr style=\"text-align: right;\">\n",
              "      <th></th>\n",
              "      <th>Name</th>\n",
              "      <th>Platform</th>\n",
              "      <th>Year_of_Release</th>\n",
              "      <th>Genre</th>\n",
              "      <th>Publisher</th>\n",
              "      <th>NA_Sales</th>\n",
              "      <th>EU_Sales</th>\n",
              "      <th>JP_Sales</th>\n",
              "      <th>Other_Sales</th>\n",
              "      <th>Global_Sales</th>\n",
              "      <th>Critic_Score</th>\n",
              "      <th>Critic_Count</th>\n",
              "      <th>User_Score</th>\n",
              "      <th>User_Count</th>\n",
              "      <th>Rating</th>\n",
              "    </tr>\n",
              "  </thead>\n",
              "  <tbody>\n",
              "    <tr>\n",
              "      <th>0</th>\n",
              "      <td>Madden NFL 13</td>\n",
              "      <td>PS3</td>\n",
              "      <td>2012</td>\n",
              "      <td>Sports</td>\n",
              "      <td>Electronic Arts</td>\n",
              "      <td>2.12</td>\n",
              "      <td>0.23</td>\n",
              "      <td>0.00</td>\n",
              "      <td>0.23</td>\n",
              "      <td>2.58</td>\n",
              "      <td>83.0</td>\n",
              "      <td>22.0</td>\n",
              "      <td>5.5</td>\n",
              "      <td>101.0</td>\n",
              "      <td>E</td>\n",
              "    </tr>\n",
              "    <tr>\n",
              "      <th>1</th>\n",
              "      <td>Sonic the Hedgehog</td>\n",
              "      <td>PS3</td>\n",
              "      <td>2006</td>\n",
              "      <td>Platform</td>\n",
              "      <td>Sega</td>\n",
              "      <td>0.41</td>\n",
              "      <td>0.54</td>\n",
              "      <td>0.04</td>\n",
              "      <td>0.66</td>\n",
              "      <td>1.64</td>\n",
              "      <td>43.0</td>\n",
              "      <td>17.0</td>\n",
              "      <td>4.1</td>\n",
              "      <td>177.0</td>\n",
              "      <td>E10+</td>\n",
              "    </tr>\n",
              "    <tr>\n",
              "      <th>2</th>\n",
              "      <td>SoulCalibur IV</td>\n",
              "      <td>X360</td>\n",
              "      <td>2008</td>\n",
              "      <td>Fighting</td>\n",
              "      <td>Namco Bandai Games</td>\n",
              "      <td>0.92</td>\n",
              "      <td>0.43</td>\n",
              "      <td>0.07</td>\n",
              "      <td>0.15</td>\n",
              "      <td>1.59</td>\n",
              "      <td>85.0</td>\n",
              "      <td>62.0</td>\n",
              "      <td>7.9</td>\n",
              "      <td>158.0</td>\n",
              "      <td>T</td>\n",
              "    </tr>\n",
              "  </tbody>\n",
              "</table>\n",
              "</div>\n",
              "      <button class=\"colab-df-convert\" onclick=\"convertToInteractive('df-795ebd4b-da28-47d9-aa69-d094db4b0bb7')\"\n",
              "              title=\"Convert this dataframe to an interactive table.\"\n",
              "              style=\"display:none;\">\n",
              "        \n",
              "  <svg xmlns=\"http://www.w3.org/2000/svg\" height=\"24px\"viewBox=\"0 0 24 24\"\n",
              "       width=\"24px\">\n",
              "    <path d=\"M0 0h24v24H0V0z\" fill=\"none\"/>\n",
              "    <path d=\"M18.56 5.44l.94 2.06.94-2.06 2.06-.94-2.06-.94-.94-2.06-.94 2.06-2.06.94zm-11 1L8.5 8.5l.94-2.06 2.06-.94-2.06-.94L8.5 2.5l-.94 2.06-2.06.94zm10 10l.94 2.06.94-2.06 2.06-.94-2.06-.94-.94-2.06-.94 2.06-2.06.94z\"/><path d=\"M17.41 7.96l-1.37-1.37c-.4-.4-.92-.59-1.43-.59-.52 0-1.04.2-1.43.59L10.3 9.45l-7.72 7.72c-.78.78-.78 2.05 0 2.83L4 21.41c.39.39.9.59 1.41.59.51 0 1.02-.2 1.41-.59l7.78-7.78 2.81-2.81c.8-.78.8-2.07 0-2.86zM5.41 20L4 18.59l7.72-7.72 1.47 1.35L5.41 20z\"/>\n",
              "  </svg>\n",
              "      </button>\n",
              "      \n",
              "  <style>\n",
              "    .colab-df-container {\n",
              "      display:flex;\n",
              "      flex-wrap:wrap;\n",
              "      gap: 12px;\n",
              "    }\n",
              "\n",
              "    .colab-df-convert {\n",
              "      background-color: #E8F0FE;\n",
              "      border: none;\n",
              "      border-radius: 50%;\n",
              "      cursor: pointer;\n",
              "      display: none;\n",
              "      fill: #1967D2;\n",
              "      height: 32px;\n",
              "      padding: 0 0 0 0;\n",
              "      width: 32px;\n",
              "    }\n",
              "\n",
              "    .colab-df-convert:hover {\n",
              "      background-color: #E2EBFA;\n",
              "      box-shadow: 0px 1px 2px rgba(60, 64, 67, 0.3), 0px 1px 3px 1px rgba(60, 64, 67, 0.15);\n",
              "      fill: #174EA6;\n",
              "    }\n",
              "\n",
              "    [theme=dark] .colab-df-convert {\n",
              "      background-color: #3B4455;\n",
              "      fill: #D2E3FC;\n",
              "    }\n",
              "\n",
              "    [theme=dark] .colab-df-convert:hover {\n",
              "      background-color: #434B5C;\n",
              "      box-shadow: 0px 1px 3px 1px rgba(0, 0, 0, 0.15);\n",
              "      filter: drop-shadow(0px 1px 2px rgba(0, 0, 0, 0.3));\n",
              "      fill: #FFFFFF;\n",
              "    }\n",
              "  </style>\n",
              "\n",
              "      <script>\n",
              "        const buttonEl =\n",
              "          document.querySelector('#df-795ebd4b-da28-47d9-aa69-d094db4b0bb7 button.colab-df-convert');\n",
              "        buttonEl.style.display =\n",
              "          google.colab.kernel.accessAllowed ? 'block' : 'none';\n",
              "\n",
              "        async function convertToInteractive(key) {\n",
              "          const element = document.querySelector('#df-795ebd4b-da28-47d9-aa69-d094db4b0bb7');\n",
              "          const dataTable =\n",
              "            await google.colab.kernel.invokeFunction('convertToInteractive',\n",
              "                                                     [key], {});\n",
              "          if (!dataTable) return;\n",
              "\n",
              "          const docLinkHtml = 'Like what you see? Visit the ' +\n",
              "            '<a target=\"_blank\" href=https://colab.research.google.com/notebooks/data_table.ipynb>data table notebook</a>'\n",
              "            + ' to learn more about interactive tables.';\n",
              "          element.innerHTML = '';\n",
              "          dataTable['output_type'] = 'display_data';\n",
              "          await google.colab.output.renderOutput(dataTable, element);\n",
              "          const docLink = document.createElement('div');\n",
              "          docLink.innerHTML = docLinkHtml;\n",
              "          element.appendChild(docLink);\n",
              "        }\n",
              "      </script>\n",
              "    </div>\n",
              "  </div>\n",
              "  "
            ]
          },
          "metadata": {},
          "execution_count": 28
        }
      ],
      "source": [
        "agg_functions = {'Publisher': 'last', 'NA_Sales': 'sum', 'EU_Sales': 'sum', 'JP_Sales': 'sum', 'Other_Sales': 'sum', 'Global_Sales': 'sum', \n",
        "                 'Critic_Score':'first', 'Critic_Count':'first', 'User_Score':'first', 'User_Count':'first','Rating': 'first'}\n",
        "combined_df = duplicate_df.groupby(['Name', 'Platform', 'Year_of_Release', 'Genre'], as_index=False).agg(agg_functions) \n",
        "combined_df"
      ],
      "id": "0ee1ffbf"
    },
    {
      "cell_type": "code",
      "execution_count": null,
      "metadata": {
        "colab": {
          "base_uri": "https://localhost:8080/"
        },
        "id": "cd5050b9",
        "outputId": "a0505a7f-439d-4250-9f5f-e5c01acef5eb"
      },
      "outputs": [
        {
          "output_type": "stream",
          "name": "stdout",
          "text": [
            "<class 'pandas.core.frame.DataFrame'>\n",
            "Int64Index: 17413 entries, 0 to 2\n",
            "Data columns (total 15 columns):\n",
            " #   Column           Non-Null Count  Dtype  \n",
            "---  ------           --------------  -----  \n",
            " 0   Name             17413 non-null  object \n",
            " 1   Platform         17413 non-null  object \n",
            " 2   Year_of_Release  17413 non-null  int64  \n",
            " 3   Genre            17413 non-null  object \n",
            " 4   Publisher        17413 non-null  object \n",
            " 5   NA_Sales         17413 non-null  float64\n",
            " 6   EU_Sales         17413 non-null  float64\n",
            " 7   JP_Sales         17413 non-null  float64\n",
            " 8   Other_Sales      17413 non-null  float64\n",
            " 9   Global_Sales     17413 non-null  float64\n",
            " 10  Critic_Score     8333 non-null   float64\n",
            " 11  Critic_Count     8333 non-null   float64\n",
            " 12  User_Score       7795 non-null   float64\n",
            " 13  User_Count       7795 non-null   float64\n",
            " 14  Rating           10249 non-null  object \n",
            "dtypes: float64(9), int64(1), object(5)\n",
            "memory usage: 2.1+ MB\n",
            "Number of duplicate observations:  0\n"
          ]
        }
      ],
      "source": [
        "cleaned_df = raw_df.drop_duplicates(subset=['Name', 'Platform', 'Year_of_Release'], keep=False)\n",
        "cleaned_df = pd.concat([cleaned_df, combined_df])\n",
        "cleaned_df.info()\n",
        "\n",
        "#Check for Duplicates\n",
        "duplicates = cleaned_df[['Name', 'Platform', 'Year_of_Release']].value_counts().reset_index(name='Count').query('Count > 1').sort_values(['Count', 'Name'])\n",
        "print('Number of duplicate observations: ', len(duplicates))"
      ],
      "id": "cd5050b9"
    },
    {
      "cell_type": "markdown",
      "metadata": {
        "id": "e18838d1"
      },
      "source": [
        "With this, we have a cleaned dataset where every observation is a unique entry and without missing values in the relevant variables."
      ],
      "id": "e18838d1"
    },
    {
      "cell_type": "markdown",
      "metadata": {
        "id": "vN_YEEi0peAx"
      },
      "source": [
        "## III. Exploratory Data Analysis"
      ],
      "id": "vN_YEEi0peAx"
    },
    {
      "cell_type": "markdown",
      "metadata": {
        "id": "SMoqEWgkZWK4"
      },
      "source": [
        "##EDA Question 1: Which genres have the highest and lowest amount of sales in each region?"
      ],
      "id": "SMoqEWgkZWK4"
    },
    {
      "cell_type": "markdown",
      "metadata": {
        "id": "yoUHypgNZbTx"
      },
      "source": [
        "A video game genre is a specific category of games based on similar gameplay characteristics. Different people have different preferences for video game genres, making it a deciding factor on whether someone buys a game or not. We will explore which genre has the highest and lowest amount of sales in each region.\n",
        "\n",
        "The variables of interest are:\n",
        "- **`Genre`**: the genre of the video game\n",
        "- **`NA_Sales`**: sales in North America (in millions)\n",
        "- **`EU_Sales`**: sales in Europe (in millions)\n",
        "- **`JP_Sales`**: sales in Japan (in millions)\n",
        "- **`Other_Sales`**: sales in the rest of the world (in millions)\n",
        "- **`Global_Sales`**: total worldwide sales (in millions)"
      ],
      "id": "yoUHypgNZbTx"
    },
    {
      "cell_type": "markdown",
      "metadata": {
        "id": "HQgi7VS5diey"
      },
      "source": [
        "First, let us see which genres have the highest overall sales and visualize the values with a bar plot."
      ],
      "id": "HQgi7VS5diey"
    },
    {
      "cell_type": "code",
      "execution_count": null,
      "metadata": {
        "colab": {
          "base_uri": "https://localhost:8080/"
        },
        "id": "ljXdeEw1dxlr",
        "outputId": "ac5e6ed0-d5c4-4d43-ee52-97bb153f83f7"
      },
      "outputs": [
        {
          "output_type": "display_data",
          "data": {
            "text/plain": [
              "              Global_Sales\n",
              "Genre                     \n",
              "Action             1761.97\n",
              "Sports             1341.00\n",
              "Shooter            1067.30\n",
              "Role-Playing        949.31\n",
              "Platform            831.74\n",
              "Misc                808.80\n",
              "Racing              731.67\n",
              "Fighting            449.17\n",
              "Simulation          392.84\n",
              "Puzzle              243.76\n",
              "Adventure           241.55\n",
              "Strategy            175.72"
            ],
            "text/html": [
              "\n",
              "  <div id=\"df-61f3be92-c3c7-4ffd-bdb1-7bf0b2b2357b\">\n",
              "    <div class=\"colab-df-container\">\n",
              "      <div>\n",
              "<style scoped>\n",
              "    .dataframe tbody tr th:only-of-type {\n",
              "        vertical-align: middle;\n",
              "    }\n",
              "\n",
              "    .dataframe tbody tr th {\n",
              "        vertical-align: top;\n",
              "    }\n",
              "\n",
              "    .dataframe thead th {\n",
              "        text-align: right;\n",
              "    }\n",
              "</style>\n",
              "<table border=\"1\" class=\"dataframe\">\n",
              "  <thead>\n",
              "    <tr style=\"text-align: right;\">\n",
              "      <th></th>\n",
              "      <th>Global_Sales</th>\n",
              "    </tr>\n",
              "    <tr>\n",
              "      <th>Genre</th>\n",
              "      <th></th>\n",
              "    </tr>\n",
              "  </thead>\n",
              "  <tbody>\n",
              "    <tr>\n",
              "      <th>Action</th>\n",
              "      <td>1761.97</td>\n",
              "    </tr>\n",
              "    <tr>\n",
              "      <th>Sports</th>\n",
              "      <td>1341.00</td>\n",
              "    </tr>\n",
              "    <tr>\n",
              "      <th>Shooter</th>\n",
              "      <td>1067.30</td>\n",
              "    </tr>\n",
              "    <tr>\n",
              "      <th>Role-Playing</th>\n",
              "      <td>949.31</td>\n",
              "    </tr>\n",
              "    <tr>\n",
              "      <th>Platform</th>\n",
              "      <td>831.74</td>\n",
              "    </tr>\n",
              "    <tr>\n",
              "      <th>Misc</th>\n",
              "      <td>808.80</td>\n",
              "    </tr>\n",
              "    <tr>\n",
              "      <th>Racing</th>\n",
              "      <td>731.67</td>\n",
              "    </tr>\n",
              "    <tr>\n",
              "      <th>Fighting</th>\n",
              "      <td>449.17</td>\n",
              "    </tr>\n",
              "    <tr>\n",
              "      <th>Simulation</th>\n",
              "      <td>392.84</td>\n",
              "    </tr>\n",
              "    <tr>\n",
              "      <th>Puzzle</th>\n",
              "      <td>243.76</td>\n",
              "    </tr>\n",
              "    <tr>\n",
              "      <th>Adventure</th>\n",
              "      <td>241.55</td>\n",
              "    </tr>\n",
              "    <tr>\n",
              "      <th>Strategy</th>\n",
              "      <td>175.72</td>\n",
              "    </tr>\n",
              "  </tbody>\n",
              "</table>\n",
              "</div>\n",
              "      <button class=\"colab-df-convert\" onclick=\"convertToInteractive('df-61f3be92-c3c7-4ffd-bdb1-7bf0b2b2357b')\"\n",
              "              title=\"Convert this dataframe to an interactive table.\"\n",
              "              style=\"display:none;\">\n",
              "        \n",
              "  <svg xmlns=\"http://www.w3.org/2000/svg\" height=\"24px\"viewBox=\"0 0 24 24\"\n",
              "       width=\"24px\">\n",
              "    <path d=\"M0 0h24v24H0V0z\" fill=\"none\"/>\n",
              "    <path d=\"M18.56 5.44l.94 2.06.94-2.06 2.06-.94-2.06-.94-.94-2.06-.94 2.06-2.06.94zm-11 1L8.5 8.5l.94-2.06 2.06-.94-2.06-.94L8.5 2.5l-.94 2.06-2.06.94zm10 10l.94 2.06.94-2.06 2.06-.94-2.06-.94-.94-2.06-.94 2.06-2.06.94z\"/><path d=\"M17.41 7.96l-1.37-1.37c-.4-.4-.92-.59-1.43-.59-.52 0-1.04.2-1.43.59L10.3 9.45l-7.72 7.72c-.78.78-.78 2.05 0 2.83L4 21.41c.39.39.9.59 1.41.59.51 0 1.02-.2 1.41-.59l7.78-7.78 2.81-2.81c.8-.78.8-2.07 0-2.86zM5.41 20L4 18.59l7.72-7.72 1.47 1.35L5.41 20z\"/>\n",
              "  </svg>\n",
              "      </button>\n",
              "      \n",
              "  <style>\n",
              "    .colab-df-container {\n",
              "      display:flex;\n",
              "      flex-wrap:wrap;\n",
              "      gap: 12px;\n",
              "    }\n",
              "\n",
              "    .colab-df-convert {\n",
              "      background-color: #E8F0FE;\n",
              "      border: none;\n",
              "      border-radius: 50%;\n",
              "      cursor: pointer;\n",
              "      display: none;\n",
              "      fill: #1967D2;\n",
              "      height: 32px;\n",
              "      padding: 0 0 0 0;\n",
              "      width: 32px;\n",
              "    }\n",
              "\n",
              "    .colab-df-convert:hover {\n",
              "      background-color: #E2EBFA;\n",
              "      box-shadow: 0px 1px 2px rgba(60, 64, 67, 0.3), 0px 1px 3px 1px rgba(60, 64, 67, 0.15);\n",
              "      fill: #174EA6;\n",
              "    }\n",
              "\n",
              "    [theme=dark] .colab-df-convert {\n",
              "      background-color: #3B4455;\n",
              "      fill: #D2E3FC;\n",
              "    }\n",
              "\n",
              "    [theme=dark] .colab-df-convert:hover {\n",
              "      background-color: #434B5C;\n",
              "      box-shadow: 0px 1px 3px 1px rgba(0, 0, 0, 0.15);\n",
              "      filter: drop-shadow(0px 1px 2px rgba(0, 0, 0, 0.3));\n",
              "      fill: #FFFFFF;\n",
              "    }\n",
              "  </style>\n",
              "\n",
              "      <script>\n",
              "        const buttonEl =\n",
              "          document.querySelector('#df-61f3be92-c3c7-4ffd-bdb1-7bf0b2b2357b button.colab-df-convert');\n",
              "        buttonEl.style.display =\n",
              "          google.colab.kernel.accessAllowed ? 'block' : 'none';\n",
              "\n",
              "        async function convertToInteractive(key) {\n",
              "          const element = document.querySelector('#df-61f3be92-c3c7-4ffd-bdb1-7bf0b2b2357b');\n",
              "          const dataTable =\n",
              "            await google.colab.kernel.invokeFunction('convertToInteractive',\n",
              "                                                     [key], {});\n",
              "          if (!dataTable) return;\n",
              "\n",
              "          const docLinkHtml = 'Like what you see? Visit the ' +\n",
              "            '<a target=\"_blank\" href=https://colab.research.google.com/notebooks/data_table.ipynb>data table notebook</a>'\n",
              "            + ' to learn more about interactive tables.';\n",
              "          element.innerHTML = '';\n",
              "          dataTable['output_type'] = 'display_data';\n",
              "          await google.colab.output.renderOutput(dataTable, element);\n",
              "          const docLink = document.createElement('div');\n",
              "          docLink.innerHTML = docLinkHtml;\n",
              "          element.appendChild(docLink);\n",
              "        }\n",
              "      </script>\n",
              "    </div>\n",
              "  </div>\n",
              "  "
            ]
          },
          "metadata": {}
        }
      ],
      "source": [
        "genre_sales_count = cleaned_df.groupby('Genre').agg({'Global_Sales': 'sum'})\n",
        "genre_sales_count = genre_sales_count.sort_values('Global_Sales', ascending=False)\n",
        "display(genre_sales_count)"
      ],
      "id": "ljXdeEw1dxlr"
    },
    {
      "cell_type": "code",
      "execution_count": null,
      "metadata": {
        "colab": {
          "base_uri": "https://localhost:8080/"
        },
        "id": "5KKY77d-fWuk",
        "outputId": "5d11f64b-8c74-4aba-87ef-490c6c7131aa"
      },
      "outputs": [
        {
          "output_type": "execute_result",
          "data": {
            "text/plain": [
              "Text(0.5, 1.0, 'Bar plot of video game count per genre')"
            ]
          },
          "metadata": {},
          "execution_count": 31
        },
        {
          "output_type": "display_data",
          "data": {
            "text/plain": [
              "<Figure size 432x432 with 1 Axes>"
            ],
            "image/png": "[encoded data removed]"
          },
          "metadata": {
            "needs_background": "light"
          }
        }
      ],
      "source": [
        "genre_sales_count.plot.barh(figsize=(6,6)).invert_yaxis()\n",
        "plt.xlabel('Total Global Sales (in millions)')\n",
        "plt.ylabel('Genre')\n",
        "plt.title('Bar plot of video game count per genre')"
      ],
      "id": "5KKY77d-fWuk"
    },
    {
      "cell_type": "markdown",
      "metadata": {
        "id": "PNUjGiJBfZl0"
      },
      "source": [
        "We can see that the three most popular video game genres are `Action`, `Sports`, and `Shooter`. The `Action` genre has the most global sales with 1761.97 million sales, which is equivalent to 1.76 billion sales.\n",
        "\n",
        "Meanwhile, the three least popular genres are `Strategy`, `Adventure` and `Puzzle`. The `Strategy` genre has the lowest global sales with only 175.72 million sales, equating to 0.18 billion sales.\n",
        "\n",
        "Let us see if these rankings hold true in each region by getting the total amount of sales per region in each genre."
      ],
      "id": "PNUjGiJBfZl0"
    },
    {
      "cell_type": "code",
      "execution_count": null,
      "metadata": {
        "colab": {
          "base_uri": "https://localhost:8080/"
        },
        "id": "1xmwISHXk0Un",
        "outputId": "89bf4d85-4675-4ac1-f59a-d75d77ae4964"
      },
      "outputs": [
        {
          "output_type": "display_data",
          "data": {
            "text/plain": [
              "Genre        Action  Adventure  Fighting    Misc  Platform  Puzzle  Racing  \\\n",
              "NA_Sales     885.32     106.25    224.13  409.81    446.84  123.14  360.51   \n",
              "EU_Sales     525.31      64.43    100.74  214.64    201.87   50.22  237.60   \n",
              "JP_Sales     163.65      53.90     87.88  108.68    131.37   57.39   56.84   \n",
              "Other_Sales  186.56      16.76     36.51   74.91     51.38   12.40   76.38   \n",
              "\n",
              "Genre        Role-Playing  Shooter  Simulation  Sports  Strategy  \n",
              "NA_Sales           336.74   600.01      182.69  688.60     68.93  \n",
              "EU_Sales           193.51   321.82      114.94  380.16     45.66  \n",
              "JP_Sales           358.02    39.02       64.12  135.80     49.87  \n",
              "Other_Sales         61.11   106.03       30.86  135.70     10.94  "
            ],
            "text/html": [
              "\n",
              "  <div id=\"df-f5a5473c-59f3-4fc2-8dc4-69da1713414e\">\n",
              "    <div class=\"colab-df-container\">\n",
              "      <div>\n",
              "<style scoped>\n",
              "    .dataframe tbody tr th:only-of-type {\n",
              "        vertical-align: middle;\n",
              "    }\n",
              "\n",
              "    .dataframe tbody tr th {\n",
              "        vertical-align: top;\n",
              "    }\n",
              "\n",
              "    .dataframe thead th {\n",
              "        text-align: right;\n",
              "    }\n",
              "</style>\n",
              "<table border=\"1\" class=\"dataframe\">\n",
              "  <thead>\n",
              "    <tr style=\"text-align: right;\">\n",
              "      <th>Genre</th>\n",
              "      <th>Action</th>\n",
              "      <th>Adventure</th>\n",
              "      <th>Fighting</th>\n",
              "      <th>Misc</th>\n",
              "      <th>Platform</th>\n",
              "      <th>Puzzle</th>\n",
              "      <th>Racing</th>\n",
              "      <th>Role-Playing</th>\n",
              "      <th>Shooter</th>\n",
              "      <th>Simulation</th>\n",
              "      <th>Sports</th>\n",
              "      <th>Strategy</th>\n",
              "    </tr>\n",
              "  </thead>\n",
              "  <tbody>\n",
              "    <tr>\n",
              "      <th>NA_Sales</th>\n",
              "      <td>885.32</td>\n",
              "      <td>106.25</td>\n",
              "      <td>224.13</td>\n",
              "      <td>409.81</td>\n",
              "      <td>446.84</td>\n",
              "      <td>123.14</td>\n",
              "      <td>360.51</td>\n",
              "      <td>336.74</td>\n",
              "      <td>600.01</td>\n",
              "      <td>182.69</td>\n",
              "      <td>688.60</td>\n",
              "      <td>68.93</td>\n",
              "    </tr>\n",
              "    <tr>\n",
              "      <th>EU_Sales</th>\n",
              "      <td>525.31</td>\n",
              "      <td>64.43</td>\n",
              "      <td>100.74</td>\n",
              "      <td>214.64</td>\n",
              "      <td>201.87</td>\n",
              "      <td>50.22</td>\n",
              "      <td>237.60</td>\n",
              "      <td>193.51</td>\n",
              "      <td>321.82</td>\n",
              "      <td>114.94</td>\n",
              "      <td>380.16</td>\n",
              "      <td>45.66</td>\n",
              "    </tr>\n",
              "    <tr>\n",
              "      <th>JP_Sales</th>\n",
              "      <td>163.65</td>\n",
              "      <td>53.90</td>\n",
              "      <td>87.88</td>\n",
              "      <td>108.68</td>\n",
              "      <td>131.37</td>\n",
              "      <td>57.39</td>\n",
              "      <td>56.84</td>\n",
              "      <td>358.02</td>\n",
              "      <td>39.02</td>\n",
              "      <td>64.12</td>\n",
              "      <td>135.80</td>\n",
              "      <td>49.87</td>\n",
              "    </tr>\n",
              "    <tr>\n",
              "      <th>Other_Sales</th>\n",
              "      <td>186.56</td>\n",
              "      <td>16.76</td>\n",
              "      <td>36.51</td>\n",
              "      <td>74.91</td>\n",
              "      <td>51.38</td>\n",
              "      <td>12.40</td>\n",
              "      <td>76.38</td>\n",
              "      <td>61.11</td>\n",
              "      <td>106.03</td>\n",
              "      <td>30.86</td>\n",
              "      <td>135.70</td>\n",
              "      <td>10.94</td>\n",
              "    </tr>\n",
              "  </tbody>\n",
              "</table>\n",
              "</div>\n",
              "      <button class=\"colab-df-convert\" onclick=\"convertToInteractive('df-f5a5473c-59f3-4fc2-8dc4-69da1713414e')\"\n",
              "              title=\"Convert this dataframe to an interactive table.\"\n",
              "              style=\"display:none;\">\n",
              "        \n",
              "  <svg xmlns=\"http://www.w3.org/2000/svg\" height=\"24px\"viewBox=\"0 0 24 24\"\n",
              "       width=\"24px\">\n",
              "    <path d=\"M0 0h24v24H0V0z\" fill=\"none\"/>\n",
              "    <path d=\"M18.56 5.44l.94 2.06.94-2.06 2.06-.94-2.06-.94-.94-2.06-.94 2.06-2.06.94zm-11 1L8.5 8.5l.94-2.06 2.06-.94-2.06-.94L8.5 2.5l-.94 2.06-2.06.94zm10 10l.94 2.06.94-2.06 2.06-.94-2.06-.94-.94-2.06-.94 2.06-2.06.94z\"/><path d=\"M17.41 7.96l-1.37-1.37c-.4-.4-.92-.59-1.43-.59-.52 0-1.04.2-1.43.59L10.3 9.45l-7.72 7.72c-.78.78-.78 2.05 0 2.83L4 21.41c.39.39.9.59 1.41.59.51 0 1.02-.2 1.41-.59l7.78-7.78 2.81-2.81c.8-.78.8-2.07 0-2.86zM5.41 20L4 18.59l7.72-7.72 1.47 1.35L5.41 20z\"/>\n",
              "  </svg>\n",
              "      </button>\n",
              "      \n",
              "  <style>\n",
              "    .colab-df-container {\n",
              "      display:flex;\n",
              "      flex-wrap:wrap;\n",
              "      gap: 12px;\n",
              "    }\n",
              "\n",
              "    .colab-df-convert {\n",
              "      background-color: #E8F0FE;\n",
              "      border: none;\n",
              "      border-radius: 50%;\n",
              "      cursor: pointer;\n",
              "      display: none;\n",
              "      fill: #1967D2;\n",
              "      height: 32px;\n",
              "      padding: 0 0 0 0;\n",
              "      width: 32px;\n",
              "    }\n",
              "\n",
              "    .colab-df-convert:hover {\n",
              "      background-color: #E2EBFA;\n",
              "      box-shadow: 0px 1px 2px rgba(60, 64, 67, 0.3), 0px 1px 3px 1px rgba(60, 64, 67, 0.15);\n",
              "      fill: #174EA6;\n",
              "    }\n",
              "\n",
              "    [theme=dark] .colab-df-convert {\n",
              "      background-color: #3B4455;\n",
              "      fill: #D2E3FC;\n",
              "    }\n",
              "\n",
              "    [theme=dark] .colab-df-convert:hover {\n",
              "      background-color: #434B5C;\n",
              "      box-shadow: 0px 1px 3px 1px rgba(0, 0, 0, 0.15);\n",
              "      filter: drop-shadow(0px 1px 2px rgba(0, 0, 0, 0.3));\n",
              "      fill: #FFFFFF;\n",
              "    }\n",
              "  </style>\n",
              "\n",
              "      <script>\n",
              "        const buttonEl =\n",
              "          document.querySelector('#df-f5a5473c-59f3-4fc2-8dc4-69da1713414e button.colab-df-convert');\n",
              "        buttonEl.style.display =\n",
              "          google.colab.kernel.accessAllowed ? 'block' : 'none';\n",
              "\n",
              "        async function convertToInteractive(key) {\n",
              "          const element = document.querySelector('#df-f5a5473c-59f3-4fc2-8dc4-69da1713414e');\n",
              "          const dataTable =\n",
              "            await google.colab.kernel.invokeFunction('convertToInteractive',\n",
              "                                                     [key], {});\n",
              "          if (!dataTable) return;\n",
              "\n",
              "          const docLinkHtml = 'Like what you see? Visit the ' +\n",
              "            '<a target=\"_blank\" href=https://colab.research.google.com/notebooks/data_table.ipynb>data table notebook</a>'\n",
              "            + ' to learn more about interactive tables.';\n",
              "          element.innerHTML = '';\n",
              "          dataTable['output_type'] = 'display_data';\n",
              "          await google.colab.output.renderOutput(dataTable, element);\n",
              "          const docLink = document.createElement('div');\n",
              "          docLink.innerHTML = docLinkHtml;\n",
              "          element.appendChild(docLink);\n",
              "        }\n",
              "      </script>\n",
              "    </div>\n",
              "  </div>\n",
              "  "
            ]
          },
          "metadata": {}
        }
      ],
      "source": [
        "regional_sales_by_genre_df = cleaned_df.groupby('Genre').agg({'NA_Sales': 'sum', 'EU_Sales': 'sum', 'JP_Sales': 'sum', 'Other_Sales': 'sum'})\n",
        "regional_sales_sum = regional_sales_by_genre_df.sum()\n",
        "regional_sales_by_genre_df = regional_sales_by_genre_df.T\n",
        "display(regional_sales_by_genre_df)"
      ],
      "id": "1xmwISHXk0Un"
    },
    {
      "cell_type": "markdown",
      "metadata": {
        "id": "OUgrYtQumCJW"
      },
      "source": [
        "Using the values above, we can visualize the total number of sales of each genre by region by using bar plots."
      ],
      "id": "OUgrYtQumCJW"
    },
    {
      "cell_type": "code",
      "execution_count": null,
      "metadata": {
        "colab": {
          "base_uri": "https://localhost:8080/"
        },
        "id": "gkmTbjDkum9J",
        "outputId": "e4670ca6-4ee0-4124-df65-9fd5c64331b7"
      },
      "outputs": [
        {
          "output_type": "display_data",
          "data": {
            "text/plain": [
              "<matplotlib.axes._subplots.AxesSubplot at 0x7fd25d54c490>"
            ]
          },
          "metadata": {}
        },
        {
          "output_type": "execute_result",
          "data": {
            "text/plain": [
              "Text(0.5, 1.0, 'Total NA Sales in each Genre')"
            ]
          },
          "metadata": {},
          "execution_count": 33
        },
        {
          "output_type": "display_data",
          "data": {
            "text/plain": [
              "<Figure size 432x288 with 1 Axes>"
            ],
            "image/png": "[encoded data removed]"
          },
          "metadata": {
            "needs_background": "light"
          }
        }
      ],
      "source": [
        "display(regional_sales_by_genre_df.iloc[0].sort_values().plot.barh(rot=1))\n",
        "plt.title('Total NA Sales in each Genre')"
      ],
      "id": "gkmTbjDkum9J"
    },
    {
      "cell_type": "code",
      "execution_count": null,
      "metadata": {
        "colab": {
          "base_uri": "https://localhost:8080/"
        },
        "id": "96lBP3IaxsnB",
        "outputId": "f6e2660a-5a5b-4a25-8f4d-8bf743735857"
      },
      "outputs": [
        {
          "output_type": "display_data",
          "data": {
            "text/plain": [
              "<matplotlib.axes._subplots.AxesSubplot at 0x7fd25d4c9a60>"
            ]
          },
          "metadata": {}
        },
        {
          "output_type": "execute_result",
          "data": {
            "text/plain": [
              "Text(0.5, 1.0, 'Total EU Sales in each Genre')"
            ]
          },
          "metadata": {},
          "execution_count": 34
        },
        {
          "output_type": "display_data",
          "data": {
            "text/plain": [
              "<Figure size 432x288 with 1 Axes>"
            ],
            "image/png": "[encoded data removed]"
          },
          "metadata": {
            "needs_background": "light"
          }
        }
      ],
      "source": [
        "display(regional_sales_by_genre_df.iloc[1].sort_values().plot.barh(rot=1))\n",
        "plt.title('Total EU Sales in each Genre')"
      ],
      "id": "96lBP3IaxsnB"
    },
    {
      "cell_type": "code",
      "execution_count": null,
      "metadata": {
        "colab": {
          "base_uri": "https://localhost:8080/"
        },
        "id": "iDsMxlT0x3fa",
        "outputId": "b9dfdad1-9b1b-4c27-8f12-fa3631099288"
      },
      "outputs": [
        {
          "output_type": "display_data",
          "data": {
            "text/plain": [
              "<matplotlib.axes._subplots.AxesSubplot at 0x7fd25d4c7820>"
            ]
          },
          "metadata": {}
        },
        {
          "output_type": "execute_result",
          "data": {
            "text/plain": [
              "Text(0.5, 1.0, 'Total JP Sales in each Genre')"
            ]
          },
          "metadata": {},
          "execution_count": 35
        },
        {
          "output_type": "display_data",
          "data": {
            "text/plain": [
              "<Figure size 432x288 with 1 Axes>"
            ],
            "image/png": "[encoded data removed]"
          },
          "metadata": {
            "needs_background": "light"
          }
        }
      ],
      "source": [
        "display(regional_sales_by_genre_df.iloc[2].sort_values().plot.barh(rot=1))\n",
        "plt.title('Total JP Sales in each Genre')"
      ],
      "id": "iDsMxlT0x3fa"
    },
    {
      "cell_type": "markdown",
      "metadata": {
        "id": "F4iEqNXBxjkB"
      },
      "source": [
        "display(regional_sales_by_genre_df.iloc[1].sort_values().plot.barh(rot=1))\n",
        "plt.title('Total NA Sales in each Genre')"
      ],
      "id": "F4iEqNXBxjkB"
    },
    {
      "cell_type": "code",
      "execution_count": null,
      "metadata": {
        "colab": {
          "base_uri": "https://localhost:8080/"
        },
        "id": "d41i3pVix7iZ",
        "outputId": "24a1d6b8-56cd-4393-b056-724ce2925d56"
      },
      "outputs": [
        {
          "output_type": "display_data",
          "data": {
            "text/plain": [
              "<matplotlib.axes._subplots.AxesSubplot at 0x7fd25d3cae20>"
            ]
          },
          "metadata": {}
        },
        {
          "output_type": "execute_result",
          "data": {
            "text/plain": [
              "Text(0.5, 1.0, 'Total Other Region Sales in each Genre')"
            ]
          },
          "metadata": {},
          "execution_count": 36
        },
        {
          "output_type": "display_data",
          "data": {
            "text/plain": [
              "<Figure size 432x288 with 1 Axes>"
            ],
            "image/png": "[encoded data removed]"
          },
          "metadata": {
            "needs_background": "light"
          }
        }
      ],
      "source": [
        "display(regional_sales_by_genre_df.iloc[3].sort_values().plot.barh(rot=1))\n",
        "plt.title('Total Other Region Sales in each Genre')"
      ],
      "id": "d41i3pVix7iZ"
    },
    {
      "cell_type": "code",
      "execution_count": null,
      "metadata": {
        "colab": {
          "base_uri": "https://localhost:8080/"
        },
        "id": "uYBGsp7QmNhl",
        "outputId": "671ba969-ab8e-46e6-ca84-f90542afe8a3"
      },
      "outputs": [
        {
          "output_type": "execute_result",
          "data": {
            "text/plain": [
              "Text(0.5, 1.0, 'Total Sales in each Genre by Region')"
            ]
          },
          "metadata": {},
          "execution_count": 37
        },
        {
          "output_type": "display_data",
          "data": {
            "text/plain": [
              "<Figure size 1440x576 with 1 Axes>"
            ],
            "image/png": "[encoded data removed]"
          },
          "metadata": {
            "needs_background": "light"
          }
        }
      ],
      "source": [
        "regional_sales_by_genre_df.plot.bar(figsize=(20,8), rot=1)\n",
        "plt.title('Total Sales in each Genre by Region')"
      ],
      "id": "uYBGsp7QmNhl"
    },
    {
      "cell_type": "markdown",
      "metadata": {
        "id": "NPkDekLZmh1f"
      },
      "source": [
        "Based on the bar plots above, the top three genres for North America, Europe and Other regions match with the top three genres in global sales, being `Action`, `Sports`, and `Shooter`, respectively. The `Action` genre indeed has the most sales in North America with 885.32 million, Europe with 525.31 million, and Other regions with 186.56 million. Meanwhile, the lowest sales in the three regions also match the three lowest in global sales, being `Strategy`, `Puzzle`, and `Adventure`. `Strategy` has the lowest sales in all three regions with only 68.93 million in North America, 45.66 million in Europe, and 10.94 million in Other regions. `Puzzle` is the second lowest in Europe and Other regions, and `Adventure` in North America.\n",
        "\n",
        "Interestingly, the `Role-Playing` genre has the most sales in Japan with 358.02 million, even if it is only the 4th most popular genre in global sales. The next most sales in Japan are `Action` and `Sports`, respectively. Meanwhile, Japan's lowest sales belongs to the `Shooter` genre with only 39.02 million, which has the second highest sales in the other regions. The next lowest sales in Japan are `Strategy` and `Aventure`, respectively.\n",
        "\n",
        "Here are other interesting observations:\n",
        "- `Misc` has the fifth highest sales in all regions, despite it only being sixth in the overall global sales.\n",
        "- Europe and Other regions have the most similar rankings, with eight out of twelve genres having the same rank.\n",
        "- `Action` and `Sports` are always in the top three highest sales in each region. Meanwhile, `Strategy` and `Adventure` are always in the bottom three.\n"
      ],
      "id": "NPkDekLZmh1f"
    },
    {
      "cell_type": "markdown",
      "metadata": {
        "id": "DY_aRw9HNOoQ"
      },
      "source": [
        "## EDA Question 2: Do Nintendo video games have higher sales in Japan relative to other publishers?"
      ],
      "id": "DY_aRw9HNOoQ"
    },
    {
      "cell_type": "markdown",
      "metadata": {
        "id": "jlUaE84LSpnV"
      },
      "source": [
        "Nintendo is a Japanese game company that is well known worldwide for iconic video game franchises like Super Mario. It is assumed that because of Nintendo's worldwide appeal in the gaming industry, Nintendo games must be one of the best selling publishers in their home country as well, which is Japan. We will be exploring if this assumption holds true for this data set.\n",
        "\n",
        "The variables of interest are:\n",
        "- **`JP_Sales`**: sales in Japan (in millions)\n",
        "- **`Publisher`**: publisher of the game"
      ],
      "id": "jlUaE84LSpnV"
    },
    {
      "cell_type": "code",
      "execution_count": null,
      "metadata": {
        "colab": {
          "base_uri": "https://localhost:8080/"
        },
        "id": "-HJJAMonN9nS",
        "outputId": "92ea167b-e19a-4b28-ed7f-2b3b22ae92f3"
      },
      "outputs": [
        {
          "output_type": "execute_result",
          "data": {
            "text/plain": [
              "                             JP_Sales                 \n",
              "                                 mean       std median\n",
              "Publisher                                             \n",
              "10TACLE Studios                  0.00  0.000000   0.00\n",
              "1C Company                       0.00  0.000000   0.00\n",
              "20th Century Fox Video Games     0.00  0.000000   0.00\n",
              "2D Boy                           0.00       NaN   0.00\n",
              "3 O'Clock                        0.03       NaN   0.03\n",
              "...                               ...       ...    ...\n",
              "id Software                      0.00       NaN   0.00\n",
              "imageepoch Inc.                  0.02  0.014142   0.02\n",
              "inXile Entertainment             0.00       NaN   0.00\n",
              "mixi, Inc                        0.88       NaN   0.88\n",
              "responDESIGN                     0.00  0.000000   0.00\n",
              "\n",
              "[627 rows x 3 columns]"
            ],
            "text/html": [
              "\n",
              "  <div id=\"df-7ebdf67d-55ac-44e0-b5e0-5a80fb57d88e\">\n",
              "    <div class=\"colab-df-container\">\n",
              "      <div>\n",
              "<style scoped>\n",
              "    .dataframe tbody tr th:only-of-type {\n",
              "        vertical-align: middle;\n",
              "    }\n",
              "\n",
              "    .dataframe tbody tr th {\n",
              "        vertical-align: top;\n",
              "    }\n",
              "\n",
              "    .dataframe thead tr th {\n",
              "        text-align: left;\n",
              "    }\n",
              "\n",
              "    .dataframe thead tr:last-of-type th {\n",
              "        text-align: right;\n",
              "    }\n",
              "</style>\n",
              "<table border=\"1\" class=\"dataframe\">\n",
              "  <thead>\n",
              "    <tr>\n",
              "      <th></th>\n",
              "      <th colspan=\"3\" halign=\"left\">JP_Sales</th>\n",
              "    </tr>\n",
              "    <tr>\n",
              "      <th></th>\n",
              "      <th>mean</th>\n",
              "      <th>std</th>\n",
              "      <th>median</th>\n",
              "    </tr>\n",
              "    <tr>\n",
              "      <th>Publisher</th>\n",
              "      <th></th>\n",
              "      <th></th>\n",
              "      <th></th>\n",
              "    </tr>\n",
              "  </thead>\n",
              "  <tbody>\n",
              "    <tr>\n",
              "      <th>10TACLE Studios</th>\n",
              "      <td>0.00</td>\n",
              "      <td>0.000000</td>\n",
              "      <td>0.00</td>\n",
              "    </tr>\n",
              "    <tr>\n",
              "      <th>1C Company</th>\n",
              "      <td>0.00</td>\n",
              "      <td>0.000000</td>\n",
              "      <td>0.00</td>\n",
              "    </tr>\n",
              "    <tr>\n",
              "      <th>20th Century Fox Video Games</th>\n",
              "      <td>0.00</td>\n",
              "      <td>0.000000</td>\n",
              "      <td>0.00</td>\n",
              "    </tr>\n",
              "    <tr>\n",
              "      <th>2D Boy</th>\n",
              "      <td>0.00</td>\n",
              "      <td>NaN</td>\n",
              "      <td>0.00</td>\n",
              "    </tr>\n",
              "    <tr>\n",
              "      <th>3 O'Clock</th>\n",
              "      <td>0.03</td>\n",
              "      <td>NaN</td>\n",
              "      <td>0.03</td>\n",
              "    </tr>\n",
              "    <tr>\n",
              "      <th>...</th>\n",
              "      <td>...</td>\n",
              "      <td>...</td>\n",
              "      <td>...</td>\n",
              "    </tr>\n",
              "    <tr>\n",
              "      <th>id Software</th>\n",
              "      <td>0.00</td>\n",
              "      <td>NaN</td>\n",
              "      <td>0.00</td>\n",
              "    </tr>\n",
              "    <tr>\n",
              "      <th>imageepoch Inc.</th>\n",
              "      <td>0.02</td>\n",
              "      <td>0.014142</td>\n",
              "      <td>0.02</td>\n",
              "    </tr>\n",
              "    <tr>\n",
              "      <th>inXile Entertainment</th>\n",
              "      <td>0.00</td>\n",
              "      <td>NaN</td>\n",
              "      <td>0.00</td>\n",
              "    </tr>\n",
              "    <tr>\n",
              "      <th>mixi, Inc</th>\n",
              "      <td>0.88</td>\n",
              "      <td>NaN</td>\n",
              "      <td>0.88</td>\n",
              "    </tr>\n",
              "    <tr>\n",
              "      <th>responDESIGN</th>\n",
              "      <td>0.00</td>\n",
              "      <td>0.000000</td>\n",
              "      <td>0.00</td>\n",
              "    </tr>\n",
              "  </tbody>\n",
              "</table>\n",
              "<p>627 rows × 3 columns</p>\n",
              "</div>\n",
              "      <button class=\"colab-df-convert\" onclick=\"convertToInteractive('df-7ebdf67d-55ac-44e0-b5e0-5a80fb57d88e')\"\n",
              "              title=\"Convert this dataframe to an interactive table.\"\n",
              "              style=\"display:none;\">\n",
              "        \n",
              "  <svg xmlns=\"http://www.w3.org/2000/svg\" height=\"24px\"viewBox=\"0 0 24 24\"\n",
              "       width=\"24px\">\n",
              "    <path d=\"M0 0h24v24H0V0z\" fill=\"none\"/>\n",
              "    <path d=\"M18.56 5.44l.94 2.06.94-2.06 2.06-.94-2.06-.94-.94-2.06-.94 2.06-2.06.94zm-11 1L8.5 8.5l.94-2.06 2.06-.94-2.06-.94L8.5 2.5l-.94 2.06-2.06.94zm10 10l.94 2.06.94-2.06 2.06-.94-2.06-.94-.94-2.06-.94 2.06-2.06.94z\"/><path d=\"M17.41 7.96l-1.37-1.37c-.4-.4-.92-.59-1.43-.59-.52 0-1.04.2-1.43.59L10.3 9.45l-7.72 7.72c-.78.78-.78 2.05 0 2.83L4 21.41c.39.39.9.59 1.41.59.51 0 1.02-.2 1.41-.59l7.78-7.78 2.81-2.81c.8-.78.8-2.07 0-2.86zM5.41 20L4 18.59l7.72-7.72 1.47 1.35L5.41 20z\"/>\n",
              "  </svg>\n",
              "      </button>\n",
              "      \n",
              "  <style>\n",
              "    .colab-df-container {\n",
              "      display:flex;\n",
              "      flex-wrap:wrap;\n",
              "      gap: 12px;\n",
              "    }\n",
              "\n",
              "    .colab-df-convert {\n",
              "      background-color: #E8F0FE;\n",
              "      border: none;\n",
              "      border-radius: 50%;\n",
              "      cursor: pointer;\n",
              "      display: none;\n",
              "      fill: #1967D2;\n",
              "      height: 32px;\n",
              "      padding: 0 0 0 0;\n",
              "      width: 32px;\n",
              "    }\n",
              "\n",
              "    .colab-df-convert:hover {\n",
              "      background-color: #E2EBFA;\n",
              "      box-shadow: 0px 1px 2px rgba(60, 64, 67, 0.3), 0px 1px 3px 1px rgba(60, 64, 67, 0.15);\n",
              "      fill: #174EA6;\n",
              "    }\n",
              "\n",
              "    [theme=dark] .colab-df-convert {\n",
              "      background-color: #3B4455;\n",
              "      fill: #D2E3FC;\n",
              "    }\n",
              "\n",
              "    [theme=dark] .colab-df-convert:hover {\n",
              "      background-color: #434B5C;\n",
              "      box-shadow: 0px 1px 3px 1px rgba(0, 0, 0, 0.15);\n",
              "      filter: drop-shadow(0px 1px 2px rgba(0, 0, 0, 0.3));\n",
              "      fill: #FFFFFF;\n",
              "    }\n",
              "  </style>\n",
              "\n",
              "      <script>\n",
              "        const buttonEl =\n",
              "          document.querySelector('#df-7ebdf67d-55ac-44e0-b5e0-5a80fb57d88e button.colab-df-convert');\n",
              "        buttonEl.style.display =\n",
              "          google.colab.kernel.accessAllowed ? 'block' : 'none';\n",
              "\n",
              "        async function convertToInteractive(key) {\n",
              "          const element = document.querySelector('#df-7ebdf67d-55ac-44e0-b5e0-5a80fb57d88e');\n",
              "          const dataTable =\n",
              "            await google.colab.kernel.invokeFunction('convertToInteractive',\n",
              "                                                     [key], {});\n",
              "          if (!dataTable) return;\n",
              "\n",
              "          const docLinkHtml = 'Like what you see? Visit the ' +\n",
              "            '<a target=\"_blank\" href=https://colab.research.google.com/notebooks/data_table.ipynb>data table notebook</a>'\n",
              "            + ' to learn more about interactive tables.';\n",
              "          element.innerHTML = '';\n",
              "          dataTable['output_type'] = 'display_data';\n",
              "          await google.colab.output.renderOutput(dataTable, element);\n",
              "          const docLink = document.createElement('div');\n",
              "          docLink.innerHTML = docLinkHtml;\n",
              "          element.appendChild(docLink);\n",
              "        }\n",
              "      </script>\n",
              "    </div>\n",
              "  </div>\n",
              "  "
            ]
          },
          "metadata": {},
          "execution_count": 38
        }
      ],
      "source": [
        "agg_df = cleaned_df.groupby('Publisher').agg({\"JP_Sales\": [\"mean\", \"std\", \"median\"]})\n",
        "agg_df"
      ],
      "id": "-HJJAMonN9nS"
    },
    {
      "cell_type": "markdown",
      "metadata": {
        "id": "RvBLO36wUMrN"
      },
      "source": [
        "Some Publishers have a mean, standard deviation, and median of 0. These are going to be dropped because this means the publisher had none of their games reach 10,000 `JP_Sales` in the data set."
      ],
      "id": "RvBLO36wUMrN"
    },
    {
      "cell_type": "code",
      "execution_count": null,
      "metadata": {
        "colab": {
          "base_uri": "https://localhost:8080/"
        },
        "id": "OVS3imvfN-mg",
        "outputId": "f514aa0e-4beb-4652-bc7b-6e0dbb95bb36"
      },
      "outputs": [
        {
          "output_type": "execute_result",
          "data": {
            "text/plain": [
              "                     JP_Sales                 \n",
              "                         mean       std median\n",
              "Publisher                                     \n",
              "3 O'Clock            0.030000       NaN  0.030\n",
              "5p                   0.021818  0.017911  0.020\n",
              "AQ Interactive       0.022000  0.014832  0.020\n",
              "ASCII Entertainment  0.470000  0.522887  0.300\n",
              "ASCII Media Works    0.028000  0.017512  0.020\n",
              "...                       ...       ...    ...\n",
              "Zenrin               0.030000  0.014142  0.030\n",
              "dramatic create      0.017000  0.008233  0.015\n",
              "fonfun               0.020000       NaN  0.020\n",
              "imageepoch Inc.      0.020000  0.014142  0.020\n",
              "mixi, Inc            0.880000       NaN  0.880\n",
              "\n",
              "[246 rows x 3 columns]"
            ],
            "text/html": [
              "\n",
              "  <div id=\"df-33445800-2eba-4e53-8e45-317fbfa8c28b\">\n",
              "    <div class=\"colab-df-container\">\n",
              "      <div>\n",
              "<style scoped>\n",
              "    .dataframe tbody tr th:only-of-type {\n",
              "        vertical-align: middle;\n",
              "    }\n",
              "\n",
              "    .dataframe tbody tr th {\n",
              "        vertical-align: top;\n",
              "    }\n",
              "\n",
              "    .dataframe thead tr th {\n",
              "        text-align: left;\n",
              "    }\n",
              "\n",
              "    .dataframe thead tr:last-of-type th {\n",
              "        text-align: right;\n",
              "    }\n",
              "</style>\n",
              "<table border=\"1\" class=\"dataframe\">\n",
              "  <thead>\n",
              "    <tr>\n",
              "      <th></th>\n",
              "      <th colspan=\"3\" halign=\"left\">JP_Sales</th>\n",
              "    </tr>\n",
              "    <tr>\n",
              "      <th></th>\n",
              "      <th>mean</th>\n",
              "      <th>std</th>\n",
              "      <th>median</th>\n",
              "    </tr>\n",
              "    <tr>\n",
              "      <th>Publisher</th>\n",
              "      <th></th>\n",
              "      <th></th>\n",
              "      <th></th>\n",
              "    </tr>\n",
              "  </thead>\n",
              "  <tbody>\n",
              "    <tr>\n",
              "      <th>3 O'Clock</th>\n",
              "      <td>0.030000</td>\n",
              "      <td>NaN</td>\n",
              "      <td>0.030</td>\n",
              "    </tr>\n",
              "    <tr>\n",
              "      <th>5p</th>\n",
              "      <td>0.021818</td>\n",
              "      <td>0.017911</td>\n",
              "      <td>0.020</td>\n",
              "    </tr>\n",
              "    <tr>\n",
              "      <th>AQ Interactive</th>\n",
              "      <td>0.022000</td>\n",
              "      <td>0.014832</td>\n",
              "      <td>0.020</td>\n",
              "    </tr>\n",
              "    <tr>\n",
              "      <th>ASCII Entertainment</th>\n",
              "      <td>0.470000</td>\n",
              "      <td>0.522887</td>\n",
              "      <td>0.300</td>\n",
              "    </tr>\n",
              "    <tr>\n",
              "      <th>ASCII Media Works</th>\n",
              "      <td>0.028000</td>\n",
              "      <td>0.017512</td>\n",
              "      <td>0.020</td>\n",
              "    </tr>\n",
              "    <tr>\n",
              "      <th>...</th>\n",
              "      <td>...</td>\n",
              "      <td>...</td>\n",
              "      <td>...</td>\n",
              "    </tr>\n",
              "    <tr>\n",
              "      <th>Zenrin</th>\n",
              "      <td>0.030000</td>\n",
              "      <td>0.014142</td>\n",
              "      <td>0.030</td>\n",
              "    </tr>\n",
              "    <tr>\n",
              "      <th>dramatic create</th>\n",
              "      <td>0.017000</td>\n",
              "      <td>0.008233</td>\n",
              "      <td>0.015</td>\n",
              "    </tr>\n",
              "    <tr>\n",
              "      <th>fonfun</th>\n",
              "      <td>0.020000</td>\n",
              "      <td>NaN</td>\n",
              "      <td>0.020</td>\n",
              "    </tr>\n",
              "    <tr>\n",
              "      <th>imageepoch Inc.</th>\n",
              "      <td>0.020000</td>\n",
              "      <td>0.014142</td>\n",
              "      <td>0.020</td>\n",
              "    </tr>\n",
              "    <tr>\n",
              "      <th>mixi, Inc</th>\n",
              "      <td>0.880000</td>\n",
              "      <td>NaN</td>\n",
              "      <td>0.880</td>\n",
              "    </tr>\n",
              "  </tbody>\n",
              "</table>\n",
              "<p>246 rows × 3 columns</p>\n",
              "</div>\n",
              "      <button class=\"colab-df-convert\" onclick=\"convertToInteractive('df-33445800-2eba-4e53-8e45-317fbfa8c28b')\"\n",
              "              title=\"Convert this dataframe to an interactive table.\"\n",
              "              style=\"display:none;\">\n",
              "        \n",
              "  <svg xmlns=\"http://www.w3.org/2000/svg\" height=\"24px\"viewBox=\"0 0 24 24\"\n",
              "       width=\"24px\">\n",
              "    <path d=\"M0 0h24v24H0V0z\" fill=\"none\"/>\n",
              "    <path d=\"M18.56 5.44l.94 2.06.94-2.06 2.06-.94-2.06-.94-.94-2.06-.94 2.06-2.06.94zm-11 1L8.5 8.5l.94-2.06 2.06-.94-2.06-.94L8.5 2.5l-.94 2.06-2.06.94zm10 10l.94 2.06.94-2.06 2.06-.94-2.06-.94-.94-2.06-.94 2.06-2.06.94z\"/><path d=\"M17.41 7.96l-1.37-1.37c-.4-.4-.92-.59-1.43-.59-.52 0-1.04.2-1.43.59L10.3 9.45l-7.72 7.72c-.78.78-.78 2.05 0 2.83L4 21.41c.39.39.9.59 1.41.59.51 0 1.02-.2 1.41-.59l7.78-7.78 2.81-2.81c.8-.78.8-2.07 0-2.86zM5.41 20L4 18.59l7.72-7.72 1.47 1.35L5.41 20z\"/>\n",
              "  </svg>\n",
              "      </button>\n",
              "      \n",
              "  <style>\n",
              "    .colab-df-container {\n",
              "      display:flex;\n",
              "      flex-wrap:wrap;\n",
              "      gap: 12px;\n",
              "    }\n",
              "\n",
              "    .colab-df-convert {\n",
              "      background-color: #E8F0FE;\n",
              "      border: none;\n",
              "      border-radius: 50%;\n",
              "      cursor: pointer;\n",
              "      display: none;\n",
              "      fill: #1967D2;\n",
              "      height: 32px;\n",
              "      padding: 0 0 0 0;\n",
              "      width: 32px;\n",
              "    }\n",
              "\n",
              "    .colab-df-convert:hover {\n",
              "      background-color: #E2EBFA;\n",
              "      box-shadow: 0px 1px 2px rgba(60, 64, 67, 0.3), 0px 1px 3px 1px rgba(60, 64, 67, 0.15);\n",
              "      fill: #174EA6;\n",
              "    }\n",
              "\n",
              "    [theme=dark] .colab-df-convert {\n",
              "      background-color: #3B4455;\n",
              "      fill: #D2E3FC;\n",
              "    }\n",
              "\n",
              "    [theme=dark] .colab-df-convert:hover {\n",
              "      background-color: #434B5C;\n",
              "      box-shadow: 0px 1px 3px 1px rgba(0, 0, 0, 0.15);\n",
              "      filter: drop-shadow(0px 1px 2px rgba(0, 0, 0, 0.3));\n",
              "      fill: #FFFFFF;\n",
              "    }\n",
              "  </style>\n",
              "\n",
              "      <script>\n",
              "        const buttonEl =\n",
              "          document.querySelector('#df-33445800-2eba-4e53-8e45-317fbfa8c28b button.colab-df-convert');\n",
              "        buttonEl.style.display =\n",
              "          google.colab.kernel.accessAllowed ? 'block' : 'none';\n",
              "\n",
              "        async function convertToInteractive(key) {\n",
              "          const element = document.querySelector('#df-33445800-2eba-4e53-8e45-317fbfa8c28b');\n",
              "          const dataTable =\n",
              "            await google.colab.kernel.invokeFunction('convertToInteractive',\n",
              "                                                     [key], {});\n",
              "          if (!dataTable) return;\n",
              "\n",
              "          const docLinkHtml = 'Like what you see? Visit the ' +\n",
              "            '<a target=\"_blank\" href=https://colab.research.google.com/notebooks/data_table.ipynb>data table notebook</a>'\n",
              "            + ' to learn more about interactive tables.';\n",
              "          element.innerHTML = '';\n",
              "          dataTable['output_type'] = 'display_data';\n",
              "          await google.colab.output.renderOutput(dataTable, element);\n",
              "          const docLink = document.createElement('div');\n",
              "          docLink.innerHTML = docLinkHtml;\n",
              "          element.appendChild(docLink);\n",
              "        }\n",
              "      </script>\n",
              "    </div>\n",
              "  </div>\n",
              "  "
            ]
          },
          "metadata": {},
          "execution_count": 39
        }
      ],
      "source": [
        "agg_df = agg_df[(agg_df['JP_Sales', 'mean'] != 0) & (agg_df['JP_Sales', 'median'] != 0) & (agg_df['JP_Sales', 'std'] != 0)]\n",
        "agg_df"
      ],
      "id": "OVS3imvfN-mg"
    },
    {
      "cell_type": "markdown",
      "metadata": {
        "id": "qsfWOLyN3CSH"
      },
      "source": [
        "Publishers with a standard deviation of `NaN` will be removed for to avoid Publishers with 1 hit wonders (i.e. publishers that have only published 1 game in Japan)."
      ],
      "id": "qsfWOLyN3CSH"
    },
    {
      "cell_type": "code",
      "execution_count": null,
      "metadata": {
        "colab": {
          "base_uri": "https://localhost:8080/"
        },
        "id": "uHHqhnm97EU-",
        "outputId": "db6a1ba6-c724-4d5f-b445-d37d7c3dbcaa"
      },
      "outputs": [
        {
          "output_type": "execute_result",
          "data": {
            "text/plain": [
              "                     JP_Sales                 \n",
              "                         mean       std median\n",
              "Publisher                                     \n",
              "5p                   0.021818  0.017911  0.020\n",
              "AQ Interactive       0.022000  0.014832  0.020\n",
              "ASCII Entertainment  0.470000  0.522887  0.300\n",
              "ASCII Media Works    0.028000  0.017512  0.020\n",
              "Ackkstudios          0.066000  0.096862  0.040\n",
              "...                       ...       ...    ...\n",
              "Yeti                 0.020000  0.013540  0.010\n",
              "Yukes                0.016667  0.015275  0.020\n",
              "Zenrin               0.030000  0.014142  0.030\n",
              "dramatic create      0.017000  0.008233  0.015\n",
              "imageepoch Inc.      0.020000  0.014142  0.020\n",
              "\n",
              "[150 rows x 3 columns]"
            ],
            "text/html": [
              "\n",
              "  <div id=\"df-160c9fb0-a994-47ee-9065-8d738c35b1a5\">\n",
              "    <div class=\"colab-df-container\">\n",
              "      <div>\n",
              "<style scoped>\n",
              "    .dataframe tbody tr th:only-of-type {\n",
              "        vertical-align: middle;\n",
              "    }\n",
              "\n",
              "    .dataframe tbody tr th {\n",
              "        vertical-align: top;\n",
              "    }\n",
              "\n",
              "    .dataframe thead tr th {\n",
              "        text-align: left;\n",
              "    }\n",
              "\n",
              "    .dataframe thead tr:last-of-type th {\n",
              "        text-align: right;\n",
              "    }\n",
              "</style>\n",
              "<table border=\"1\" class=\"dataframe\">\n",
              "  <thead>\n",
              "    <tr>\n",
              "      <th></th>\n",
              "      <th colspan=\"3\" halign=\"left\">JP_Sales</th>\n",
              "    </tr>\n",
              "    <tr>\n",
              "      <th></th>\n",
              "      <th>mean</th>\n",
              "      <th>std</th>\n",
              "      <th>median</th>\n",
              "    </tr>\n",
              "    <tr>\n",
              "      <th>Publisher</th>\n",
              "      <th></th>\n",
              "      <th></th>\n",
              "      <th></th>\n",
              "    </tr>\n",
              "  </thead>\n",
              "  <tbody>\n",
              "    <tr>\n",
              "      <th>5p</th>\n",
              "      <td>0.021818</td>\n",
              "      <td>0.017911</td>\n",
              "      <td>0.020</td>\n",
              "    </tr>\n",
              "    <tr>\n",
              "      <th>AQ Interactive</th>\n",
              "      <td>0.022000</td>\n",
              "      <td>0.014832</td>\n",
              "      <td>0.020</td>\n",
              "    </tr>\n",
              "    <tr>\n",
              "      <th>ASCII Entertainment</th>\n",
              "      <td>0.470000</td>\n",
              "      <td>0.522887</td>\n",
              "      <td>0.300</td>\n",
              "    </tr>\n",
              "    <tr>\n",
              "      <th>ASCII Media Works</th>\n",
              "      <td>0.028000</td>\n",
              "      <td>0.017512</td>\n",
              "      <td>0.020</td>\n",
              "    </tr>\n",
              "    <tr>\n",
              "      <th>Ackkstudios</th>\n",
              "      <td>0.066000</td>\n",
              "      <td>0.096862</td>\n",
              "      <td>0.040</td>\n",
              "    </tr>\n",
              "    <tr>\n",
              "      <th>...</th>\n",
              "      <td>...</td>\n",
              "      <td>...</td>\n",
              "      <td>...</td>\n",
              "    </tr>\n",
              "    <tr>\n",
              "      <th>Yeti</th>\n",
              "      <td>0.020000</td>\n",
              "      <td>0.013540</td>\n",
              "      <td>0.010</td>\n",
              "    </tr>\n",
              "    <tr>\n",
              "      <th>Yukes</th>\n",
              "      <td>0.016667</td>\n",
              "      <td>0.015275</td>\n",
              "      <td>0.020</td>\n",
              "    </tr>\n",
              "    <tr>\n",
              "      <th>Zenrin</th>\n",
              "      <td>0.030000</td>\n",
              "      <td>0.014142</td>\n",
              "      <td>0.030</td>\n",
              "    </tr>\n",
              "    <tr>\n",
              "      <th>dramatic create</th>\n",
              "      <td>0.017000</td>\n",
              "      <td>0.008233</td>\n",
              "      <td>0.015</td>\n",
              "    </tr>\n",
              "    <tr>\n",
              "      <th>imageepoch Inc.</th>\n",
              "      <td>0.020000</td>\n",
              "      <td>0.014142</td>\n",
              "      <td>0.020</td>\n",
              "    </tr>\n",
              "  </tbody>\n",
              "</table>\n",
              "<p>150 rows × 3 columns</p>\n",
              "</div>\n",
              "      <button class=\"colab-df-convert\" onclick=\"convertToInteractive('df-160c9fb0-a994-47ee-9065-8d738c35b1a5')\"\n",
              "              title=\"Convert this dataframe to an interactive table.\"\n",
              "              style=\"display:none;\">\n",
              "        \n",
              "  <svg xmlns=\"http://www.w3.org/2000/svg\" height=\"24px\"viewBox=\"0 0 24 24\"\n",
              "       width=\"24px\">\n",
              "    <path d=\"M0 0h24v24H0V0z\" fill=\"none\"/>\n",
              "    <path d=\"M18.56 5.44l.94 2.06.94-2.06 2.06-.94-2.06-.94-.94-2.06-.94 2.06-2.06.94zm-11 1L8.5 8.5l.94-2.06 2.06-.94-2.06-.94L8.5 2.5l-.94 2.06-2.06.94zm10 10l.94 2.06.94-2.06 2.06-.94-2.06-.94-.94-2.06-.94 2.06-2.06.94z\"/><path d=\"M17.41 7.96l-1.37-1.37c-.4-.4-.92-.59-1.43-.59-.52 0-1.04.2-1.43.59L10.3 9.45l-7.72 7.72c-.78.78-.78 2.05 0 2.83L4 21.41c.39.39.9.59 1.41.59.51 0 1.02-.2 1.41-.59l7.78-7.78 2.81-2.81c.8-.78.8-2.07 0-2.86zM5.41 20L4 18.59l7.72-7.72 1.47 1.35L5.41 20z\"/>\n",
              "  </svg>\n",
              "      </button>\n",
              "      \n",
              "  <style>\n",
              "    .colab-df-container {\n",
              "      display:flex;\n",
              "      flex-wrap:wrap;\n",
              "      gap: 12px;\n",
              "    }\n",
              "\n",
              "    .colab-df-convert {\n",
              "      background-color: #E8F0FE;\n",
              "      border: none;\n",
              "      border-radius: 50%;\n",
              "      cursor: pointer;\n",
              "      display: none;\n",
              "      fill: #1967D2;\n",
              "      height: 32px;\n",
              "      padding: 0 0 0 0;\n",
              "      width: 32px;\n",
              "    }\n",
              "\n",
              "    .colab-df-convert:hover {\n",
              "      background-color: #E2EBFA;\n",
              "      box-shadow: 0px 1px 2px rgba(60, 64, 67, 0.3), 0px 1px 3px 1px rgba(60, 64, 67, 0.15);\n",
              "      fill: #174EA6;\n",
              "    }\n",
              "\n",
              "    [theme=dark] .colab-df-convert {\n",
              "      background-color: #3B4455;\n",
              "      fill: #D2E3FC;\n",
              "    }\n",
              "\n",
              "    [theme=dark] .colab-df-convert:hover {\n",
              "      background-color: #434B5C;\n",
              "      box-shadow: 0px 1px 3px 1px rgba(0, 0, 0, 0.15);\n",
              "      filter: drop-shadow(0px 1px 2px rgba(0, 0, 0, 0.3));\n",
              "      fill: #FFFFFF;\n",
              "    }\n",
              "  </style>\n",
              "\n",
              "      <script>\n",
              "        const buttonEl =\n",
              "          document.querySelector('#df-160c9fb0-a994-47ee-9065-8d738c35b1a5 button.colab-df-convert');\n",
              "        buttonEl.style.display =\n",
              "          google.colab.kernel.accessAllowed ? 'block' : 'none';\n",
              "\n",
              "        async function convertToInteractive(key) {\n",
              "          const element = document.querySelector('#df-160c9fb0-a994-47ee-9065-8d738c35b1a5');\n",
              "          const dataTable =\n",
              "            await google.colab.kernel.invokeFunction('convertToInteractive',\n",
              "                                                     [key], {});\n",
              "          if (!dataTable) return;\n",
              "\n",
              "          const docLinkHtml = 'Like what you see? Visit the ' +\n",
              "            '<a target=\"_blank\" href=https://colab.research.google.com/notebooks/data_table.ipynb>data table notebook</a>'\n",
              "            + ' to learn more about interactive tables.';\n",
              "          element.innerHTML = '';\n",
              "          dataTable['output_type'] = 'display_data';\n",
              "          await google.colab.output.renderOutput(dataTable, element);\n",
              "          const docLink = document.createElement('div');\n",
              "          docLink.innerHTML = docLinkHtml;\n",
              "          element.appendChild(docLink);\n",
              "        }\n",
              "      </script>\n",
              "    </div>\n",
              "  </div>\n",
              "  "
            ]
          },
          "metadata": {},
          "execution_count": 40
        }
      ],
      "source": [
        "agg_df = agg_df.dropna()\n",
        "agg_df"
      ],
      "id": "uHHqhnm97EU-"
    },
    {
      "cell_type": "markdown",
      "metadata": {
        "id": "nfNSEWLk9x3c"
      },
      "source": [
        "It will help to see the frequency of each mean and how often publishers reach average sales of specific values. The average means of each publisher will be plotted in a histogram."
      ],
      "id": "nfNSEWLk9x3c"
    },
    {
      "cell_type": "code",
      "execution_count": null,
      "metadata": {
        "colab": {
          "base_uri": "https://localhost:8080/"
        },
        "id": "aYTbJCSgO0NB",
        "outputId": "8adbea87-ca2d-4f13-b673-b495a52382d9"
      },
      "outputs": [
        {
          "output_type": "execute_result",
          "data": {
            "text/plain": [
              "Publisher\n",
              "5p                     0.021818\n",
              "AQ Interactive         0.022000\n",
              "ASCII Entertainment    0.470000\n",
              "ASCII Media Works      0.028000\n",
              "Ackkstudios            0.066000\n",
              "                         ...   \n",
              "Yeti                   0.020000\n",
              "Yukes                  0.016667\n",
              "Zenrin                 0.030000\n",
              "dramatic create        0.017000\n",
              "imageepoch Inc.        0.020000\n",
              "Name: (JP_Sales, mean), Length: 150, dtype: float64"
            ]
          },
          "metadata": {},
          "execution_count": 41
        }
      ],
      "source": [
        "mean_df = agg_df['JP_Sales', 'mean']\n",
        "\n",
        "mean_df"
      ],
      "id": "aYTbJCSgO0NB"
    },
    {
      "cell_type": "code",
      "execution_count": null,
      "metadata": {
        "colab": {
          "base_uri": "https://localhost:8080/"
        },
        "id": "wN_Cc2hXfIS2",
        "outputId": "d2cf5c65-7e48-4d8f-f00c-615428bf707e"
      },
      "outputs": [
        {
          "output_type": "display_data",
          "data": {
            "text/plain": [
              "<Figure size 720x432 with 1 Axes>"
            ],
            "image/png": "[encoded data removed]"
          },
          "metadata": {
            "needs_background": "light"
          }
        }
      ],
      "source": [
        "# mean_df.plot.barh(figsize=(6,7))\n",
        "\n",
        "mean_df.hist(bins=100, edgecolor='w', figsize=(10, 6))\n",
        "plt.title('Histogram of Mean Sales of Publishers')\n",
        "plt.xlabel('Average Sales in Millions')\n",
        "plt.ylabel('Number of Publishers')\n",
        "plt.show()"
      ],
      "id": "wN_Cc2hXfIS2"
    },
    {
      "cell_type": "markdown",
      "metadata": {
        "id": "BIaFUbEIliCv"
      },
      "source": [
        "It is evident in the histogram that the vast majority of the publishers in the data set that have `JP_Sales` only reach numbers below 0.2 million average sales and only a very small minority of publishers reach average sales of above 0.6 million. Because of Nintendo's reputation, it would be reasonable to assume that Nintendo is a part of the minority that can reach some of the highest average sales in the histogram. Let us take a look at the mean average sales of Nintendo."
      ],
      "id": "BIaFUbEIliCv"
    },
    {
      "cell_type": "code",
      "execution_count": null,
      "metadata": {
        "colab": {
          "base_uri": "https://localhost:8080/"
        },
        "id": "PR4jzW8haKkj",
        "outputId": "93fc010d-3601-425c-9122-b0ce903b90b9"
      },
      "outputs": [
        {
          "output_type": "execute_result",
          "data": {
            "text/plain": [
              "JP_Sales  mean      0.639723\n",
              "          std       1.052844\n",
              "          median    0.275000\n",
              "Name: Nintendo, dtype: float64"
            ]
          },
          "metadata": {},
          "execution_count": 43
        }
      ],
      "source": [
        "agg_df.loc['Nintendo']"
      ],
      "id": "PR4jzW8haKkj"
    },
    {
      "cell_type": "markdown",
      "metadata": {
        "id": "83IA2zauax09"
      },
      "source": [
        "Nintendo has a mean of 0.63 million sales, which means it is among the few publishers who have reached above 0.60 million average sales, but it is not the top performer in average sales. We will be investigating the top 20 publishers in terms of average sales since its confirmed that Nintendo will be in the list according to the histogram."
      ],
      "id": "83IA2zauax09"
    },
    {
      "cell_type": "code",
      "execution_count": null,
      "metadata": {
        "colab": {
          "base_uri": "https://localhost:8080/"
        },
        "id": "Eg0TEUpO7i9E",
        "outputId": "79af4a4a-21e5-4d42-cc4d-41e14ec5f69e"
      },
      "outputs": [
        {
          "output_type": "execute_result",
          "data": {
            "text/plain": [
              "                                    JP_Sales                 \n",
              "                                        mean       std median\n",
              "Publisher                                                    \n",
              "Enix Corporation                    1.080000  1.202632  0.605\n",
              "SquareSoft                          0.771731  0.763205  0.590\n",
              "Nintendo                            0.639723  1.052844  0.275\n",
              "ASCII Entertainment                 0.470000  0.522887  0.300\n",
              "Square                              0.433333  0.490170  0.285\n",
              "Level 5                             0.417586  0.648540  0.190\n",
              "Aruze Corp                          0.363333  0.228108  0.490\n",
              "Compile                             0.337143  0.399404  0.160\n",
              "Laguna                              0.335000  0.093274  0.330\n",
              "Elf                                 0.320000  0.056569  0.320\n",
              "Jorudan                             0.310000  0.036056  0.300\n",
              "BPS                                 0.260000  0.084853  0.260\n",
              "Hudson Soft                         0.229405  0.305414  0.095\n",
              "Banpresto                           0.222297  0.258115  0.160\n",
              "Human Entertainment                 0.216923  0.130664  0.180\n",
              "Square Enix                         0.216183  0.398413  0.070\n",
              "ChunSoft                            0.200556  0.251314  0.070\n",
              "Takara                              0.196250  0.183480  0.145\n",
              "Sony Computer Entertainment Europe  0.174000  0.264543  0.040\n",
              "Sammy Corporation                   0.173636  0.292379  0.080"
            ],
            "text/html": [
              "\n",
              "  <div id=\"df-fa1978a1-c419-4935-8668-6d526071a9de\">\n",
              "    <div class=\"colab-df-container\">\n",
              "      <div>\n",
              "<style scoped>\n",
              "    .dataframe tbody tr th:only-of-type {\n",
              "        vertical-align: middle;\n",
              "    }\n",
              "\n",
              "    .dataframe tbody tr th {\n",
              "        vertical-align: top;\n",
              "    }\n",
              "\n",
              "    .dataframe thead tr th {\n",
              "        text-align: left;\n",
              "    }\n",
              "\n",
              "    .dataframe thead tr:last-of-type th {\n",
              "        text-align: right;\n",
              "    }\n",
              "</style>\n",
              "<table border=\"1\" class=\"dataframe\">\n",
              "  <thead>\n",
              "    <tr>\n",
              "      <th></th>\n",
              "      <th colspan=\"3\" halign=\"left\">JP_Sales</th>\n",
              "    </tr>\n",
              "    <tr>\n",
              "      <th></th>\n",
              "      <th>mean</th>\n",
              "      <th>std</th>\n",
              "      <th>median</th>\n",
              "    </tr>\n",
              "    <tr>\n",
              "      <th>Publisher</th>\n",
              "      <th></th>\n",
              "      <th></th>\n",
              "      <th></th>\n",
              "    </tr>\n",
              "  </thead>\n",
              "  <tbody>\n",
              "    <tr>\n",
              "      <th>Enix Corporation</th>\n",
              "      <td>1.080000</td>\n",
              "      <td>1.202632</td>\n",
              "      <td>0.605</td>\n",
              "    </tr>\n",
              "    <tr>\n",
              "      <th>SquareSoft</th>\n",
              "      <td>0.771731</td>\n",
              "      <td>0.763205</td>\n",
              "      <td>0.590</td>\n",
              "    </tr>\n",
              "    <tr>\n",
              "      <th>Nintendo</th>\n",
              "      <td>0.639723</td>\n",
              "      <td>1.052844</td>\n",
              "      <td>0.275</td>\n",
              "    </tr>\n",
              "    <tr>\n",
              "      <th>ASCII Entertainment</th>\n",
              "      <td>0.470000</td>\n",
              "      <td>0.522887</td>\n",
              "      <td>0.300</td>\n",
              "    </tr>\n",
              "    <tr>\n",
              "      <th>Square</th>\n",
              "      <td>0.433333</td>\n",
              "      <td>0.490170</td>\n",
              "      <td>0.285</td>\n",
              "    </tr>\n",
              "    <tr>\n",
              "      <th>Level 5</th>\n",
              "      <td>0.417586</td>\n",
              "      <td>0.648540</td>\n",
              "      <td>0.190</td>\n",
              "    </tr>\n",
              "    <tr>\n",
              "      <th>Aruze Corp</th>\n",
              "      <td>0.363333</td>\n",
              "      <td>0.228108</td>\n",
              "      <td>0.490</td>\n",
              "    </tr>\n",
              "    <tr>\n",
              "      <th>Compile</th>\n",
              "      <td>0.337143</td>\n",
              "      <td>0.399404</td>\n",
              "      <td>0.160</td>\n",
              "    </tr>\n",
              "    <tr>\n",
              "      <th>Laguna</th>\n",
              "      <td>0.335000</td>\n",
              "      <td>0.093274</td>\n",
              "      <td>0.330</td>\n",
              "    </tr>\n",
              "    <tr>\n",
              "      <th>Elf</th>\n",
              "      <td>0.320000</td>\n",
              "      <td>0.056569</td>\n",
              "      <td>0.320</td>\n",
              "    </tr>\n",
              "    <tr>\n",
              "      <th>Jorudan</th>\n",
              "      <td>0.310000</td>\n",
              "      <td>0.036056</td>\n",
              "      <td>0.300</td>\n",
              "    </tr>\n",
              "    <tr>\n",
              "      <th>BPS</th>\n",
              "      <td>0.260000</td>\n",
              "      <td>0.084853</td>\n",
              "      <td>0.260</td>\n",
              "    </tr>\n",
              "    <tr>\n",
              "      <th>Hudson Soft</th>\n",
              "      <td>0.229405</td>\n",
              "      <td>0.305414</td>\n",
              "      <td>0.095</td>\n",
              "    </tr>\n",
              "    <tr>\n",
              "      <th>Banpresto</th>\n",
              "      <td>0.222297</td>\n",
              "      <td>0.258115</td>\n",
              "      <td>0.160</td>\n",
              "    </tr>\n",
              "    <tr>\n",
              "      <th>Human Entertainment</th>\n",
              "      <td>0.216923</td>\n",
              "      <td>0.130664</td>\n",
              "      <td>0.180</td>\n",
              "    </tr>\n",
              "    <tr>\n",
              "      <th>Square Enix</th>\n",
              "      <td>0.216183</td>\n",
              "      <td>0.398413</td>\n",
              "      <td>0.070</td>\n",
              "    </tr>\n",
              "    <tr>\n",
              "      <th>ChunSoft</th>\n",
              "      <td>0.200556</td>\n",
              "      <td>0.251314</td>\n",
              "      <td>0.070</td>\n",
              "    </tr>\n",
              "    <tr>\n",
              "      <th>Takara</th>\n",
              "      <td>0.196250</td>\n",
              "      <td>0.183480</td>\n",
              "      <td>0.145</td>\n",
              "    </tr>\n",
              "    <tr>\n",
              "      <th>Sony Computer Entertainment Europe</th>\n",
              "      <td>0.174000</td>\n",
              "      <td>0.264543</td>\n",
              "      <td>0.040</td>\n",
              "    </tr>\n",
              "    <tr>\n",
              "      <th>Sammy Corporation</th>\n",
              "      <td>0.173636</td>\n",
              "      <td>0.292379</td>\n",
              "      <td>0.080</td>\n",
              "    </tr>\n",
              "  </tbody>\n",
              "</table>\n",
              "</div>\n",
              "      <button class=\"colab-df-convert\" onclick=\"convertToInteractive('df-fa1978a1-c419-4935-8668-6d526071a9de')\"\n",
              "              title=\"Convert this dataframe to an interactive table.\"\n",
              "              style=\"display:none;\">\n",
              "        \n",
              "  <svg xmlns=\"http://www.w3.org/2000/svg\" height=\"24px\"viewBox=\"0 0 24 24\"\n",
              "       width=\"24px\">\n",
              "    <path d=\"M0 0h24v24H0V0z\" fill=\"none\"/>\n",
              "    <path d=\"M18.56 5.44l.94 2.06.94-2.06 2.06-.94-2.06-.94-.94-2.06-.94 2.06-2.06.94zm-11 1L8.5 8.5l.94-2.06 2.06-.94-2.06-.94L8.5 2.5l-.94 2.06-2.06.94zm10 10l.94 2.06.94-2.06 2.06-.94-2.06-.94-.94-2.06-.94 2.06-2.06.94z\"/><path d=\"M17.41 7.96l-1.37-1.37c-.4-.4-.92-.59-1.43-.59-.52 0-1.04.2-1.43.59L10.3 9.45l-7.72 7.72c-.78.78-.78 2.05 0 2.83L4 21.41c.39.39.9.59 1.41.59.51 0 1.02-.2 1.41-.59l7.78-7.78 2.81-2.81c.8-.78.8-2.07 0-2.86zM5.41 20L4 18.59l7.72-7.72 1.47 1.35L5.41 20z\"/>\n",
              "  </svg>\n",
              "      </button>\n",
              "      \n",
              "  <style>\n",
              "    .colab-df-container {\n",
              "      display:flex;\n",
              "      flex-wrap:wrap;\n",
              "      gap: 12px;\n",
              "    }\n",
              "\n",
              "    .colab-df-convert {\n",
              "      background-color: #E8F0FE;\n",
              "      border: none;\n",
              "      border-radius: 50%;\n",
              "      cursor: pointer;\n",
              "      display: none;\n",
              "      fill: #1967D2;\n",
              "      height: 32px;\n",
              "      padding: 0 0 0 0;\n",
              "      width: 32px;\n",
              "    }\n",
              "\n",
              "    .colab-df-convert:hover {\n",
              "      background-color: #E2EBFA;\n",
              "      box-shadow: 0px 1px 2px rgba(60, 64, 67, 0.3), 0px 1px 3px 1px rgba(60, 64, 67, 0.15);\n",
              "      fill: #174EA6;\n",
              "    }\n",
              "\n",
              "    [theme=dark] .colab-df-convert {\n",
              "      background-color: #3B4455;\n",
              "      fill: #D2E3FC;\n",
              "    }\n",
              "\n",
              "    [theme=dark] .colab-df-convert:hover {\n",
              "      background-color: #434B5C;\n",
              "      box-shadow: 0px 1px 3px 1px rgba(0, 0, 0, 0.15);\n",
              "      filter: drop-shadow(0px 1px 2px rgba(0, 0, 0, 0.3));\n",
              "      fill: #FFFFFF;\n",
              "    }\n",
              "  </style>\n",
              "\n",
              "      <script>\n",
              "        const buttonEl =\n",
              "          document.querySelector('#df-fa1978a1-c419-4935-8668-6d526071a9de button.colab-df-convert');\n",
              "        buttonEl.style.display =\n",
              "          google.colab.kernel.accessAllowed ? 'block' : 'none';\n",
              "\n",
              "        async function convertToInteractive(key) {\n",
              "          const element = document.querySelector('#df-fa1978a1-c419-4935-8668-6d526071a9de');\n",
              "          const dataTable =\n",
              "            await google.colab.kernel.invokeFunction('convertToInteractive',\n",
              "                                                     [key], {});\n",
              "          if (!dataTable) return;\n",
              "\n",
              "          const docLinkHtml = 'Like what you see? Visit the ' +\n",
              "            '<a target=\"_blank\" href=https://colab.research.google.com/notebooks/data_table.ipynb>data table notebook</a>'\n",
              "            + ' to learn more about interactive tables.';\n",
              "          element.innerHTML = '';\n",
              "          dataTable['output_type'] = 'display_data';\n",
              "          await google.colab.output.renderOutput(dataTable, element);\n",
              "          const docLink = document.createElement('div');\n",
              "          docLink.innerHTML = docLinkHtml;\n",
              "          element.appendChild(docLink);\n",
              "        }\n",
              "      </script>\n",
              "    </div>\n",
              "  </div>\n",
              "  "
            ]
          },
          "metadata": {},
          "execution_count": 44
        }
      ],
      "source": [
        "top20_df = agg_df.nlargest(20, [('JP_Sales', 'mean')])\n",
        "top20_df"
      ],
      "id": "Eg0TEUpO7i9E"
    },
    {
      "cell_type": "markdown",
      "metadata": {
        "id": "21En8flWqTYN"
      },
      "source": [
        "Nintendo is among the top 20 with the 3rd highest average sales. However, its median is low when compared to its average sales which suggests there may be outliers with really high values influencing the mean. These may be the well known Nintendo titles that reach a much higher amount of `JP_Sales` when compared to the rest of Nintendo's library. It will be helpful to see the distribution of the data with a boxplot of the `JP_Sales` including the top 20 publishers for comparison."
      ],
      "id": "21En8flWqTYN"
    },
    {
      "cell_type": "code",
      "execution_count": null,
      "metadata": {
        "colab": {
          "base_uri": "https://localhost:8080/"
        },
        "id": "0RJn-2izgGvv",
        "outputId": "83012fcb-215f-4eae-d344-75250f462755"
      },
      "outputs": [
        {
          "output_type": "stream",
          "name": "stderr",
          "text": [
            "/usr/local/lib/python3.8/dist-packages/matplotlib/cbook/__init__.py:1376: VisibleDeprecationWarning: Creating an ndarray from ragged nested sequences (which is a list-or-tuple of lists-or-tuples-or ndarrays with different lengths or shapes) is deprecated. If you meant to do this, you must specify 'dtype=object' when creating the ndarray.\n",
            "  X = np.atleast_1d(X.T if isinstance(X, np.ndarray) else np.asarray(X))\n"
          ]
        },
        {
          "output_type": "execute_result",
          "data": {
            "text/plain": [
              "<matplotlib.axes._subplots.AxesSubplot at 0x7fd25d248c70>"
            ]
          },
          "metadata": {},
          "execution_count": 45
        },
        {
          "output_type": "display_data",
          "data": {
            "text/plain": [
              "<Figure size 2520x1080 with 1 Axes>"
            ],
            "image/png": "[encoded data removed]"
          },
          "metadata": {
            "needs_background": "light"
          }
        }
      ],
      "source": [
        "\n",
        "top20publisher_games_df = cleaned_df.loc[cleaned_df['Publisher'].isin(top20_df.index)]\n",
        "\n",
        "top20publisher_games_df.boxplot(\"JP_Sales\", by='Publisher', figsize=(35, 15))\n"
      ],
      "id": "0RJn-2izgGvv"
    },
    {
      "cell_type": "markdown",
      "metadata": {
        "id": "rK1VX5pMj1Qa"
      },
      "source": [
        "The boxplot shows that Nintendo has the most amount of outliers that exceeds the upper whisker. It is predicted that these outliers are Nintendo's extremely popular gaming franchises such as Pokemon and Super Mario Bros. Most games published by Nintendo achieve numbers below 1.7 million in sales according to the boxplot, but games that exceed Nintendo's upper whisker in the box plot makes Nintendo one of the publishers with the highest average sales in Japan despite not having the highest median.\n",
        "\n",
        "`Enix corporation` and `SquareSoft` have a higher average and median in terms of sales compared to Nintendo despite not reaching the heights of Nintendo having a game sell over 10 million units in `JP_Sales`. `Enix Corporation`'s highest selling game only has 4.1 million sales and `SquareSoft`'s is around 3.8 million games. This may be because `Enix Corporation` and `SquareSoft` has less games overall and when they do make releases, they consistently sell high and within the range of the boxplot because there are less outliers when compared to Nintendo. Both companies also have a higher upper whisker, indicating their consistency when it comes their `JP_Sales`. Let us check the amount of games the top 3 publishers have in the data set."
      ],
      "id": "rK1VX5pMj1Qa"
    },
    {
      "cell_type": "code",
      "execution_count": null,
      "metadata": {
        "colab": {
          "base_uri": "https://localhost:8080/"
        },
        "id": "mI4oJq5s_LYb",
        "outputId": "932a2280-211c-4582-990e-70882c4d3fc7"
      },
      "outputs": [
        {
          "output_type": "stream",
          "name": "stdout",
          "text": [
            "Amount of Nintendo games: 722\n",
            "Amount of Enix Corporation games: 30\n",
            "Amount of SquareSoft games: 52\n"
          ]
        }
      ],
      "source": [
        "print('Amount of Nintendo games:',cleaned_df['Publisher'].value_counts()['Nintendo'])\n",
        "print('Amount of Enix Corporation games:',cleaned_df['Publisher'].value_counts()['Enix Corporation'])\n",
        "print('Amount of SquareSoft games:',cleaned_df['Publisher'].value_counts()['SquareSoft'])"
      ],
      "id": "mI4oJq5s_LYb"
    },
    {
      "cell_type": "markdown",
      "metadata": {
        "id": "rF8tk46AFnPB"
      },
      "source": [
        "It is confirmed that `Enix Corporation` and `SquareSoft` have singificantly less published games compared to Nintendo. The factor of having less games and being more consistent when it comes to reaching generally high `JP_Sales` makes their average `JP_Sales` higher compared to Nintendo."
      ],
      "id": "rF8tk46AFnPB"
    },
    {
      "cell_type": "code",
      "execution_count": null,
      "metadata": {
        "colab": {
          "base_uri": "https://localhost:8080/"
        },
        "id": "jRlKTjkUn6PT",
        "outputId": "1e751f87-50a1-4534-d691-bde590fc4069"
      },
      "outputs": [
        {
          "output_type": "execute_result",
          "data": {
            "text/plain": [
              "                       Name Platform  Year_of_Release         Genre Publisher  \\\n",
              "4  Pokemon Red/Pokemon Blue        G             1996  Role-Playing  Nintendo   \n",
              "\n",
              "   NA_Sales  EU_Sales  JP_Sales  Other_Sales  Global_Sales  Critic_Score  \\\n",
              "4     11.27      8.89     10.22          1.0         31.37           NaN   \n",
              "\n",
              "   Critic_Count  User_Score  User_Count Rating  \n",
              "4           NaN         NaN         NaN    NaN  "
            ],
            "text/html": [
              "\n",
              "  <div id=\"df-6fb97ae6-25c7-417d-9cc1-310f911e6af2\">\n",
              "    <div class=\"colab-df-container\">\n",
              "      <div>\n",
              "<style scoped>\n",
              "    .dataframe tbody tr th:only-of-type {\n",
              "        vertical-align: middle;\n",
              "    }\n",
              "\n",
              "    .dataframe tbody tr th {\n",
              "        vertical-align: top;\n",
              "    }\n",
              "\n",
              "    .dataframe thead th {\n",
              "        text-align: right;\n",
              "    }\n",
              "</style>\n",
              "<table border=\"1\" class=\"dataframe\">\n",
              "  <thead>\n",
              "    <tr style=\"text-align: right;\">\n",
              "      <th></th>\n",
              "      <th>Name</th>\n",
              "      <th>Platform</th>\n",
              "      <th>Year_of_Release</th>\n",
              "      <th>Genre</th>\n",
              "      <th>Publisher</th>\n",
              "      <th>NA_Sales</th>\n",
              "      <th>EU_Sales</th>\n",
              "      <th>JP_Sales</th>\n",
              "      <th>Other_Sales</th>\n",
              "      <th>Global_Sales</th>\n",
              "      <th>Critic_Score</th>\n",
              "      <th>Critic_Count</th>\n",
              "      <th>User_Score</th>\n",
              "      <th>User_Count</th>\n",
              "      <th>Rating</th>\n",
              "    </tr>\n",
              "  </thead>\n",
              "  <tbody>\n",
              "    <tr>\n",
              "      <th>4</th>\n",
              "      <td>Pokemon Red/Pokemon Blue</td>\n",
              "      <td>G</td>\n",
              "      <td>1996</td>\n",
              "      <td>Role-Playing</td>\n",
              "      <td>Nintendo</td>\n",
              "      <td>11.27</td>\n",
              "      <td>8.89</td>\n",
              "      <td>10.22</td>\n",
              "      <td>1.0</td>\n",
              "      <td>31.37</td>\n",
              "      <td>NaN</td>\n",
              "      <td>NaN</td>\n",
              "      <td>NaN</td>\n",
              "      <td>NaN</td>\n",
              "      <td>NaN</td>\n",
              "    </tr>\n",
              "  </tbody>\n",
              "</table>\n",
              "</div>\n",
              "      <button class=\"colab-df-convert\" onclick=\"convertToInteractive('df-6fb97ae6-25c7-417d-9cc1-310f911e6af2')\"\n",
              "              title=\"Convert this dataframe to an interactive table.\"\n",
              "              style=\"display:none;\">\n",
              "        \n",
              "  <svg xmlns=\"http://www.w3.org/2000/svg\" height=\"24px\"viewBox=\"0 0 24 24\"\n",
              "       width=\"24px\">\n",
              "    <path d=\"M0 0h24v24H0V0z\" fill=\"none\"/>\n",
              "    <path d=\"M18.56 5.44l.94 2.06.94-2.06 2.06-.94-2.06-.94-.94-2.06-.94 2.06-2.06.94zm-11 1L8.5 8.5l.94-2.06 2.06-.94-2.06-.94L8.5 2.5l-.94 2.06-2.06.94zm10 10l.94 2.06.94-2.06 2.06-.94-2.06-.94-.94-2.06-.94 2.06-2.06.94z\"/><path d=\"M17.41 7.96l-1.37-1.37c-.4-.4-.92-.59-1.43-.59-.52 0-1.04.2-1.43.59L10.3 9.45l-7.72 7.72c-.78.78-.78 2.05 0 2.83L4 21.41c.39.39.9.59 1.41.59.51 0 1.02-.2 1.41-.59l7.78-7.78 2.81-2.81c.8-.78.8-2.07 0-2.86zM5.41 20L4 18.59l7.72-7.72 1.47 1.35L5.41 20z\"/>\n",
              "  </svg>\n",
              "      </button>\n",
              "      \n",
              "  <style>\n",
              "    .colab-df-container {\n",
              "      display:flex;\n",
              "      flex-wrap:wrap;\n",
              "      gap: 12px;\n",
              "    }\n",
              "\n",
              "    .colab-df-convert {\n",
              "      background-color: #E8F0FE;\n",
              "      border: none;\n",
              "      border-radius: 50%;\n",
              "      cursor: pointer;\n",
              "      display: none;\n",
              "      fill: #1967D2;\n",
              "      height: 32px;\n",
              "      padding: 0 0 0 0;\n",
              "      width: 32px;\n",
              "    }\n",
              "\n",
              "    .colab-df-convert:hover {\n",
              "      background-color: #E2EBFA;\n",
              "      box-shadow: 0px 1px 2px rgba(60, 64, 67, 0.3), 0px 1px 3px 1px rgba(60, 64, 67, 0.15);\n",
              "      fill: #174EA6;\n",
              "    }\n",
              "\n",
              "    [theme=dark] .colab-df-convert {\n",
              "      background-color: #3B4455;\n",
              "      fill: #D2E3FC;\n",
              "    }\n",
              "\n",
              "    [theme=dark] .colab-df-convert:hover {\n",
              "      background-color: #434B5C;\n",
              "      box-shadow: 0px 1px 3px 1px rgba(0, 0, 0, 0.15);\n",
              "      filter: drop-shadow(0px 1px 2px rgba(0, 0, 0, 0.3));\n",
              "      fill: #FFFFFF;\n",
              "    }\n",
              "  </style>\n",
              "\n",
              "      <script>\n",
              "        const buttonEl =\n",
              "          document.querySelector('#df-6fb97ae6-25c7-417d-9cc1-310f911e6af2 button.colab-df-convert');\n",
              "        buttonEl.style.display =\n",
              "          google.colab.kernel.accessAllowed ? 'block' : 'none';\n",
              "\n",
              "        async function convertToInteractive(key) {\n",
              "          const element = document.querySelector('#df-6fb97ae6-25c7-417d-9cc1-310f911e6af2');\n",
              "          const dataTable =\n",
              "            await google.colab.kernel.invokeFunction('convertToInteractive',\n",
              "                                                     [key], {});\n",
              "          if (!dataTable) return;\n",
              "\n",
              "          const docLinkHtml = 'Like what you see? Visit the ' +\n",
              "            '<a target=\"_blank\" href=https://colab.research.google.com/notebooks/data_table.ipynb>data table notebook</a>'\n",
              "            + ' to learn more about interactive tables.';\n",
              "          element.innerHTML = '';\n",
              "          dataTable['output_type'] = 'display_data';\n",
              "          await google.colab.output.renderOutput(dataTable, element);\n",
              "          const docLink = document.createElement('div');\n",
              "          docLink.innerHTML = docLinkHtml;\n",
              "          element.appendChild(docLink);\n",
              "        }\n",
              "      </script>\n",
              "    </div>\n",
              "  </div>\n",
              "  "
            ]
          },
          "metadata": {},
          "execution_count": 47
        }
      ],
      "source": [
        "cleaned_df[cleaned_df['JP_Sales'] >= 10]"
      ],
      "id": "jRlKTjkUn6PT"
    },
    {
      "cell_type": "markdown",
      "metadata": {
        "id": "VtjgBwT7G-Tx"
      },
      "source": [
        "It can be concluded that Nintendo is one of the best performers in terms of `JP_Sales` because of how it is the 3rd highest in the list of average `JP_Sales` that consists of 150 publishers. It is also no easy feat to be the lone publisher with a game that has reached over 10 million sales in Japan alone, which is `Pokemon Red/Pokemon Blue`. But it is also notable how Nintendo is less consistent with the `JP_Sales` of their 720 games in the data set when compared to `SquareSoft` and `Enix Corporation`."
      ],
      "id": "VtjgBwT7G-Tx"
    },
    {
      "cell_type": "markdown",
      "metadata": {
        "id": "bfJkIGydTL-n"
      },
      "source": [
        "## EDA Question 3: Is there a relationship between the total number of video games in each genre and their total global sales?"
      ],
      "id": "bfJkIGydTL-n"
    },
    {
      "cell_type": "markdown",
      "metadata": {
        "id": "c-0tQGxGUl9P"
      },
      "source": [
        "Some genres have more video games under their belt than others. We want to see if a higher number of video games means more sales.\n",
        "\n",
        "The variables of interest are:\n",
        "- **`Global_Sales`**: total worldwide sales (in millions)\n",
        "- **`Genre`**: genre of video game"
      ],
      "id": "c-0tQGxGUl9P"
    },
    {
      "cell_type": "code",
      "execution_count": null,
      "metadata": {
        "colab": {
          "base_uri": "https://localhost:8080/"
        },
        "id": "N_IfcDi7UqI9",
        "outputId": "1b0ea7f7-d268-407b-e91c-81a41d3bfa40"
      },
      "outputs": [
        {
          "output_type": "execute_result",
          "data": {
            "text/plain": [
              "              Genre  Global_Sales\n",
              "0            Sports         82.54\n",
              "1          Platform         40.24\n",
              "2            Racing         35.57\n",
              "3            Sports         32.78\n",
              "4      Role-Playing         31.37\n",
              "...             ...           ...\n",
              "17414     Adventure          0.01\n",
              "17415        Sports          0.01\n",
              "0            Sports          2.58\n",
              "1          Platform          1.64\n",
              "2          Fighting          1.59\n",
              "\n",
              "[17413 rows x 2 columns]"
            ],
            "text/html": [
              "\n",
              "  <div id=\"df-cb70985d-a2ea-4559-9a34-975d85810bb7\">\n",
              "    <div class=\"colab-df-container\">\n",
              "      <div>\n",
              "<style scoped>\n",
              "    .dataframe tbody tr th:only-of-type {\n",
              "        vertical-align: middle;\n",
              "    }\n",
              "\n",
              "    .dataframe tbody tr th {\n",
              "        vertical-align: top;\n",
              "    }\n",
              "\n",
              "    .dataframe thead th {\n",
              "        text-align: right;\n",
              "    }\n",
              "</style>\n",
              "<table border=\"1\" class=\"dataframe\">\n",
              "  <thead>\n",
              "    <tr style=\"text-align: right;\">\n",
              "      <th></th>\n",
              "      <th>Genre</th>\n",
              "      <th>Global_Sales</th>\n",
              "    </tr>\n",
              "  </thead>\n",
              "  <tbody>\n",
              "    <tr>\n",
              "      <th>0</th>\n",
              "      <td>Sports</td>\n",
              "      <td>82.54</td>\n",
              "    </tr>\n",
              "    <tr>\n",
              "      <th>1</th>\n",
              "      <td>Platform</td>\n",
              "      <td>40.24</td>\n",
              "    </tr>\n",
              "    <tr>\n",
              "      <th>2</th>\n",
              "      <td>Racing</td>\n",
              "      <td>35.57</td>\n",
              "    </tr>\n",
              "    <tr>\n",
              "      <th>3</th>\n",
              "      <td>Sports</td>\n",
              "      <td>32.78</td>\n",
              "    </tr>\n",
              "    <tr>\n",
              "      <th>4</th>\n",
              "      <td>Role-Playing</td>\n",
              "      <td>31.37</td>\n",
              "    </tr>\n",
              "    <tr>\n",
              "      <th>...</th>\n",
              "      <td>...</td>\n",
              "      <td>...</td>\n",
              "    </tr>\n",
              "    <tr>\n",
              "      <th>17414</th>\n",
              "      <td>Adventure</td>\n",
              "      <td>0.01</td>\n",
              "    </tr>\n",
              "    <tr>\n",
              "      <th>17415</th>\n",
              "      <td>Sports</td>\n",
              "      <td>0.01</td>\n",
              "    </tr>\n",
              "    <tr>\n",
              "      <th>0</th>\n",
              "      <td>Sports</td>\n",
              "      <td>2.58</td>\n",
              "    </tr>\n",
              "    <tr>\n",
              "      <th>1</th>\n",
              "      <td>Platform</td>\n",
              "      <td>1.64</td>\n",
              "    </tr>\n",
              "    <tr>\n",
              "      <th>2</th>\n",
              "      <td>Fighting</td>\n",
              "      <td>1.59</td>\n",
              "    </tr>\n",
              "  </tbody>\n",
              "</table>\n",
              "<p>17413 rows × 2 columns</p>\n",
              "</div>\n",
              "      <button class=\"colab-df-convert\" onclick=\"convertToInteractive('df-cb70985d-a2ea-4559-9a34-975d85810bb7')\"\n",
              "              title=\"Convert this dataframe to an interactive table.\"\n",
              "              style=\"display:none;\">\n",
              "        \n",
              "  <svg xmlns=\"http://www.w3.org/2000/svg\" height=\"24px\"viewBox=\"0 0 24 24\"\n",
              "       width=\"24px\">\n",
              "    <path d=\"M0 0h24v24H0V0z\" fill=\"none\"/>\n",
              "    <path d=\"M18.56 5.44l.94 2.06.94-2.06 2.06-.94-2.06-.94-.94-2.06-.94 2.06-2.06.94zm-11 1L8.5 8.5l.94-2.06 2.06-.94-2.06-.94L8.5 2.5l-.94 2.06-2.06.94zm10 10l.94 2.06.94-2.06 2.06-.94-2.06-.94-.94-2.06-.94 2.06-2.06.94z\"/><path d=\"M17.41 7.96l-1.37-1.37c-.4-.4-.92-.59-1.43-.59-.52 0-1.04.2-1.43.59L10.3 9.45l-7.72 7.72c-.78.78-.78 2.05 0 2.83L4 21.41c.39.39.9.59 1.41.59.51 0 1.02-.2 1.41-.59l7.78-7.78 2.81-2.81c.8-.78.8-2.07 0-2.86zM5.41 20L4 18.59l7.72-7.72 1.47 1.35L5.41 20z\"/>\n",
              "  </svg>\n",
              "      </button>\n",
              "      \n",
              "  <style>\n",
              "    .colab-df-container {\n",
              "      display:flex;\n",
              "      flex-wrap:wrap;\n",
              "      gap: 12px;\n",
              "    }\n",
              "\n",
              "    .colab-df-convert {\n",
              "      background-color: #E8F0FE;\n",
              "      border: none;\n",
              "      border-radius: 50%;\n",
              "      cursor: pointer;\n",
              "      display: none;\n",
              "      fill: #1967D2;\n",
              "      height: 32px;\n",
              "      padding: 0 0 0 0;\n",
              "      width: 32px;\n",
              "    }\n",
              "\n",
              "    .colab-df-convert:hover {\n",
              "      background-color: #E2EBFA;\n",
              "      box-shadow: 0px 1px 2px rgba(60, 64, 67, 0.3), 0px 1px 3px 1px rgba(60, 64, 67, 0.15);\n",
              "      fill: #174EA6;\n",
              "    }\n",
              "\n",
              "    [theme=dark] .colab-df-convert {\n",
              "      background-color: #3B4455;\n",
              "      fill: #D2E3FC;\n",
              "    }\n",
              "\n",
              "    [theme=dark] .colab-df-convert:hover {\n",
              "      background-color: #434B5C;\n",
              "      box-shadow: 0px 1px 3px 1px rgba(0, 0, 0, 0.15);\n",
              "      filter: drop-shadow(0px 1px 2px rgba(0, 0, 0, 0.3));\n",
              "      fill: #FFFFFF;\n",
              "    }\n",
              "  </style>\n",
              "\n",
              "      <script>\n",
              "        const buttonEl =\n",
              "          document.querySelector('#df-cb70985d-a2ea-4559-9a34-975d85810bb7 button.colab-df-convert');\n",
              "        buttonEl.style.display =\n",
              "          google.colab.kernel.accessAllowed ? 'block' : 'none';\n",
              "\n",
              "        async function convertToInteractive(key) {\n",
              "          const element = document.querySelector('#df-cb70985d-a2ea-4559-9a34-975d85810bb7');\n",
              "          const dataTable =\n",
              "            await google.colab.kernel.invokeFunction('convertToInteractive',\n",
              "                                                     [key], {});\n",
              "          if (!dataTable) return;\n",
              "\n",
              "          const docLinkHtml = 'Like what you see? Visit the ' +\n",
              "            '<a target=\"_blank\" href=https://colab.research.google.com/notebooks/data_table.ipynb>data table notebook</a>'\n",
              "            + ' to learn more about interactive tables.';\n",
              "          element.innerHTML = '';\n",
              "          dataTable['output_type'] = 'display_data';\n",
              "          await google.colab.output.renderOutput(dataTable, element);\n",
              "          const docLink = document.createElement('div');\n",
              "          docLink.innerHTML = docLinkHtml;\n",
              "          element.appendChild(docLink);\n",
              "        }\n",
              "      </script>\n",
              "    </div>\n",
              "  </div>\n",
              "  "
            ]
          },
          "metadata": {},
          "execution_count": 48
        }
      ],
      "source": [
        "genre_global_df=cleaned_df[['Genre','Global_Sales']]\n",
        "genre_global_df"
      ],
      "id": "N_IfcDi7UqI9"
    },
    {
      "cell_type": "code",
      "execution_count": null,
      "metadata": {
        "colab": {
          "base_uri": "https://localhost:8080/"
        },
        "id": "F2wyTLHkVZW_",
        "outputId": "3afb0d61-aa95-4be2-8541-16e62e0877ad"
      },
      "outputs": [
        {
          "output_type": "execute_result",
          "data": {
            "text/plain": [
              "Action          3503\n",
              "Sports          2407\n",
              "Misc            1813\n",
              "Role-Playing    1545\n",
              "Adventure       1478\n",
              "Shooter         1349\n",
              "Racing          1282\n",
              "Simulation       925\n",
              "Platform         899\n",
              "Fighting         863\n",
              "Strategy         734\n",
              "Puzzle           615\n",
              "Name: Genre, dtype: int64"
            ]
          },
          "metadata": {},
          "execution_count": 49
        }
      ],
      "source": [
        "genre_count=genre_global_df['Genre'].value_counts()\n",
        "genre_count"
      ],
      "id": "F2wyTLHkVZW_"
    },
    {
      "cell_type": "markdown",
      "metadata": {
        "id": "FGYnAioZVyww"
      },
      "source": [
        "We can see here that the three genres with the highest number of games are `Action`, `Sports`, and `Misc`."
      ],
      "id": "FGYnAioZVyww"
    },
    {
      "cell_type": "code",
      "execution_count": null,
      "metadata": {
        "colab": {
          "base_uri": "https://localhost:8080/"
        },
        "id": "gNC6T700VnO_",
        "outputId": "3bfe29c6-a9b5-40e8-e3cd-36a83c527626"
      },
      "outputs": [
        {
          "output_type": "execute_result",
          "data": {
            "text/plain": [
              "              Global_Sales  Genre_Count\n",
              "Genre                                  \n",
              "Action             1761.97         3503\n",
              "Sports             1341.00         2407\n",
              "Shooter            1067.30         1349\n",
              "Role-Playing        949.31         1545\n",
              "Platform            831.74          899\n",
              "Misc                808.80         1813\n",
              "Racing              731.67         1282\n",
              "Fighting            449.17          863\n",
              "Simulation          392.84          925\n",
              "Puzzle              243.76          615\n",
              "Adventure           241.55         1478\n",
              "Strategy            175.72          734"
            ],
            "text/html": [
              "\n",
              "  <div id=\"df-a1b3d939-e78a-443d-b3e7-ab3160b90474\">\n",
              "    <div class=\"colab-df-container\">\n",
              "      <div>\n",
              "<style scoped>\n",
              "    .dataframe tbody tr th:only-of-type {\n",
              "        vertical-align: middle;\n",
              "    }\n",
              "\n",
              "    .dataframe tbody tr th {\n",
              "        vertical-align: top;\n",
              "    }\n",
              "\n",
              "    .dataframe thead th {\n",
              "        text-align: right;\n",
              "    }\n",
              "</style>\n",
              "<table border=\"1\" class=\"dataframe\">\n",
              "  <thead>\n",
              "    <tr style=\"text-align: right;\">\n",
              "      <th></th>\n",
              "      <th>Global_Sales</th>\n",
              "      <th>Genre_Count</th>\n",
              "    </tr>\n",
              "    <tr>\n",
              "      <th>Genre</th>\n",
              "      <th></th>\n",
              "      <th></th>\n",
              "    </tr>\n",
              "  </thead>\n",
              "  <tbody>\n",
              "    <tr>\n",
              "      <th>Action</th>\n",
              "      <td>1761.97</td>\n",
              "      <td>3503</td>\n",
              "    </tr>\n",
              "    <tr>\n",
              "      <th>Sports</th>\n",
              "      <td>1341.00</td>\n",
              "      <td>2407</td>\n",
              "    </tr>\n",
              "    <tr>\n",
              "      <th>Shooter</th>\n",
              "      <td>1067.30</td>\n",
              "      <td>1349</td>\n",
              "    </tr>\n",
              "    <tr>\n",
              "      <th>Role-Playing</th>\n",
              "      <td>949.31</td>\n",
              "      <td>1545</td>\n",
              "    </tr>\n",
              "    <tr>\n",
              "      <th>Platform</th>\n",
              "      <td>831.74</td>\n",
              "      <td>899</td>\n",
              "    </tr>\n",
              "    <tr>\n",
              "      <th>Misc</th>\n",
              "      <td>808.80</td>\n",
              "      <td>1813</td>\n",
              "    </tr>\n",
              "    <tr>\n",
              "      <th>Racing</th>\n",
              "      <td>731.67</td>\n",
              "      <td>1282</td>\n",
              "    </tr>\n",
              "    <tr>\n",
              "      <th>Fighting</th>\n",
              "      <td>449.17</td>\n",
              "      <td>863</td>\n",
              "    </tr>\n",
              "    <tr>\n",
              "      <th>Simulation</th>\n",
              "      <td>392.84</td>\n",
              "      <td>925</td>\n",
              "    </tr>\n",
              "    <tr>\n",
              "      <th>Puzzle</th>\n",
              "      <td>243.76</td>\n",
              "      <td>615</td>\n",
              "    </tr>\n",
              "    <tr>\n",
              "      <th>Adventure</th>\n",
              "      <td>241.55</td>\n",
              "      <td>1478</td>\n",
              "    </tr>\n",
              "    <tr>\n",
              "      <th>Strategy</th>\n",
              "      <td>175.72</td>\n",
              "      <td>734</td>\n",
              "    </tr>\n",
              "  </tbody>\n",
              "</table>\n",
              "</div>\n",
              "      <button class=\"colab-df-convert\" onclick=\"convertToInteractive('df-a1b3d939-e78a-443d-b3e7-ab3160b90474')\"\n",
              "              title=\"Convert this dataframe to an interactive table.\"\n",
              "              style=\"display:none;\">\n",
              "        \n",
              "  <svg xmlns=\"http://www.w3.org/2000/svg\" height=\"24px\"viewBox=\"0 0 24 24\"\n",
              "       width=\"24px\">\n",
              "    <path d=\"M0 0h24v24H0V0z\" fill=\"none\"/>\n",
              "    <path d=\"M18.56 5.44l.94 2.06.94-2.06 2.06-.94-2.06-.94-.94-2.06-.94 2.06-2.06.94zm-11 1L8.5 8.5l.94-2.06 2.06-.94-2.06-.94L8.5 2.5l-.94 2.06-2.06.94zm10 10l.94 2.06.94-2.06 2.06-.94-2.06-.94-.94-2.06-.94 2.06-2.06.94z\"/><path d=\"M17.41 7.96l-1.37-1.37c-.4-.4-.92-.59-1.43-.59-.52 0-1.04.2-1.43.59L10.3 9.45l-7.72 7.72c-.78.78-.78 2.05 0 2.83L4 21.41c.39.39.9.59 1.41.59.51 0 1.02-.2 1.41-.59l7.78-7.78 2.81-2.81c.8-.78.8-2.07 0-2.86zM5.41 20L4 18.59l7.72-7.72 1.47 1.35L5.41 20z\"/>\n",
              "  </svg>\n",
              "      </button>\n",
              "      \n",
              "  <style>\n",
              "    .colab-df-container {\n",
              "      display:flex;\n",
              "      flex-wrap:wrap;\n",
              "      gap: 12px;\n",
              "    }\n",
              "\n",
              "    .colab-df-convert {\n",
              "      background-color: #E8F0FE;\n",
              "      border: none;\n",
              "      border-radius: 50%;\n",
              "      cursor: pointer;\n",
              "      display: none;\n",
              "      fill: #1967D2;\n",
              "      height: 32px;\n",
              "      padding: 0 0 0 0;\n",
              "      width: 32px;\n",
              "    }\n",
              "\n",
              "    .colab-df-convert:hover {\n",
              "      background-color: #E2EBFA;\n",
              "      box-shadow: 0px 1px 2px rgba(60, 64, 67, 0.3), 0px 1px 3px 1px rgba(60, 64, 67, 0.15);\n",
              "      fill: #174EA6;\n",
              "    }\n",
              "\n",
              "    [theme=dark] .colab-df-convert {\n",
              "      background-color: #3B4455;\n",
              "      fill: #D2E3FC;\n",
              "    }\n",
              "\n",
              "    [theme=dark] .colab-df-convert:hover {\n",
              "      background-color: #434B5C;\n",
              "      box-shadow: 0px 1px 3px 1px rgba(0, 0, 0, 0.15);\n",
              "      filter: drop-shadow(0px 1px 2px rgba(0, 0, 0, 0.3));\n",
              "      fill: #FFFFFF;\n",
              "    }\n",
              "  </style>\n",
              "\n",
              "      <script>\n",
              "        const buttonEl =\n",
              "          document.querySelector('#df-a1b3d939-e78a-443d-b3e7-ab3160b90474 button.colab-df-convert');\n",
              "        buttonEl.style.display =\n",
              "          google.colab.kernel.accessAllowed ? 'block' : 'none';\n",
              "\n",
              "        async function convertToInteractive(key) {\n",
              "          const element = document.querySelector('#df-a1b3d939-e78a-443d-b3e7-ab3160b90474');\n",
              "          const dataTable =\n",
              "            await google.colab.kernel.invokeFunction('convertToInteractive',\n",
              "                                                     [key], {});\n",
              "          if (!dataTable) return;\n",
              "\n",
              "          const docLinkHtml = 'Like what you see? Visit the ' +\n",
              "            '<a target=\"_blank\" href=https://colab.research.google.com/notebooks/data_table.ipynb>data table notebook</a>'\n",
              "            + ' to learn more about interactive tables.';\n",
              "          element.innerHTML = '';\n",
              "          dataTable['output_type'] = 'display_data';\n",
              "          await google.colab.output.renderOutput(dataTable, element);\n",
              "          const docLink = document.createElement('div');\n",
              "          docLink.innerHTML = docLinkHtml;\n",
              "          element.appendChild(docLink);\n",
              "        }\n",
              "      </script>\n",
              "    </div>\n",
              "  </div>\n",
              "  "
            ]
          },
          "metadata": {},
          "execution_count": 50
        }
      ],
      "source": [
        "agg_global=genre_global_df.groupby('Genre').agg({'Global_Sales':'sum'})\n",
        "agg_global['Genre_Count'] = genre_count\n",
        "agg_global.sort_values('Global_Sales', ascending=False)"
      ],
      "id": "gNC6T700VnO_"
    },
    {
      "cell_type": "markdown",
      "metadata": {
        "id": "3Q8fCUjUWj0y"
      },
      "source": [
        "The three genres with the highest global sales are `Action`, `Sports`, and `Shooter`."
      ],
      "id": "3Q8fCUjUWj0y"
    },
    {
      "cell_type": "code",
      "execution_count": null,
      "metadata": {
        "colab": {
          "base_uri": "https://localhost:8080/"
        },
        "id": "eq2GvsA-WCod",
        "outputId": "33ba9582-46e5-424a-a420-27c6aaaf1177"
      },
      "outputs": [
        {
          "output_type": "execute_result",
          "data": {
            "text/plain": [
              "              Global_Sales  Genre_Count\n",
              "Global_Sales      1.000000     0.864376\n",
              "Genre_Count       0.864376     1.000000"
            ],
            "text/html": [
              "\n",
              "  <div id=\"df-7e0a8a48-2962-42a6-8016-c5d5434e1a11\">\n",
              "    <div class=\"colab-df-container\">\n",
              "      <div>\n",
              "<style scoped>\n",
              "    .dataframe tbody tr th:only-of-type {\n",
              "        vertical-align: middle;\n",
              "    }\n",
              "\n",
              "    .dataframe tbody tr th {\n",
              "        vertical-align: top;\n",
              "    }\n",
              "\n",
              "    .dataframe thead th {\n",
              "        text-align: right;\n",
              "    }\n",
              "</style>\n",
              "<table border=\"1\" class=\"dataframe\">\n",
              "  <thead>\n",
              "    <tr style=\"text-align: right;\">\n",
              "      <th></th>\n",
              "      <th>Global_Sales</th>\n",
              "      <th>Genre_Count</th>\n",
              "    </tr>\n",
              "  </thead>\n",
              "  <tbody>\n",
              "    <tr>\n",
              "      <th>Global_Sales</th>\n",
              "      <td>1.000000</td>\n",
              "      <td>0.864376</td>\n",
              "    </tr>\n",
              "    <tr>\n",
              "      <th>Genre_Count</th>\n",
              "      <td>0.864376</td>\n",
              "      <td>1.000000</td>\n",
              "    </tr>\n",
              "  </tbody>\n",
              "</table>\n",
              "</div>\n",
              "      <button class=\"colab-df-convert\" onclick=\"convertToInteractive('df-7e0a8a48-2962-42a6-8016-c5d5434e1a11')\"\n",
              "              title=\"Convert this dataframe to an interactive table.\"\n",
              "              style=\"display:none;\">\n",
              "        \n",
              "  <svg xmlns=\"http://www.w3.org/2000/svg\" height=\"24px\"viewBox=\"0 0 24 24\"\n",
              "       width=\"24px\">\n",
              "    <path d=\"M0 0h24v24H0V0z\" fill=\"none\"/>\n",
              "    <path d=\"M18.56 5.44l.94 2.06.94-2.06 2.06-.94-2.06-.94-.94-2.06-.94 2.06-2.06.94zm-11 1L8.5 8.5l.94-2.06 2.06-.94-2.06-.94L8.5 2.5l-.94 2.06-2.06.94zm10 10l.94 2.06.94-2.06 2.06-.94-2.06-.94-.94-2.06-.94 2.06-2.06.94z\"/><path d=\"M17.41 7.96l-1.37-1.37c-.4-.4-.92-.59-1.43-.59-.52 0-1.04.2-1.43.59L10.3 9.45l-7.72 7.72c-.78.78-.78 2.05 0 2.83L4 21.41c.39.39.9.59 1.41.59.51 0 1.02-.2 1.41-.59l7.78-7.78 2.81-2.81c.8-.78.8-2.07 0-2.86zM5.41 20L4 18.59l7.72-7.72 1.47 1.35L5.41 20z\"/>\n",
              "  </svg>\n",
              "      </button>\n",
              "      \n",
              "  <style>\n",
              "    .colab-df-container {\n",
              "      display:flex;\n",
              "      flex-wrap:wrap;\n",
              "      gap: 12px;\n",
              "    }\n",
              "\n",
              "    .colab-df-convert {\n",
              "      background-color: #E8F0FE;\n",
              "      border: none;\n",
              "      border-radius: 50%;\n",
              "      cursor: pointer;\n",
              "      display: none;\n",
              "      fill: #1967D2;\n",
              "      height: 32px;\n",
              "      padding: 0 0 0 0;\n",
              "      width: 32px;\n",
              "    }\n",
              "\n",
              "    .colab-df-convert:hover {\n",
              "      background-color: #E2EBFA;\n",
              "      box-shadow: 0px 1px 2px rgba(60, 64, 67, 0.3), 0px 1px 3px 1px rgba(60, 64, 67, 0.15);\n",
              "      fill: #174EA6;\n",
              "    }\n",
              "\n",
              "    [theme=dark] .colab-df-convert {\n",
              "      background-color: #3B4455;\n",
              "      fill: #D2E3FC;\n",
              "    }\n",
              "\n",
              "    [theme=dark] .colab-df-convert:hover {\n",
              "      background-color: #434B5C;\n",
              "      box-shadow: 0px 1px 3px 1px rgba(0, 0, 0, 0.15);\n",
              "      filter: drop-shadow(0px 1px 2px rgba(0, 0, 0, 0.3));\n",
              "      fill: #FFFFFF;\n",
              "    }\n",
              "  </style>\n",
              "\n",
              "      <script>\n",
              "        const buttonEl =\n",
              "          document.querySelector('#df-7e0a8a48-2962-42a6-8016-c5d5434e1a11 button.colab-df-convert');\n",
              "        buttonEl.style.display =\n",
              "          google.colab.kernel.accessAllowed ? 'block' : 'none';\n",
              "\n",
              "        async function convertToInteractive(key) {\n",
              "          const element = document.querySelector('#df-7e0a8a48-2962-42a6-8016-c5d5434e1a11');\n",
              "          const dataTable =\n",
              "            await google.colab.kernel.invokeFunction('convertToInteractive',\n",
              "                                                     [key], {});\n",
              "          if (!dataTable) return;\n",
              "\n",
              "          const docLinkHtml = 'Like what you see? Visit the ' +\n",
              "            '<a target=\"_blank\" href=https://colab.research.google.com/notebooks/data_table.ipynb>data table notebook</a>'\n",
              "            + ' to learn more about interactive tables.';\n",
              "          element.innerHTML = '';\n",
              "          dataTable['output_type'] = 'display_data';\n",
              "          await google.colab.output.renderOutput(dataTable, element);\n",
              "          const docLink = document.createElement('div');\n",
              "          docLink.innerHTML = docLinkHtml;\n",
              "          element.appendChild(docLink);\n",
              "        }\n",
              "      </script>\n",
              "    </div>\n",
              "  </div>\n",
              "  "
            ]
          },
          "metadata": {},
          "execution_count": 51
        }
      ],
      "source": [
        "no_genre_2_total_sales=agg_global\n",
        "no_genre_2_total_sales.corr()"
      ],
      "id": "eq2GvsA-WCod"
    },
    {
      "cell_type": "markdown",
      "metadata": {
        "id": "91jhygQdWv9Z"
      },
      "source": [
        "There is a high correlation between the number of games and total sales. We can visualize it using a scatter plot:"
      ],
      "id": "91jhygQdWv9Z"
    },
    {
      "cell_type": "code",
      "execution_count": null,
      "metadata": {
        "colab": {
          "base_uri": "https://localhost:8080/"
        },
        "id": "nvf97a1uWWfk",
        "outputId": "b113b2cb-519a-40e2-e52d-706228072384"
      },
      "outputs": [
        {
          "output_type": "execute_result",
          "data": {
            "text/plain": [
              "Text(0.5, 1.0, 'Relationship between total number of genres and total sales')"
            ]
          },
          "metadata": {},
          "execution_count": 52
        },
        {
          "output_type": "display_data",
          "data": {
            "text/plain": [
              "<Figure size 432x288 with 1 Axes>"
            ],
            "image/png": "[encoded data removed]"
          },
          "metadata": {
            "needs_background": "light"
          }
        }
      ],
      "source": [
        "no_genre_2_total_sales.plot.scatter(x=\"Genre_Count\",y=\"Global_Sales\",alpha=0.5)\n",
        "plt.title(\"Relationship between total number of genres and total sales\")"
      ],
      "id": "nvf97a1uWWfk"
    },
    {
      "cell_type": "markdown",
      "metadata": {
        "id": "sgvzKWd7XDcY"
      },
      "source": [
        "As shown in the scatter plot, the relationship between the total number of genres and total sales is positive. This means the more games a genre has, the higher that genre's total sales are."
      ],
      "id": "sgvzKWd7XDcY"
    },
    {
      "cell_type": "markdown",
      "metadata": {
        "id": "R6DZvJ05Xxn5"
      },
      "source": [
        "## IV. Research Question"
      ],
      "id": "R6DZvJ05Xxn5"
    },
    {
      "cell_type": "markdown",
      "metadata": {
        "id": "f2gPN_onZFQy"
      },
      "source": [
        "### **Can the regional sales variables be used to cluster video games and find some meaningful trend within each cluster? If so, which set of features perform well in all regions?**\n",
        "\n",
        "During the exploratory data analysis, it was found that the regional sales variables (`JP_Sales`, `Other_Sales`, `NA_Sales` , `EU_Sales`) had a very wide range of values and certain properties of each video game played a big factor. It was evident that certain publishers and genres outperformed others significantly.\n",
        "\n",
        "If we were to cluster video games in the data set based on the distance of their sales variables, video games that performed similarly in terms of sales would be clustered together. Why did they perform similarly? Is there a trend in terms of the other relevant variables? Do video games that have similar performance in terms of sales, which are predicted to be clustered together, have common publishers, genres or platforms that can be found frequently within the cluster? Can we classify which publishers, genres, and platforms typically get lower or higher sales across all regions?\n",
        "\n",
        "The importance of this is analyzing the common features of games that perform similarly in terms of sales can bring new insights on how to market games and where to market certain games, platform and genre combinations that should be avoided and other trends that can be valuable to the gaming industry."
      ],
      "id": "f2gPN_onZFQy"
    },
    {
      "cell_type": "markdown",
      "metadata": {
        "id": "9EvTWM2-W1ne"
      },
      "source": [
        "## V. Data Modeling"
      ],
      "id": "9EvTWM2-W1ne"
    },
    {
      "cell_type": "markdown",
      "metadata": {
        "id": "R7MkA0HKYOKt"
      },
      "source": [
        "In order to answer the research question, we will be using **K-Means Clustering** from [sklearn](https://scikit-learn.org/stable/modules/generated/sklearn.cluster.KMeans.html) to group the dataset into clusters. Through clustering, we'll be able to see if there is a pattern in the features in each cluster based on the video games' regional sales.\n",
        "\n",
        "Let's take a look at our dataset again."
      ],
      "id": "R7MkA0HKYOKt"
    },
    {
      "cell_type": "code",
      "execution_count": null,
      "metadata": {
        "colab": {
          "base_uri": "https://localhost:8080/"
        },
        "id": "mvgsZO_RXzXP",
        "outputId": "a4c525cb-4777-4dfc-cd16-d866ca99a58c"
      },
      "outputs": [
        {
          "output_type": "stream",
          "name": "stdout",
          "text": [
            "<class 'pandas.core.frame.DataFrame'>\n",
            "Int64Index: 17413 entries, 0 to 2\n",
            "Data columns (total 15 columns):\n",
            " #   Column           Non-Null Count  Dtype  \n",
            "---  ------           --------------  -----  \n",
            " 0   Name             17413 non-null  object \n",
            " 1   Platform         17413 non-null  object \n",
            " 2   Year_of_Release  17413 non-null  int64  \n",
            " 3   Genre            17413 non-null  object \n",
            " 4   Publisher        17413 non-null  object \n",
            " 5   NA_Sales         17413 non-null  float64\n",
            " 6   EU_Sales         17413 non-null  float64\n",
            " 7   JP_Sales         17413 non-null  float64\n",
            " 8   Other_Sales      17413 non-null  float64\n",
            " 9   Global_Sales     17413 non-null  float64\n",
            " 10  Critic_Score     8333 non-null   float64\n",
            " 11  Critic_Count     8333 non-null   float64\n",
            " 12  User_Score       7795 non-null   float64\n",
            " 13  User_Count       7795 non-null   float64\n",
            " 14  Rating           10249 non-null  object \n",
            "dtypes: float64(9), int64(1), object(5)\n",
            "memory usage: 2.1+ MB\n"
          ]
        }
      ],
      "source": [
        "cleaned_df.info()"
      ],
      "id": "mvgsZO_RXzXP"
    },
    {
      "cell_type": "markdown",
      "metadata": {
        "id": "0GVdoFjacBsm"
      },
      "source": [
        "For clustering, we will categorize the observations by `Platform`, `Year_of_Release`, `Genre`, and `Publisher`. `NA_Sales`, `EU_Sales`, `JP_Sales`, and `Other_Sales` will be used to cluster the dataset.\n"
      ],
      "id": "0GVdoFjacBsm"
    },
    {
      "cell_type": "markdown",
      "metadata": {
        "id": "l1VnEjCSglAk"
      },
      "source": [
        "### Data Preprocessing"
      ],
      "id": "l1VnEjCSglAk"
    },
    {
      "cell_type": "markdown",
      "metadata": {
        "id": "wXLtyibUgpDU"
      },
      "source": [
        "Before we start clustering, we will do some additional data preprocessing. Since the `Year_of_Release` values are too specific for the research question, we will instead bin the years by decade."
      ],
      "id": "wXLtyibUgpDU"
    },
    {
      "cell_type": "code",
      "execution_count": null,
      "metadata": {
        "id": "UACmdHE-xIDg"
      },
      "outputs": [],
      "source": [
        "cleaned_df.loc[cleaned_df['Year_of_Release'].between(1970, 1979, 'both'), 'Decade_of_Release'] = '1970-1979'\n",
        "cleaned_df.loc[cleaned_df['Year_of_Release'].between(1980, 1989, 'both'), 'Decade_of_Release'] = '1980-1989'\n",
        "cleaned_df.loc[cleaned_df['Year_of_Release'].between(1990, 1999, 'both'), 'Decade_of_Release'] = '1990-1999'\n",
        "cleaned_df.loc[cleaned_df['Year_of_Release'].between(2000, 2009, 'both'), 'Decade_of_Release'] = '2000-2009'\n",
        "cleaned_df.loc[cleaned_df['Year_of_Release'].between(2010, 2019, 'both'), 'Decade_of_Release'] = '2010-2019'\n",
        "\n",
        "cleaned_df['Year_of_Release'] = cleaned_df['Decade_of_Release']\n",
        "del cleaned_df['Decade_of_Release']"
      ],
      "id": "UACmdHE-xIDg"
    },
    {
      "cell_type": "code",
      "execution_count": null,
      "metadata": {
        "colab": {
          "base_uri": "https://localhost:8080/"
        },
        "id": "6EsQKJkr1u3y",
        "outputId": "642bd2d6-811f-41b9-bc3c-20deb8e982cd"
      },
      "outputs": [
        {
          "output_type": "execute_result",
          "data": {
            "text/plain": [
              "array(['2000-2009', '1980-1989', '1990-1999', '2010-2019', '1970-1979'],\n",
              "      dtype=object)"
            ]
          },
          "metadata": {},
          "execution_count": 55
        }
      ],
      "source": [
        "cleaned_df['Year_of_Release'].unique()"
      ],
      "id": "6EsQKJkr1u3y"
    },
    {
      "cell_type": "markdown",
      "metadata": {
        "id": "b_qt_aiMvo9h"
      },
      "source": [
        "As seen in the 2nd EDA Question, there are several `Publishers` that have only published one game. As such, said publishers will be aggregated and renamed as \"One-Time Publisher\""
      ],
      "id": "b_qt_aiMvo9h"
    },
    {
      "cell_type": "code",
      "execution_count": null,
      "metadata": {
        "colab": {
          "base_uri": "https://localhost:8080/"
        },
        "id": "w6_697S_3wA7",
        "outputId": "954db090-900c-402e-a5ea-c52328b317d4"
      },
      "outputs": [
        {
          "output_type": "execute_result",
          "data": {
            "text/plain": [
              "Electronic Arts                 1379\n",
              "Activision                      1005\n",
              "Namco Bandai Games               972\n",
              "Ubisoft                          969\n",
              "Konami Digital Entertainment     865\n",
              "                                ... \n",
              "CTO SpA                            2\n",
              "MLB.com                            2\n",
              "Liquid Games                       2\n",
              "Crimson Cow                        2\n",
              "Milkstone Studios                  2\n",
              "Name: Publisher, Length: 419, dtype: int64"
            ]
          },
          "metadata": {},
          "execution_count": 56
        }
      ],
      "source": [
        "one_time_publishers = cleaned_df['Publisher'].value_counts().reset_index(name='Count').query('Count == 1')\n",
        "cleaned_df.loc[cleaned_df['Publisher'].isin(one_time_publishers['index']), \"Publisher\"] = \"One-Time Publisher\"\n",
        "cleaned_df['Publisher'].value_counts()"
      ],
      "id": "w6_697S_3wA7"
    },
    {
      "cell_type": "markdown",
      "metadata": {
        "id": "aaChw48T8Cwg"
      },
      "source": [
        "### Finding the Optimal k-value"
      ],
      "id": "aaChw48T8Cwg"
    },
    {
      "cell_type": "code",
      "execution_count": null,
      "metadata": {
        "id": "0C8ZhxsYc2yg"
      },
      "outputs": [],
      "source": [
        "from sklearn.cluster import KMeans\n",
        "import sklearn\n",
        "import sklearn.metrics as sm\n",
        "from sklearn import datasets"
      ],
      "id": "0C8ZhxsYc2yg"
    },
    {
      "cell_type": "markdown",
      "metadata": {
        "id": "uBm0hQRskqZv"
      },
      "source": [
        "We can try using the [elbow method](https://stackabuse.com/k-means-clustering-with-the-elbow-method/) to determine optimal amount of clusters `k`. "
      ],
      "id": "uBm0hQRskqZv"
    },
    {
      "cell_type": "code",
      "execution_count": null,
      "metadata": {
        "id": "0eMlg3ffb6Fj"
      },
      "outputs": [],
      "source": [
        "X = cleaned_df[['NA_Sales', 'EU_Sales', 'JP_Sales', 'Other_Sales']]\n",
        "distortions = []\n",
        "for k in range(2, 11):\n",
        "    kmeans = KMeans(n_clusters=k)\n",
        "    kmeans.fit(X)\n",
        "    distortions.append(kmeans.inertia_)\n",
        "    "
      ],
      "id": "0eMlg3ffb6Fj"
    },
    {
      "cell_type": "code",
      "execution_count": null,
      "metadata": {
        "id": "3ae9GTaK-M4-",
        "colab": {
          "base_uri": "https://localhost:8080/"
        },
        "outputId": "0859e479-7afb-4271-95ca-75adcd46d61f"
      },
      "outputs": [
        {
          "output_type": "display_data",
          "data": {
            "text/plain": [
              "<Figure size 720x360 with 1 Axes>"
            ],
            "image/png": "[encoded data removed]"
          },
          "metadata": {
            "needs_background": "light"
          }
        }
      ],
      "source": [
        "fig = plt.figure(figsize=(10, 5))\n",
        "plt.plot(range(2,11), distortions)\n",
        "plt.title('Elbow Curve')\n",
        "# plt.legend()\n",
        "plt.show()"
      ],
      "id": "3ae9GTaK-M4-"
    },
    {
      "cell_type": "markdown",
      "metadata": {
        "id": "sC9hO_Sqq7xj"
      },
      "source": [
        "We can see from the graph above that the average distances to the centroid starts to stabilize at around `k = 4`. As such, we could divide the dataset into 4 clusters."
      ],
      "id": "sC9hO_Sqq7xj"
    },
    {
      "cell_type": "code",
      "execution_count": null,
      "metadata": {
        "id": "2_wsShzNLRnf",
        "colab": {
          "base_uri": "https://localhost:8080/"
        },
        "outputId": "b3d7fdff-2cd4-461c-b17b-3a9da59682a1"
      },
      "outputs": [
        {
          "output_type": "execute_result",
          "data": {
            "text/plain": [
              "KMeans(n_clusters=4, random_state=0)"
            ]
          },
          "metadata": {},
          "execution_count": 60
        }
      ],
      "source": [
        "kmeans = KMeans(n_clusters = 4, random_state=0)\n",
        "kmeans.fit(X)"
      ],
      "id": "2_wsShzNLRnf"
    },
    {
      "cell_type": "markdown",
      "metadata": {
        "id": "jrXSDwo1Fz5N"
      },
      "source": [
        "### Centroids of Each Cluster"
      ],
      "id": "jrXSDwo1Fz5N"
    },
    {
      "cell_type": "code",
      "execution_count": null,
      "metadata": {
        "colab": {
          "base_uri": "https://localhost:8080/"
        },
        "id": "BnLfVCDL6slT",
        "outputId": "73b35c08-959a-44c5-db7f-fd695274c766"
      },
      "outputs": [
        {
          "output_type": "display_data",
          "data": {
            "text/plain": [
              "    NA_Sales  EU_Sales  JP_Sales  Other_Sales\n",
              "0   0.134794  0.071500  0.054308     0.024936\n",
              "1  21.702222  8.913333  3.335556     2.587778\n",
              "2   1.638219  0.951884  0.255072     0.293219\n",
              "3   6.502754  4.069275  2.045797     1.229275"
            ],
            "text/html": [
              "\n",
              "  <div id=\"df-9daaa48a-0c9e-49b0-aae2-0b3309901516\">\n",
              "    <div class=\"colab-df-container\">\n",
              "      <div>\n",
              "<style scoped>\n",
              "    .dataframe tbody tr th:only-of-type {\n",
              "        vertical-align: middle;\n",
              "    }\n",
              "\n",
              "    .dataframe tbody tr th {\n",
              "        vertical-align: top;\n",
              "    }\n",
              "\n",
              "    .dataframe thead th {\n",
              "        text-align: right;\n",
              "    }\n",
              "</style>\n",
              "<table border=\"1\" class=\"dataframe\">\n",
              "  <thead>\n",
              "    <tr style=\"text-align: right;\">\n",
              "      <th></th>\n",
              "      <th>NA_Sales</th>\n",
              "      <th>EU_Sales</th>\n",
              "      <th>JP_Sales</th>\n",
              "      <th>Other_Sales</th>\n",
              "    </tr>\n",
              "  </thead>\n",
              "  <tbody>\n",
              "    <tr>\n",
              "      <th>0</th>\n",
              "      <td>0.134794</td>\n",
              "      <td>0.071500</td>\n",
              "      <td>0.054308</td>\n",
              "      <td>0.024936</td>\n",
              "    </tr>\n",
              "    <tr>\n",
              "      <th>1</th>\n",
              "      <td>21.702222</td>\n",
              "      <td>8.913333</td>\n",
              "      <td>3.335556</td>\n",
              "      <td>2.587778</td>\n",
              "    </tr>\n",
              "    <tr>\n",
              "      <th>2</th>\n",
              "      <td>1.638219</td>\n",
              "      <td>0.951884</td>\n",
              "      <td>0.255072</td>\n",
              "      <td>0.293219</td>\n",
              "    </tr>\n",
              "    <tr>\n",
              "      <th>3</th>\n",
              "      <td>6.502754</td>\n",
              "      <td>4.069275</td>\n",
              "      <td>2.045797</td>\n",
              "      <td>1.229275</td>\n",
              "    </tr>\n",
              "  </tbody>\n",
              "</table>\n",
              "</div>\n",
              "      <button class=\"colab-df-convert\" onclick=\"convertToInteractive('df-9daaa48a-0c9e-49b0-aae2-0b3309901516')\"\n",
              "              title=\"Convert this dataframe to an interactive table.\"\n",
              "              style=\"display:none;\">\n",
              "        \n",
              "  <svg xmlns=\"http://www.w3.org/2000/svg\" height=\"24px\"viewBox=\"0 0 24 24\"\n",
              "       width=\"24px\">\n",
              "    <path d=\"M0 0h24v24H0V0z\" fill=\"none\"/>\n",
              "    <path d=\"M18.56 5.44l.94 2.06.94-2.06 2.06-.94-2.06-.94-.94-2.06-.94 2.06-2.06.94zm-11 1L8.5 8.5l.94-2.06 2.06-.94-2.06-.94L8.5 2.5l-.94 2.06-2.06.94zm10 10l.94 2.06.94-2.06 2.06-.94-2.06-.94-.94-2.06-.94 2.06-2.06.94z\"/><path d=\"M17.41 7.96l-1.37-1.37c-.4-.4-.92-.59-1.43-.59-.52 0-1.04.2-1.43.59L10.3 9.45l-7.72 7.72c-.78.78-.78 2.05 0 2.83L4 21.41c.39.39.9.59 1.41.59.51 0 1.02-.2 1.41-.59l7.78-7.78 2.81-2.81c.8-.78.8-2.07 0-2.86zM5.41 20L4 18.59l7.72-7.72 1.47 1.35L5.41 20z\"/>\n",
              "  </svg>\n",
              "      </button>\n",
              "      \n",
              "  <style>\n",
              "    .colab-df-container {\n",
              "      display:flex;\n",
              "      flex-wrap:wrap;\n",
              "      gap: 12px;\n",
              "    }\n",
              "\n",
              "    .colab-df-convert {\n",
              "      background-color: #E8F0FE;\n",
              "      border: none;\n",
              "      border-radius: 50%;\n",
              "      cursor: pointer;\n",
              "      display: none;\n",
              "      fill: #1967D2;\n",
              "      height: 32px;\n",
              "      padding: 0 0 0 0;\n",
              "      width: 32px;\n",
              "    }\n",
              "\n",
              "    .colab-df-convert:hover {\n",
              "      background-color: #E2EBFA;\n",
              "      box-shadow: 0px 1px 2px rgba(60, 64, 67, 0.3), 0px 1px 3px 1px rgba(60, 64, 67, 0.15);\n",
              "      fill: #174EA6;\n",
              "    }\n",
              "\n",
              "    [theme=dark] .colab-df-convert {\n",
              "      background-color: #3B4455;\n",
              "      fill: #D2E3FC;\n",
              "    }\n",
              "\n",
              "    [theme=dark] .colab-df-convert:hover {\n",
              "      background-color: #434B5C;\n",
              "      box-shadow: 0px 1px 3px 1px rgba(0, 0, 0, 0.15);\n",
              "      filter: drop-shadow(0px 1px 2px rgba(0, 0, 0, 0.3));\n",
              "      fill: #FFFFFF;\n",
              "    }\n",
              "  </style>\n",
              "\n",
              "      <script>\n",
              "        const buttonEl =\n",
              "          document.querySelector('#df-9daaa48a-0c9e-49b0-aae2-0b3309901516 button.colab-df-convert');\n",
              "        buttonEl.style.display =\n",
              "          google.colab.kernel.accessAllowed ? 'block' : 'none';\n",
              "\n",
              "        async function convertToInteractive(key) {\n",
              "          const element = document.querySelector('#df-9daaa48a-0c9e-49b0-aae2-0b3309901516');\n",
              "          const dataTable =\n",
              "            await google.colab.kernel.invokeFunction('convertToInteractive',\n",
              "                                                     [key], {});\n",
              "          if (!dataTable) return;\n",
              "\n",
              "          const docLinkHtml = 'Like what you see? Visit the ' +\n",
              "            '<a target=\"_blank\" href=https://colab.research.google.com/notebooks/data_table.ipynb>data table notebook</a>'\n",
              "            + ' to learn more about interactive tables.';\n",
              "          element.innerHTML = '';\n",
              "          dataTable['output_type'] = 'display_data';\n",
              "          await google.colab.output.renderOutput(dataTable, element);\n",
              "          const docLink = document.createElement('div');\n",
              "          docLink.innerHTML = docLinkHtml;\n",
              "          element.appendChild(docLink);\n",
              "        }\n",
              "      </script>\n",
              "    </div>\n",
              "  </div>\n",
              "  "
            ]
          },
          "metadata": {}
        }
      ],
      "source": [
        "kmeans.cluster_centers_\n",
        "centroids = pd.DataFrame(kmeans.cluster_centers_)\n",
        "centroids.columns = ['NA_Sales', 'EU_Sales', 'JP_Sales', 'Other_Sales']\n",
        "display(centroids)"
      ],
      "id": "BnLfVCDL6slT"
    },
    {
      "cell_type": "markdown",
      "source": [
        "Based on the centroids above, we can assume that the dataset was clustered into the following: \n",
        "- Cluster 0 - Low Performing Sales\n",
        "- Cluster 1 - Highest Performing Sales\n",
        "- Cluster 2 - Middle Performing Sales\n",
        "- Cluster 3 - High Performing Sales\n",
        "\n",
        "We can verify this by examining each cluster."
      ],
      "metadata": {
        "id": "B5Mhk5ptu5Ed"
      },
      "id": "B5Mhk5ptu5Ed"
    },
    {
      "cell_type": "code",
      "source": [
        "clustered_df = cleaned_df.assign(Cluster = list(kmeans.labels_))"
      ],
      "metadata": {
        "id": "pZlc9t8Svgjz"
      },
      "id": "pZlc9t8Svgjz",
      "execution_count": null,
      "outputs": []
    },
    {
      "cell_type": "markdown",
      "metadata": {
        "id": "rg1kfoOEKyfV"
      },
      "source": [
        "### Cluster 0 - Low Performing Sales"
      ],
      "id": "rg1kfoOEKyfV"
    },
    {
      "cell_type": "code",
      "execution_count": null,
      "metadata": {
        "colab": {
          "base_uri": "https://localhost:8080/",
          "height": 656
        },
        "id": "7m32jyy1Jnmt",
        "outputId": "b8f54bd9-4e53-4864-eed0-ebbb9e31714b"
      },
      "outputs": [
        {
          "output_type": "display_data",
          "data": {
            "text/plain": [
              "<Figure size 1440x576 with 4 Axes>"
            ],
            "image/png": "[encoded data removed]"
          },
          "metadata": {
            "needs_background": "light"
          }
        },
        {
          "output_type": "stream",
          "name": "stdout",
          "text": [
            "Count:  16367\n",
            "           NA_Sales      JP_Sales      EU_Sales   Other_Sales\n",
            "count  16367.000000  16367.000000  16367.000000  16367.000000\n",
            "mean       0.134695      0.054302      0.071453      0.024928\n",
            "std        0.191861      0.183181      0.135900      0.067901\n",
            "min        0.000000      0.000000      0.000000      0.000000\n",
            "25%        0.000000      0.000000      0.000000      0.000000\n",
            "50%        0.060000      0.000000      0.020000      0.010000\n",
            "75%        0.180000      0.030000      0.080000      0.020000\n",
            "max        1.200000      4.870000      1.580000      2.930000\n"
          ]
        }
      ],
      "source": [
        "cluster_0 = clustered_df.loc[clustered_df['Cluster'] == 0]\n",
        "fig, axes = plt.subplots(2,2,figsize=(20,8))\n",
        "cluster_0['Platform'].value_counts().plot.bar(rot=1, ax=axes[0, 0])\n",
        "cluster_0['Year_of_Release'].value_counts().plot.bar(rot=1, ax=axes[0, 1])\n",
        "cluster_0['Genre'].value_counts().plot.bar(rot=1, ax=axes[1, 0])\n",
        "cluster_0['Publisher'].value_counts().nlargest(10).plot.bar(rot=1, ax=axes[1, 1])\n",
        "plt.show()\n",
        "print(\"Count: \", len(cluster_0))\n",
        "print(cluster_0[['NA_Sales', 'JP_Sales', 'EU_Sales', 'Other_Sales']].describe())"
      ],
      "id": "7m32jyy1Jnmt"
    },
    {
      "cell_type": "markdown",
      "source": [
        "There are 16,367 video games in Cluster 0. We can see that the average video game sales in this cluster is very low, with the highest sale being `4.87` in `JP_Sales`. It is normal to have most of the games in the low sales cluster since not all games can become blockbusters.\n",
        "- Most of the games released on the `DS`, `PS2`, and `PSP` generally don't perform well.\n",
        "- Most games in this cluster was released during `2000-2009`.\n",
        "- Despite these genres having high overall sales, `Action`, `Sports`, and `Misc`games don't perform well individually.\n",
        "- Games published by `Electronic Arts`, `Namco Bandai Games`, and `Activision` generally don't have high sales."
      ],
      "metadata": {
        "id": "zMpRCXlhaez_"
      },
      "id": "zMpRCXlhaez_"
    },
    {
      "cell_type": "markdown",
      "source": [
        "### Cluster 1 - Highest Performing Sales"
      ],
      "metadata": {
        "id": "ietWKuT2xOUu"
      },
      "id": "ietWKuT2xOUu"
    },
    {
      "cell_type": "code",
      "source": [
        "cluster_1 = clustered_df.loc[clustered_df['Cluster'] == 1]\n",
        "fig, axes = plt.subplots(2,2,figsize=(20,8))\n",
        "cluster_1['Platform'].value_counts().plot.bar(rot=1, ax=axes[0, 0])\n",
        "cluster_1['Year_of_Release'].value_counts().plot.bar(rot=1, ax=axes[0, 1])\n",
        "cluster_1['Genre'].value_counts().plot.bar(rot=1, ax=axes[1, 0])\n",
        "cluster_1['Publisher'].value_counts().nlargest(10).plot.bar(rot=1, ax=axes[1, 1])\n",
        "plt.show()\n",
        "print(\"Count: \", len(cluster_1))\n",
        "print(cluster_1[['NA_Sales', 'JP_Sales', 'EU_Sales', 'Other_Sales']].describe())"
      ],
      "metadata": {
        "colab": {
          "base_uri": "https://localhost:8080/",
          "height": 655
        },
        "id": "UjBP4r1pxTtE",
        "outputId": "a1d09cb6-2c50-45df-fcd4-bdd49634fc09"
      },
      "id": "UjBP4r1pxTtE",
      "execution_count": null,
      "outputs": [
        {
          "output_type": "display_data",
          "data": {
            "text/plain": [
              "<Figure size 1440x576 with 4 Axes>"
            ],
            "image/png": "[encoded data removed]"
          },
          "metadata": {
            "needs_background": "light"
          }
        },
        {
          "output_type": "stream",
          "name": "stdout",
          "text": [
            "Count:  9\n",
            "        NA_Sales  JP_Sales   EU_Sales  Other_Sales\n",
            "count   9.000000  9.000000   9.000000     9.000000\n",
            "mean   21.702222  3.335556   8.913333     2.587778\n",
            "std     9.357950  2.067529   8.532295     2.444232\n",
            "min    13.960000  0.240000   0.630000     0.470000\n",
            "25%    15.020000  2.930000   3.580000     0.770000\n",
            "50%    15.680000  3.770000   6.950000     2.250000\n",
            "75%    26.930000  4.220000  10.950000     2.950000\n",
            "max    41.360000  6.810000  28.960000     8.450000\n"
          ]
        }
      ]
    },
    {
      "cell_type": "markdown",
      "source": [
        "There are only 9 video games in Cluster 1. These are the games that have very high sales globally compared to the others making them blockbusters.\n",
        "- Five out the nine games were on the `Wii`, despite most of the games in the platform performing poorly.\n",
        "- Most games in this cluster was released during `2000-2009`.\n",
        "- The most frequent genres in this cluster are `Sports`, `Platform` and `Misc`.\n",
        "- Eight of the nine games were published by `Nintendo`, with only one game from `Microsoft Game Studios` competing in terms of sales. This is most likely because `Nintendo` also owns the `Wii`."
      ],
      "metadata": {
        "id": "MUoLhgJeb7xg"
      },
      "id": "MUoLhgJeb7xg"
    },
    {
      "cell_type": "code",
      "source": [
        "cluster_1.loc[cluster_1['Publisher'] == \"Microsoft Game Studios\"]"
      ],
      "metadata": {
        "colab": {
          "base_uri": "https://localhost:8080/",
          "height": 159
        },
        "id": "ZQ-he-DqdnrP",
        "outputId": "5984b821-babb-4662-e9da-03b1bd33a577"
      },
      "id": "ZQ-he-DqdnrP",
      "execution_count": null,
      "outputs": [
        {
          "output_type": "execute_result",
          "data": {
            "text/plain": [
              "                  Name Platform Year_of_Release Genre               Publisher  \\\n",
              "14  Kinect Adventures!     X360       2010-2019  Misc  Microsoft Game Studios   \n",
              "\n",
              "    NA_Sales  EU_Sales  JP_Sales  Other_Sales  Global_Sales  Critic_Score  \\\n",
              "14     15.02      4.91      0.24         1.69         21.86          61.0   \n",
              "\n",
              "    Critic_Count  User_Score  User_Count Rating  Cluster  \n",
              "14          45.0         6.3       106.0      E        1  "
            ],
            "text/html": [
              "\n",
              "  <div id=\"df-87726467-6283-4b9f-bb06-c2da1761494b\">\n",
              "    <div class=\"colab-df-container\">\n",
              "      <div>\n",
              "<style scoped>\n",
              "    .dataframe tbody tr th:only-of-type {\n",
              "        vertical-align: middle;\n",
              "    }\n",
              "\n",
              "    .dataframe tbody tr th {\n",
              "        vertical-align: top;\n",
              "    }\n",
              "\n",
              "    .dataframe thead th {\n",
              "        text-align: right;\n",
              "    }\n",
              "</style>\n",
              "<table border=\"1\" class=\"dataframe\">\n",
              "  <thead>\n",
              "    <tr style=\"text-align: right;\">\n",
              "      <th></th>\n",
              "      <th>Name</th>\n",
              "      <th>Platform</th>\n",
              "      <th>Year_of_Release</th>\n",
              "      <th>Genre</th>\n",
              "      <th>Publisher</th>\n",
              "      <th>NA_Sales</th>\n",
              "      <th>EU_Sales</th>\n",
              "      <th>JP_Sales</th>\n",
              "      <th>Other_Sales</th>\n",
              "      <th>Global_Sales</th>\n",
              "      <th>Critic_Score</th>\n",
              "      <th>Critic_Count</th>\n",
              "      <th>User_Score</th>\n",
              "      <th>User_Count</th>\n",
              "      <th>Rating</th>\n",
              "      <th>Cluster</th>\n",
              "    </tr>\n",
              "  </thead>\n",
              "  <tbody>\n",
              "    <tr>\n",
              "      <th>14</th>\n",
              "      <td>Kinect Adventures!</td>\n",
              "      <td>X360</td>\n",
              "      <td>2010-2019</td>\n",
              "      <td>Misc</td>\n",
              "      <td>Microsoft Game Studios</td>\n",
              "      <td>15.02</td>\n",
              "      <td>4.91</td>\n",
              "      <td>0.24</td>\n",
              "      <td>1.69</td>\n",
              "      <td>21.86</td>\n",
              "      <td>61.0</td>\n",
              "      <td>45.0</td>\n",
              "      <td>6.3</td>\n",
              "      <td>106.0</td>\n",
              "      <td>E</td>\n",
              "      <td>1</td>\n",
              "    </tr>\n",
              "  </tbody>\n",
              "</table>\n",
              "</div>\n",
              "      <button class=\"colab-df-convert\" onclick=\"convertToInteractive('df-87726467-6283-4b9f-bb06-c2da1761494b')\"\n",
              "              title=\"Convert this dataframe to an interactive table.\"\n",
              "              style=\"display:none;\">\n",
              "        \n",
              "  <svg xmlns=\"http://www.w3.org/2000/svg\" height=\"24px\"viewBox=\"0 0 24 24\"\n",
              "       width=\"24px\">\n",
              "    <path d=\"M0 0h24v24H0V0z\" fill=\"none\"/>\n",
              "    <path d=\"M18.56 5.44l.94 2.06.94-2.06 2.06-.94-2.06-.94-.94-2.06-.94 2.06-2.06.94zm-11 1L8.5 8.5l.94-2.06 2.06-.94-2.06-.94L8.5 2.5l-.94 2.06-2.06.94zm10 10l.94 2.06.94-2.06 2.06-.94-2.06-.94-.94-2.06-.94 2.06-2.06.94z\"/><path d=\"M17.41 7.96l-1.37-1.37c-.4-.4-.92-.59-1.43-.59-.52 0-1.04.2-1.43.59L10.3 9.45l-7.72 7.72c-.78.78-.78 2.05 0 2.83L4 21.41c.39.39.9.59 1.41.59.51 0 1.02-.2 1.41-.59l7.78-7.78 2.81-2.81c.8-.78.8-2.07 0-2.86zM5.41 20L4 18.59l7.72-7.72 1.47 1.35L5.41 20z\"/>\n",
              "  </svg>\n",
              "      </button>\n",
              "      \n",
              "  <style>\n",
              "    .colab-df-container {\n",
              "      display:flex;\n",
              "      flex-wrap:wrap;\n",
              "      gap: 12px;\n",
              "    }\n",
              "\n",
              "    .colab-df-convert {\n",
              "      background-color: #E8F0FE;\n",
              "      border: none;\n",
              "      border-radius: 50%;\n",
              "      cursor: pointer;\n",
              "      display: none;\n",
              "      fill: #1967D2;\n",
              "      height: 32px;\n",
              "      padding: 0 0 0 0;\n",
              "      width: 32px;\n",
              "    }\n",
              "\n",
              "    .colab-df-convert:hover {\n",
              "      background-color: #E2EBFA;\n",
              "      box-shadow: 0px 1px 2px rgba(60, 64, 67, 0.3), 0px 1px 3px 1px rgba(60, 64, 67, 0.15);\n",
              "      fill: #174EA6;\n",
              "    }\n",
              "\n",
              "    [theme=dark] .colab-df-convert {\n",
              "      background-color: #3B4455;\n",
              "      fill: #D2E3FC;\n",
              "    }\n",
              "\n",
              "    [theme=dark] .colab-df-convert:hover {\n",
              "      background-color: #434B5C;\n",
              "      box-shadow: 0px 1px 3px 1px rgba(0, 0, 0, 0.15);\n",
              "      filter: drop-shadow(0px 1px 2px rgba(0, 0, 0, 0.3));\n",
              "      fill: #FFFFFF;\n",
              "    }\n",
              "  </style>\n",
              "\n",
              "      <script>\n",
              "        const buttonEl =\n",
              "          document.querySelector('#df-87726467-6283-4b9f-bb06-c2da1761494b button.colab-df-convert');\n",
              "        buttonEl.style.display =\n",
              "          google.colab.kernel.accessAllowed ? 'block' : 'none';\n",
              "\n",
              "        async function convertToInteractive(key) {\n",
              "          const element = document.querySelector('#df-87726467-6283-4b9f-bb06-c2da1761494b');\n",
              "          const dataTable =\n",
              "            await google.colab.kernel.invokeFunction('convertToInteractive',\n",
              "                                                     [key], {});\n",
              "          if (!dataTable) return;\n",
              "\n",
              "          const docLinkHtml = 'Like what you see? Visit the ' +\n",
              "            '<a target=\"_blank\" href=https://colab.research.google.com/notebooks/data_table.ipynb>data table notebook</a>'\n",
              "            + ' to learn more about interactive tables.';\n",
              "          element.innerHTML = '';\n",
              "          dataTable['output_type'] = 'display_data';\n",
              "          await google.colab.output.renderOutput(dataTable, element);\n",
              "          const docLink = document.createElement('div');\n",
              "          docLink.innerHTML = docLinkHtml;\n",
              "          element.appendChild(docLink);\n",
              "        }\n",
              "      </script>\n",
              "    </div>\n",
              "  </div>\n",
              "  "
            ]
          },
          "metadata": {},
          "execution_count": 65
        }
      ]
    },
    {
      "cell_type": "markdown",
      "source": [
        "### Cluster 2 - Middle Performing Sales"
      ],
      "metadata": {
        "id": "qzmMb5VmxxNd"
      },
      "id": "qzmMb5VmxxNd"
    },
    {
      "cell_type": "code",
      "source": [
        "cluster_2 = clustered_df.loc[clustered_df['Cluster'] == 2]\n",
        "fig, axes = plt.subplots(2,2,figsize=(20,8))\n",
        "cluster_2['Platform'].value_counts().plot.bar(rot=1, ax=axes[0, 0])\n",
        "cluster_2['Year_of_Release'].value_counts().plot.bar(rot=1, ax=axes[0, 1])\n",
        "cluster_2['Genre'].value_counts().plot.bar(rot=1, ax=axes[1, 0])\n",
        "cluster_2['Publisher'].value_counts().nlargest(10).plot.bar(rot=1, ax=axes[1, 1])\n",
        "plt.show()\n",
        "print(\"Count: \", len(cluster_2))\n",
        "print(cluster_2[['NA_Sales', 'JP_Sales', 'EU_Sales', 'Other_Sales']].describe())"
      ],
      "metadata": {
        "colab": {
          "base_uri": "https://localhost:8080/",
          "height": 656
        },
        "id": "qUWWE8bCxwwk",
        "outputId": "8b4b5dc2-236d-40c6-a6ab-720898f9fa0a"
      },
      "id": "qUWWE8bCxwwk",
      "execution_count": null,
      "outputs": [
        {
          "output_type": "display_data",
          "data": {
            "text/plain": [
              "<Figure size 1440x576 with 4 Axes>"
            ],
            "image/png": "[encoded data removed]"
          },
          "metadata": {
            "needs_background": "light"
          }
        },
        {
          "output_type": "stream",
          "name": "stdout",
          "text": [
            "Count:  968\n",
            "         NA_Sales    JP_Sales    EU_Sales  Other_Sales\n",
            "count  968.000000  968.000000  968.000000   968.000000\n",
            "mean     1.636777    0.254752    0.950857     0.292800\n",
            "std      0.801184    0.557804    0.800849     0.351108\n",
            "min      0.020000    0.000000    0.000000     0.000000\n",
            "25%      1.070000    0.000000    0.440000     0.110000\n",
            "50%      1.440000    0.030000    0.770000     0.220000\n",
            "75%      2.030000    0.172500    1.252500     0.380000\n",
            "max      4.980000    4.430000    6.750000     7.530000\n"
          ]
        }
      ]
    },
    {
      "cell_type": "markdown",
      "source": [
        "There are 968 video games in Cluster 2. We can see the games here have higher average in sales in each region compared to Cluster 0.\n",
        "- Games that performed decently were released on the `PS2`, and `X360` and `PS3`.\n",
        "- Most games in this cluster was released during `2000-2009`.\n",
        "- Games that performed decently belong to the `Action`, and `Sports`, and `Shooter` genres.\n",
        "- Games published by `Electronic Arts`, `Nintendo`, and `Sony Computer Entertainment` generally perform decently. However, most of `Electronic Arts` games are in Cluster 0."
      ],
      "metadata": {
        "id": "GIgMjkVieFoY"
      },
      "id": "GIgMjkVieFoY"
    },
    {
      "cell_type": "markdown",
      "source": [
        "### Cluster 3 - High Performing Sales"
      ],
      "metadata": {
        "id": "Yn71JnqLyeaG"
      },
      "id": "Yn71JnqLyeaG"
    },
    {
      "cell_type": "code",
      "source": [
        "cluster_3 = clustered_df.loc[clustered_df['Cluster'] == 3]\n",
        "fig, axes = plt.subplots(2,2,figsize=(20,8))\n",
        "cluster_3['Platform'].value_counts().plot.bar(rot=1, ax=axes[0, 0])\n",
        "cluster_3['Year_of_Release'].value_counts().plot.bar(rot=1, ax=axes[0, 1])\n",
        "cluster_3['Genre'].value_counts().plot.bar(rot=1, ax=axes[1, 0])\n",
        "cluster_3['Publisher'].value_counts().nlargest(10).plot.bar(rot=1, ax=axes[1, 1])\n",
        "plt.show()\n",
        "print(\"Count: \", len(cluster_3))\n",
        "print(cluster_3[['NA_Sales', 'JP_Sales', 'EU_Sales', 'Other_Sales']].describe())"
      ],
      "metadata": {
        "colab": {
          "base_uri": "https://localhost:8080/",
          "height": 656
        },
        "id": "IAfUD4Byyh8G",
        "outputId": "cbf25736-2ecb-4f8a-f006-8aed3f76c75a"
      },
      "id": "IAfUD4Byyh8G",
      "execution_count": null,
      "outputs": [
        {
          "output_type": "display_data",
          "data": {
            "text/plain": [
              "<Figure size 1440x576 with 4 Axes>"
            ],
            "image/png": "[encoded data removed]"
          },
          "metadata": {
            "needs_background": "light"
          }
        },
        {
          "output_type": "stream",
          "name": "stdout",
          "text": [
            "Count:  69\n",
            "        NA_Sales   JP_Sales   EU_Sales  Other_Sales\n",
            "count  69.000000  69.000000  69.000000    69.000000\n",
            "mean    6.502754   2.045797   4.069275     1.229275\n",
            "std     2.176463   2.159046   2.207326     1.359703\n",
            "min     2.500000   0.000000   0.400000     0.080000\n",
            "25%     4.990000   0.140000   2.710000     0.630000\n",
            "50%     6.000000   1.690000   3.600000     0.910000\n",
            "75%     7.970000   3.120000   5.040000     1.410000\n",
            "max    12.780000  10.220000  10.950000    10.570000\n"
          ]
        }
      ]
    },
    {
      "cell_type": "markdown",
      "source": [
        "There are 69 video games in Cluster 3. We can see the games here have higher average in sales in each region compared to Cluster 0 and Cluster 3. This means that these are the games the performed the best in sales, but not so high to reach the \"blockbuster\" status of Cluster 1.\n",
        "- The most popular games in terms of sales are released on the `X360`, and `DS` and `PS3`.\n",
        "- Most games in this cluster was released during `2000-2009`, with `2010-2019` coming a close second.\n",
        "- The most common genres in this cluster are `Shooter`, `Platform`, and `Role-Playing`.\n",
        "- Games published by `Nintendo` typically get high sales, followed by `Activision` and `Take-Two Entertainment`."
      ],
      "metadata": {
        "id": "Pt_fIIJbgk13"
      },
      "id": "Pt_fIIJbgk13"
    },
    {
      "cell_type": "markdown",
      "metadata": {
        "id": "Oc32BM5e8yt_"
      },
      "source": [
        "# VI. Statistical Inference\n"
      ],
      "id": "Oc32BM5e8yt_"
    },
    {
      "cell_type": "code",
      "execution_count": null,
      "metadata": {
        "id": "-L06NgmUEZqx"
      },
      "outputs": [],
      "source": [
        "from scipy.stats import norm\n",
        "from scipy.stats import ttest_ind\n",
        "from scipy.stats import chi2_contingency"
      ],
      "id": "-L06NgmUEZqx"
    },
    {
      "cell_type": "markdown",
      "source": [
        "Through clustering, it was found that the frequency of various categorical variables (`Genre`, `Year_of_Release`, `Platform`) varied for each cluster. Using the new `Cluster` as a measure of sales performance, it would be interesting to see if the sales performance (a video game being in C0, C1, C2, OR C3) is dependent on the aforementioned categorical variables with a chi square test of independence."
      ],
      "metadata": {
        "id": "Al-NqGQHg4zt"
      },
      "id": "Al-NqGQHg4zt"
    },
    {
      "cell_type": "markdown",
      "metadata": {
        "id": "b0878BCpVABF"
      },
      "source": [
        "## Test of independence: Genre"
      ],
      "id": "b0878BCpVABF"
    },
    {
      "cell_type": "markdown",
      "metadata": {
        "id": "mLe2jd5XTWfi"
      },
      "source": [
        "Test of Independence\n",
        "\n",
        "Hypotheses:\n",
        "\n",
        "$H_0$ (null hypothesis): The sales performance of a video game is not dependent on its genre.\n",
        "\n",
        "$H_A$ (alternative hypothesis):  The sales performance of a video game is dependent on its genre."
      ],
      "id": "mLe2jd5XTWfi"
    },
    {
      "cell_type": "code",
      "execution_count": null,
      "metadata": {
        "colab": {
          "base_uri": "https://localhost:8080/"
        },
        "id": "_eLCDhPDUQCw",
        "outputId": "b564c2c7-1448-4e6b-9994-b36face3e8e7"
      },
      "outputs": [
        {
          "output_type": "execute_result",
          "data": {
            "text/plain": [
              "Cluster  Genre       \n",
              "0        Action          3283\n",
              "         Sports          2256\n",
              "         Misc            1724\n",
              "         Role-Playing    1465\n",
              "         Adventure       1458\n",
              "         Shooter         1202\n",
              "         Racing          1195\n",
              "         Simulation       882\n",
              "         Fighting         803\n",
              "         Platform         792\n",
              "         Strategy         718\n",
              "         Puzzle           589\n",
              "1        Misc               2\n",
              "         Platform           2\n",
              "         Sports             2\n",
              "         Puzzle             1\n",
              "         Racing             1\n",
              "         Shooter            1\n",
              "2        Action           211\n",
              "         Sports           147\n",
              "         Shooter          129\n",
              "         Platform          93\n",
              "         Misc              82\n",
              "         Racing            79\n",
              "         Role-Playing      69\n",
              "         Fighting          59\n",
              "         Simulation        41\n",
              "         Puzzle            23\n",
              "         Adventure         19\n",
              "         Strategy          16\n",
              "3        Shooter           17\n",
              "         Platform          12\n",
              "         Role-Playing      11\n",
              "         Action             9\n",
              "         Racing             7\n",
              "         Misc               5\n",
              "         Puzzle             2\n",
              "         Simulation         2\n",
              "         Sports             2\n",
              "         Adventure          1\n",
              "         Fighting           1\n",
              "Name: Genre, dtype: int64"
            ]
          },
          "metadata": {},
          "execution_count": 69
        }
      ],
      "source": [
        "separate_groups = clustered_df.groupby('Cluster',  axis=0)\n",
        "\n",
        "frequency = separate_groups['Genre'].value_counts()\n",
        "frequency"
      ],
      "id": "_eLCDhPDUQCw"
    },
    {
      "cell_type": "code",
      "execution_count": null,
      "metadata": {
        "id": "obsahkQvUX-0",
        "colab": {
          "base_uri": "https://localhost:8080/",
          "height": 175
        },
        "outputId": "a5226b52-00f1-4233-9bc6-6d9b7b5285cf"
      },
      "outputs": [
        {
          "output_type": "execute_result",
          "data": {
            "text/plain": [
              "Genre      Action  Sports    Misc  Role-Playing  Adventure  Shooter  Racing  \\\n",
              "Cluster 0  3283.0  2256.0  1724.0        1465.0     1458.0   1202.0  1195.0   \n",
              "Cluster 1     0.0     2.0     2.0           0.0        0.0      1.0     1.0   \n",
              "Cluster 2   211.0   147.0    82.0          69.0       19.0    129.0    79.0   \n",
              "Cluster 3     9.0     2.0     5.0          11.0        1.0     17.0     7.0   \n",
              "\n",
              "Genre      Simulation  Fighting  Platform  Strategy  Puzzle  \n",
              "Cluster 0       882.0     803.0     792.0     718.0   589.0  \n",
              "Cluster 1         0.0       0.0       2.0       0.0     1.0  \n",
              "Cluster 2        41.0      59.0      93.0      16.0    23.0  \n",
              "Cluster 3         2.0       1.0      12.0       0.0     2.0  "
            ],
            "text/html": [
              "\n",
              "  <div id=\"df-d5b34643-704a-4e34-9e8a-56e6f7ecc56c\">\n",
              "    <div class=\"colab-df-container\">\n",
              "      <div>\n",
              "<style scoped>\n",
              "    .dataframe tbody tr th:only-of-type {\n",
              "        vertical-align: middle;\n",
              "    }\n",
              "\n",
              "    .dataframe tbody tr th {\n",
              "        vertical-align: top;\n",
              "    }\n",
              "\n",
              "    .dataframe thead th {\n",
              "        text-align: right;\n",
              "    }\n",
              "</style>\n",
              "<table border=\"1\" class=\"dataframe\">\n",
              "  <thead>\n",
              "    <tr style=\"text-align: right;\">\n",
              "      <th>Genre</th>\n",
              "      <th>Action</th>\n",
              "      <th>Sports</th>\n",
              "      <th>Misc</th>\n",
              "      <th>Role-Playing</th>\n",
              "      <th>Adventure</th>\n",
              "      <th>Shooter</th>\n",
              "      <th>Racing</th>\n",
              "      <th>Simulation</th>\n",
              "      <th>Fighting</th>\n",
              "      <th>Platform</th>\n",
              "      <th>Strategy</th>\n",
              "      <th>Puzzle</th>\n",
              "    </tr>\n",
              "  </thead>\n",
              "  <tbody>\n",
              "    <tr>\n",
              "      <th>Cluster 0</th>\n",
              "      <td>3283.0</td>\n",
              "      <td>2256.0</td>\n",
              "      <td>1724.0</td>\n",
              "      <td>1465.0</td>\n",
              "      <td>1458.0</td>\n",
              "      <td>1202.0</td>\n",
              "      <td>1195.0</td>\n",
              "      <td>882.0</td>\n",
              "      <td>803.0</td>\n",
              "      <td>792.0</td>\n",
              "      <td>718.0</td>\n",
              "      <td>589.0</td>\n",
              "    </tr>\n",
              "    <tr>\n",
              "      <th>Cluster 1</th>\n",
              "      <td>0.0</td>\n",
              "      <td>2.0</td>\n",
              "      <td>2.0</td>\n",
              "      <td>0.0</td>\n",
              "      <td>0.0</td>\n",
              "      <td>1.0</td>\n",
              "      <td>1.0</td>\n",
              "      <td>0.0</td>\n",
              "      <td>0.0</td>\n",
              "      <td>2.0</td>\n",
              "      <td>0.0</td>\n",
              "      <td>1.0</td>\n",
              "    </tr>\n",
              "    <tr>\n",
              "      <th>Cluster 2</th>\n",
              "      <td>211.0</td>\n",
              "      <td>147.0</td>\n",
              "      <td>82.0</td>\n",
              "      <td>69.0</td>\n",
              "      <td>19.0</td>\n",
              "      <td>129.0</td>\n",
              "      <td>79.0</td>\n",
              "      <td>41.0</td>\n",
              "      <td>59.0</td>\n",
              "      <td>93.0</td>\n",
              "      <td>16.0</td>\n",
              "      <td>23.0</td>\n",
              "    </tr>\n",
              "    <tr>\n",
              "      <th>Cluster 3</th>\n",
              "      <td>9.0</td>\n",
              "      <td>2.0</td>\n",
              "      <td>5.0</td>\n",
              "      <td>11.0</td>\n",
              "      <td>1.0</td>\n",
              "      <td>17.0</td>\n",
              "      <td>7.0</td>\n",
              "      <td>2.0</td>\n",
              "      <td>1.0</td>\n",
              "      <td>12.0</td>\n",
              "      <td>0.0</td>\n",
              "      <td>2.0</td>\n",
              "    </tr>\n",
              "  </tbody>\n",
              "</table>\n",
              "</div>\n",
              "      <button class=\"colab-df-convert\" onclick=\"convertToInteractive('df-d5b34643-704a-4e34-9e8a-56e6f7ecc56c')\"\n",
              "              title=\"Convert this dataframe to an interactive table.\"\n",
              "              style=\"display:none;\">\n",
              "        \n",
              "  <svg xmlns=\"http://www.w3.org/2000/svg\" height=\"24px\"viewBox=\"0 0 24 24\"\n",
              "       width=\"24px\">\n",
              "    <path d=\"M0 0h24v24H0V0z\" fill=\"none\"/>\n",
              "    <path d=\"M18.56 5.44l.94 2.06.94-2.06 2.06-.94-2.06-.94-.94-2.06-.94 2.06-2.06.94zm-11 1L8.5 8.5l.94-2.06 2.06-.94-2.06-.94L8.5 2.5l-.94 2.06-2.06.94zm10 10l.94 2.06.94-2.06 2.06-.94-2.06-.94-.94-2.06-.94 2.06-2.06.94z\"/><path d=\"M17.41 7.96l-1.37-1.37c-.4-.4-.92-.59-1.43-.59-.52 0-1.04.2-1.43.59L10.3 9.45l-7.72 7.72c-.78.78-.78 2.05 0 2.83L4 21.41c.39.39.9.59 1.41.59.51 0 1.02-.2 1.41-.59l7.78-7.78 2.81-2.81c.8-.78.8-2.07 0-2.86zM5.41 20L4 18.59l7.72-7.72 1.47 1.35L5.41 20z\"/>\n",
              "  </svg>\n",
              "      </button>\n",
              "      \n",
              "  <style>\n",
              "    .colab-df-container {\n",
              "      display:flex;\n",
              "      flex-wrap:wrap;\n",
              "      gap: 12px;\n",
              "    }\n",
              "\n",
              "    .colab-df-convert {\n",
              "      background-color: #E8F0FE;\n",
              "      border: none;\n",
              "      border-radius: 50%;\n",
              "      cursor: pointer;\n",
              "      display: none;\n",
              "      fill: #1967D2;\n",
              "      height: 32px;\n",
              "      padding: 0 0 0 0;\n",
              "      width: 32px;\n",
              "    }\n",
              "\n",
              "    .colab-df-convert:hover {\n",
              "      background-color: #E2EBFA;\n",
              "      box-shadow: 0px 1px 2px rgba(60, 64, 67, 0.3), 0px 1px 3px 1px rgba(60, 64, 67, 0.15);\n",
              "      fill: #174EA6;\n",
              "    }\n",
              "\n",
              "    [theme=dark] .colab-df-convert {\n",
              "      background-color: #3B4455;\n",
              "      fill: #D2E3FC;\n",
              "    }\n",
              "\n",
              "    [theme=dark] .colab-df-convert:hover {\n",
              "      background-color: #434B5C;\n",
              "      box-shadow: 0px 1px 3px 1px rgba(0, 0, 0, 0.15);\n",
              "      filter: drop-shadow(0px 1px 2px rgba(0, 0, 0, 0.3));\n",
              "      fill: #FFFFFF;\n",
              "    }\n",
              "  </style>\n",
              "\n",
              "      <script>\n",
              "        const buttonEl =\n",
              "          document.querySelector('#df-d5b34643-704a-4e34-9e8a-56e6f7ecc56c button.colab-df-convert');\n",
              "        buttonEl.style.display =\n",
              "          google.colab.kernel.accessAllowed ? 'block' : 'none';\n",
              "\n",
              "        async function convertToInteractive(key) {\n",
              "          const element = document.querySelector('#df-d5b34643-704a-4e34-9e8a-56e6f7ecc56c');\n",
              "          const dataTable =\n",
              "            await google.colab.kernel.invokeFunction('convertToInteractive',\n",
              "                                                     [key], {});\n",
              "          if (!dataTable) return;\n",
              "\n",
              "          const docLinkHtml = 'Like what you see? Visit the ' +\n",
              "            '<a target=\"_blank\" href=https://colab.research.google.com/notebooks/data_table.ipynb>data table notebook</a>'\n",
              "            + ' to learn more about interactive tables.';\n",
              "          element.innerHTML = '';\n",
              "          dataTable['output_type'] = 'display_data';\n",
              "          await google.colab.output.renderOutput(dataTable, element);\n",
              "          const docLink = document.createElement('div');\n",
              "          docLink.innerHTML = docLinkHtml;\n",
              "          element.appendChild(docLink);\n",
              "        }\n",
              "      </script>\n",
              "    </div>\n",
              "  </div>\n",
              "  "
            ]
          },
          "metadata": {},
          "execution_count": 70
        }
      ],
      "source": [
        "chi_table = pd.DataFrame([frequency[0], frequency[1], frequency[2], frequency[3]], index=['Cluster 0', 'Cluster 1','Cluster 2', 'Cluster 3'])\n",
        "# replace NaN with 0\n",
        "chi_table = chi_table.replace([np.NaN], 0)                                                                     \n",
        "chi_table"
      ],
      "id": "obsahkQvUX-0"
    },
    {
      "cell_type": "code",
      "execution_count": null,
      "metadata": {
        "id": "sNe0lzbIUgo-",
        "colab": {
          "base_uri": "https://localhost:8080/"
        },
        "outputId": "8ecee34c-5371-419d-c26d-9c70ce818b14"
      },
      "outputs": [
        {
          "output_type": "execute_result",
          "data": {
            "text/plain": [
              "(251.4571319143182,\n",
              " 1.9029789725462992e-35,\n",
              " 33,\n",
              " array([[3.29257457e+03, 2.26241136e+03, 1.70409298e+03, 1.45219175e+03,\n",
              "         1.38921645e+03, 1.26796549e+03, 1.20499018e+03, 8.69435192e+02,\n",
              "         8.11159536e+02, 8.44997014e+02, 6.89908574e+02, 5.78056912e+02],\n",
              "        [1.81054385e+00, 1.24407052e+00, 9.37058519e-01, 7.98541320e-01,\n",
              "         7.63912020e-01, 6.97237696e-01, 6.62608396e-01, 4.78091081e-01,\n",
              "         4.46046058e-01, 4.64652846e-01, 3.79371734e-01, 3.17865962e-01],\n",
              "        [1.94734049e+02, 1.33806696e+02, 1.00785850e+02, 8.58875553e+01,\n",
              "         8.21629817e+01, 7.49917877e+01, 7.12672142e+01, 5.14213519e+01,\n",
              "         4.79747315e+01, 4.99759949e+01, 4.08035376e+01, 3.41882502e+01],\n",
              "        [1.38808362e+01, 9.53787400e+00, 7.18411532e+00, 6.12215012e+00,\n",
              "         5.85665882e+00, 5.34548900e+00, 5.07999770e+00, 3.66536496e+00,\n",
              "         3.41968644e+00, 3.56233848e+00, 2.90851663e+00, 2.43697238e+00]]))"
            ]
          },
          "metadata": {},
          "execution_count": 71
        }
      ],
      "source": [
        "chitest = chi2_contingency(chi_table)\n",
        "chitest"
      ],
      "id": "sNe0lzbIUgo-"
    },
    {
      "cell_type": "code",
      "execution_count": null,
      "metadata": {
        "id": "B0xX935EUHtB",
        "colab": {
          "base_uri": "https://localhost:8080/"
        },
        "outputId": "b089ccd8-76b6-4c75-d467-d24b9a989cd9"
      },
      "outputs": [
        {
          "output_type": "stream",
          "name": "stdout",
          "text": [
            "p-value: 1.9029789725462992e-35\n"
          ]
        }
      ],
      "source": [
        "print('p-value:', chitest[1])"
      ],
      "id": "B0xX935EUHtB"
    },
    {
      "cell_type": "markdown",
      "metadata": {
        "id": "3Wm9OsqvSyyS"
      },
      "source": [
        "With a significance level of 5% and a p value well below 0.05, there is strong evidence to conclude that the sales performance of a video game is dependent on its genre, using the clusters the video games belong to as a measure of sales performance."
      ],
      "id": "3Wm9OsqvSyyS"
    },
    {
      "cell_type": "markdown",
      "metadata": {
        "id": "L-xkSp3cVKRX"
      },
      "source": [
        "##  Test of independence: Platform"
      ],
      "id": "L-xkSp3cVKRX"
    },
    {
      "cell_type": "markdown",
      "source": [
        "Test of Independence\n",
        "\n",
        "Hypotheses:\n",
        "\n",
        "$H_0$ (null hypothesis): The sales performance of a video game is not dependent on its platform.\n",
        "\n",
        "$H_A$ (alternative hypothesis):  The sales performance of a video game is dependent on its platform."
      ],
      "metadata": {
        "id": "rjSu2YzNaKqX"
      },
      "id": "rjSu2YzNaKqX"
    },
    {
      "cell_type": "code",
      "execution_count": null,
      "metadata": {
        "id": "7lLF0RxSWOe5",
        "colab": {
          "base_uri": "https://localhost:8080/"
        },
        "outputId": "94eea0b6-2b9b-42ce-edee-d0569e99024c"
      },
      "outputs": [
        {
          "output_type": "execute_result",
          "data": {
            "text/plain": [
              "Cluster  Platform\n",
              "0        DS          2187\n",
              "         PS2         2032\n",
              "         PSP         1290\n",
              "         Wii         1269\n",
              "         PS3         1249\n",
              "                     ... \n",
              "3        NES            2\n",
              "         PS             2\n",
              "         PS4            2\n",
              "         2600           1\n",
              "         X              1\n",
              "Name: Platform, Length: 72, dtype: int64"
            ]
          },
          "metadata": {},
          "execution_count": 73
        }
      ],
      "source": [
        "separate_groups = clustered_df.groupby('Cluster',  axis=0)\n",
        "\n",
        "frequency = separate_groups['Platform'].value_counts()\n",
        "frequency"
      ],
      "id": "7lLF0RxSWOe5"
    },
    {
      "cell_type": "code",
      "source": [
        "chi_table = pd.DataFrame([frequency[0], frequency[1], frequency[2], frequency[3]], index=['Cluster 0', 'Cluster 1','Cluster 2', 'Cluster 3'])\n",
        "chi_table = chi_table.replace([np.NaN], 0)                                                                     \n",
        "chi_table                                                             "
      ],
      "metadata": {
        "id": "5Yv26VecaVg9",
        "colab": {
          "base_uri": "https://localhost:8080/",
          "height": 204
        },
        "outputId": "67497030-a4ea-4639-bcad-714e79592fc6"
      },
      "id": "5Yv26VecaVg9",
      "execution_count": null,
      "outputs": [
        {
          "output_type": "execute_result",
          "data": {
            "text/plain": [
              "Platform       DS     PS2     PSP     Wii     PS3    X360      PS      PC  \\\n",
              "Cluster 0  2187.0  2032.0  1290.0  1269.0  1249.0  1154.0  1102.0  1088.0   \n",
              "Cluster 1     0.0     0.0     0.0     5.0     0.0     1.0     0.0     0.0   \n",
              "Cluster 2    53.0   170.0    14.0    79.0   103.0   129.0    96.0    40.0   \n",
              "Cluster 3    11.0     4.0     0.0     6.0     8.0    13.0     2.0     0.0   \n",
              "\n",
              "Platform       X    GBA  ...     G    DC   GEN    NG   WS  SCD  3DO  TG16  \\\n",
              "Cluster 0  810.0  809.0  ...  72.0  50.0  20.0  12.0  7.0  6.0  3.0   2.0   \n",
              "Cluster 1    0.0    0.0  ...   1.0   0.0   0.0   0.0  0.0  0.0  0.0   0.0   \n",
              "Cluster 2   22.0   33.0  ...  20.0   2.0   7.0   0.0  0.0  0.0  0.0   0.0   \n",
              "Cluster 3    1.0    2.0  ...   5.0   0.0   0.0   0.0  0.0  0.0  0.0   0.0   \n",
              "\n",
              "Platform    GG  PCFX  \n",
              "Cluster 0  1.0   1.0  \n",
              "Cluster 1  0.0   0.0  \n",
              "Cluster 2  0.0   0.0  \n",
              "Cluster 3  0.0   0.0  \n",
              "\n",
              "[4 rows x 31 columns]"
            ],
            "text/html": [
              "\n",
              "  <div id=\"df-29e37ac9-3c83-4fba-9009-084d312b865d\">\n",
              "    <div class=\"colab-df-container\">\n",
              "      <div>\n",
              "<style scoped>\n",
              "    .dataframe tbody tr th:only-of-type {\n",
              "        vertical-align: middle;\n",
              "    }\n",
              "\n",
              "    .dataframe tbody tr th {\n",
              "        vertical-align: top;\n",
              "    }\n",
              "\n",
              "    .dataframe thead th {\n",
              "        text-align: right;\n",
              "    }\n",
              "</style>\n",
              "<table border=\"1\" class=\"dataframe\">\n",
              "  <thead>\n",
              "    <tr style=\"text-align: right;\">\n",
              "      <th>Platform</th>\n",
              "      <th>DS</th>\n",
              "      <th>PS2</th>\n",
              "      <th>PSP</th>\n",
              "      <th>Wii</th>\n",
              "      <th>PS3</th>\n",
              "      <th>X360</th>\n",
              "      <th>PS</th>\n",
              "      <th>PC</th>\n",
              "      <th>X</th>\n",
              "      <th>GBA</th>\n",
              "      <th>...</th>\n",
              "      <th>G</th>\n",
              "      <th>DC</th>\n",
              "      <th>GEN</th>\n",
              "      <th>NG</th>\n",
              "      <th>WS</th>\n",
              "      <th>SCD</th>\n",
              "      <th>3DO</th>\n",
              "      <th>TG16</th>\n",
              "      <th>GG</th>\n",
              "      <th>PCFX</th>\n",
              "    </tr>\n",
              "  </thead>\n",
              "  <tbody>\n",
              "    <tr>\n",
              "      <th>Cluster 0</th>\n",
              "      <td>2187.0</td>\n",
              "      <td>2032.0</td>\n",
              "      <td>1290.0</td>\n",
              "      <td>1269.0</td>\n",
              "      <td>1249.0</td>\n",
              "      <td>1154.0</td>\n",
              "      <td>1102.0</td>\n",
              "      <td>1088.0</td>\n",
              "      <td>810.0</td>\n",
              "      <td>809.0</td>\n",
              "      <td>...</td>\n",
              "      <td>72.0</td>\n",
              "      <td>50.0</td>\n",
              "      <td>20.0</td>\n",
              "      <td>12.0</td>\n",
              "      <td>7.0</td>\n",
              "      <td>6.0</td>\n",
              "      <td>3.0</td>\n",
              "      <td>2.0</td>\n",
              "      <td>1.0</td>\n",
              "      <td>1.0</td>\n",
              "    </tr>\n",
              "    <tr>\n",
              "      <th>Cluster 1</th>\n",
              "      <td>0.0</td>\n",
              "      <td>0.0</td>\n",
              "      <td>0.0</td>\n",
              "      <td>5.0</td>\n",
              "      <td>0.0</td>\n",
              "      <td>1.0</td>\n",
              "      <td>0.0</td>\n",
              "      <td>0.0</td>\n",
              "      <td>0.0</td>\n",
              "      <td>0.0</td>\n",
              "      <td>...</td>\n",
              "      <td>1.0</td>\n",
              "      <td>0.0</td>\n",
              "      <td>0.0</td>\n",
              "      <td>0.0</td>\n",
              "      <td>0.0</td>\n",
              "      <td>0.0</td>\n",
              "      <td>0.0</td>\n",
              "      <td>0.0</td>\n",
              "      <td>0.0</td>\n",
              "      <td>0.0</td>\n",
              "    </tr>\n",
              "    <tr>\n",
              "      <th>Cluster 2</th>\n",
              "      <td>53.0</td>\n",
              "      <td>170.0</td>\n",
              "      <td>14.0</td>\n",
              "      <td>79.0</td>\n",
              "      <td>103.0</td>\n",
              "      <td>129.0</td>\n",
              "      <td>96.0</td>\n",
              "      <td>40.0</td>\n",
              "      <td>22.0</td>\n",
              "      <td>33.0</td>\n",
              "      <td>...</td>\n",
              "      <td>20.0</td>\n",
              "      <td>2.0</td>\n",
              "      <td>7.0</td>\n",
              "      <td>0.0</td>\n",
              "      <td>0.0</td>\n",
              "      <td>0.0</td>\n",
              "      <td>0.0</td>\n",
              "      <td>0.0</td>\n",
              "      <td>0.0</td>\n",
              "      <td>0.0</td>\n",
              "    </tr>\n",
              "    <tr>\n",
              "      <th>Cluster 3</th>\n",
              "      <td>11.0</td>\n",
              "      <td>4.0</td>\n",
              "      <td>0.0</td>\n",
              "      <td>6.0</td>\n",
              "      <td>8.0</td>\n",
              "      <td>13.0</td>\n",
              "      <td>2.0</td>\n",
              "      <td>0.0</td>\n",
              "      <td>1.0</td>\n",
              "      <td>2.0</td>\n",
              "      <td>...</td>\n",
              "      <td>5.0</td>\n",
              "      <td>0.0</td>\n",
              "      <td>0.0</td>\n",
              "      <td>0.0</td>\n",
              "      <td>0.0</td>\n",
              "      <td>0.0</td>\n",
              "      <td>0.0</td>\n",
              "      <td>0.0</td>\n",
              "      <td>0.0</td>\n",
              "      <td>0.0</td>\n",
              "    </tr>\n",
              "  </tbody>\n",
              "</table>\n",
              "<p>4 rows × 31 columns</p>\n",
              "</div>\n",
              "      <button class=\"colab-df-convert\" onclick=\"convertToInteractive('df-29e37ac9-3c83-4fba-9009-084d312b865d')\"\n",
              "              title=\"Convert this dataframe to an interactive table.\"\n",
              "              style=\"display:none;\">\n",
              "        \n",
              "  <svg xmlns=\"http://www.w3.org/2000/svg\" height=\"24px\"viewBox=\"0 0 24 24\"\n",
              "       width=\"24px\">\n",
              "    <path d=\"M0 0h24v24H0V0z\" fill=\"none\"/>\n",
              "    <path d=\"M18.56 5.44l.94 2.06.94-2.06 2.06-.94-2.06-.94-.94-2.06-.94 2.06-2.06.94zm-11 1L8.5 8.5l.94-2.06 2.06-.94-2.06-.94L8.5 2.5l-.94 2.06-2.06.94zm10 10l.94 2.06.94-2.06 2.06-.94-2.06-.94-.94-2.06-.94 2.06-2.06.94z\"/><path d=\"M17.41 7.96l-1.37-1.37c-.4-.4-.92-.59-1.43-.59-.52 0-1.04.2-1.43.59L10.3 9.45l-7.72 7.72c-.78.78-.78 2.05 0 2.83L4 21.41c.39.39.9.59 1.41.59.51 0 1.02-.2 1.41-.59l7.78-7.78 2.81-2.81c.8-.78.8-2.07 0-2.86zM5.41 20L4 18.59l7.72-7.72 1.47 1.35L5.41 20z\"/>\n",
              "  </svg>\n",
              "      </button>\n",
              "      \n",
              "  <style>\n",
              "    .colab-df-container {\n",
              "      display:flex;\n",
              "      flex-wrap:wrap;\n",
              "      gap: 12px;\n",
              "    }\n",
              "\n",
              "    .colab-df-convert {\n",
              "      background-color: #E8F0FE;\n",
              "      border: none;\n",
              "      border-radius: 50%;\n",
              "      cursor: pointer;\n",
              "      display: none;\n",
              "      fill: #1967D2;\n",
              "      height: 32px;\n",
              "      padding: 0 0 0 0;\n",
              "      width: 32px;\n",
              "    }\n",
              "\n",
              "    .colab-df-convert:hover {\n",
              "      background-color: #E2EBFA;\n",
              "      box-shadow: 0px 1px 2px rgba(60, 64, 67, 0.3), 0px 1px 3px 1px rgba(60, 64, 67, 0.15);\n",
              "      fill: #174EA6;\n",
              "    }\n",
              "\n",
              "    [theme=dark] .colab-df-convert {\n",
              "      background-color: #3B4455;\n",
              "      fill: #D2E3FC;\n",
              "    }\n",
              "\n",
              "    [theme=dark] .colab-df-convert:hover {\n",
              "      background-color: #434B5C;\n",
              "      box-shadow: 0px 1px 3px 1px rgba(0, 0, 0, 0.15);\n",
              "      filter: drop-shadow(0px 1px 2px rgba(0, 0, 0, 0.3));\n",
              "      fill: #FFFFFF;\n",
              "    }\n",
              "  </style>\n",
              "\n",
              "      <script>\n",
              "        const buttonEl =\n",
              "          document.querySelector('#df-29e37ac9-3c83-4fba-9009-084d312b865d button.colab-df-convert');\n",
              "        buttonEl.style.display =\n",
              "          google.colab.kernel.accessAllowed ? 'block' : 'none';\n",
              "\n",
              "        async function convertToInteractive(key) {\n",
              "          const element = document.querySelector('#df-29e37ac9-3c83-4fba-9009-084d312b865d');\n",
              "          const dataTable =\n",
              "            await google.colab.kernel.invokeFunction('convertToInteractive',\n",
              "                                                     [key], {});\n",
              "          if (!dataTable) return;\n",
              "\n",
              "          const docLinkHtml = 'Like what you see? Visit the ' +\n",
              "            '<a target=\"_blank\" href=https://colab.research.google.com/notebooks/data_table.ipynb>data table notebook</a>'\n",
              "            + ' to learn more about interactive tables.';\n",
              "          element.innerHTML = '';\n",
              "          dataTable['output_type'] = 'display_data';\n",
              "          await google.colab.output.renderOutput(dataTable, element);\n",
              "          const docLink = document.createElement('div');\n",
              "          docLink.innerHTML = docLinkHtml;\n",
              "          element.appendChild(docLink);\n",
              "        }\n",
              "      </script>\n",
              "    </div>\n",
              "  </div>\n",
              "  "
            ]
          },
          "metadata": {},
          "execution_count": 74
        }
      ]
    },
    {
      "cell_type": "code",
      "source": [
        "chitest = chi2_contingency(chi_table)\n",
        "chitest"
      ],
      "metadata": {
        "id": "No_sxlpbasRx",
        "colab": {
          "base_uri": "https://localhost:8080/"
        },
        "outputId": "f66f7206-fbc7-4e43-9708-e0e3705da4a0"
      },
      "id": "No_sxlpbasRx",
      "execution_count": null,
      "outputs": [
        {
          "output_type": "execute_result",
          "data": {
            "text/plain": [
              "(663.0080065848814,\n",
              " 3.6996708792229516e-88,\n",
              " 90,\n",
              " array([[2.11578229e+03, 2.07348544e+03, 1.22566864e+03, 1.27736478e+03,\n",
              "         1.27830471e+03, 1.21908913e+03, 1.12791592e+03, 1.06024097e+03,\n",
              "         7.82961638e+02, 7.93300867e+02, 5.29180555e+02, 5.19781255e+02,\n",
              "         4.72784759e+02, 3.98530293e+02, 2.99837650e+02, 2.48141503e+02,\n",
              "         2.24643255e+02, 1.62607879e+02, 1.43809280e+02, 1.25010682e+02,\n",
              "         9.21131339e+01, 9.21131339e+01, 4.88763567e+01, 2.53781083e+01,\n",
              "         1.12791592e+01, 6.57950956e+00, 5.63957962e+00, 2.81978981e+00,\n",
              "         1.87985987e+00, 9.39929937e-01, 9.39929937e-01],\n",
              "        [1.16344111e+00, 1.14018262e+00, 6.73979211e-01, 7.02406248e-01,\n",
              "         7.02923103e-01, 6.70361224e-01, 6.20226268e-01, 5.83012692e-01,\n",
              "         4.30540401e-01, 4.36225808e-01, 2.90989491e-01, 2.85820938e-01,\n",
              "         2.59978177e-01, 2.19146615e-01, 1.64876816e-01, 1.36449779e-01,\n",
              "         1.23528398e-01, 8.94159536e-02, 7.90788491e-02, 6.87417447e-02,\n",
              "         5.06518119e-02, 5.06518119e-02, 2.68764716e-02, 1.39550910e-02,\n",
              "         6.20226268e-03, 3.61798656e-03, 3.10113134e-03, 1.55056567e-03,\n",
              "         1.03371045e-03, 5.16855223e-04, 5.16855223e-04],\n",
              "        [1.25134555e+02, 1.22632975e+02, 7.24902085e+01, 7.55476943e+01,\n",
              "         7.56032849e+01, 7.21010739e+01, 6.67087808e+01, 6.27062539e+01,\n",
              "         4.63070120e+01, 4.69185092e+01, 3.12975363e+01, 3.07416298e+01,\n",
              "         2.79620973e+01, 2.35704359e+01, 1.77334176e+01, 1.46759318e+01,\n",
              "         1.32861655e+01, 9.61718256e+00, 8.50536955e+00, 7.39355654e+00,\n",
              "         5.44788377e+00, 5.44788377e+00, 2.89071383e+00, 1.50094757e+00,\n",
              "         6.67087808e-01, 3.89134555e-01, 3.33543904e-01, 1.66771952e-01,\n",
              "         1.11181301e-01, 5.55906507e-02, 5.55906507e-02],\n",
              "        [8.91971516e+00, 8.74140010e+00, 5.16717395e+00, 5.38511457e+00,\n",
              "         5.38907713e+00, 5.13943605e+00, 4.75506805e+00, 4.46976397e+00,\n",
              "         3.30080974e+00, 3.34439786e+00, 2.23091943e+00, 2.19129386e+00,\n",
              "         1.99316603e+00, 1.68012405e+00, 1.26405559e+00, 1.04611497e+00,\n",
              "         9.47051054e-01, 6.85522311e-01, 6.06271177e-01, 5.27020042e-01,\n",
              "         3.88330558e-01, 3.88330558e-01, 2.06052949e-01, 1.06989031e-01,\n",
              "         4.75506805e-02, 2.77378970e-02, 2.37753403e-02, 1.18876701e-02,\n",
              "         7.92511342e-03, 3.96255671e-03, 3.96255671e-03]]))"
            ]
          },
          "metadata": {},
          "execution_count": 75
        }
      ]
    },
    {
      "cell_type": "code",
      "source": [
        "print('p-value:', chitest[1])"
      ],
      "metadata": {
        "id": "SSk26TwzaupT",
        "colab": {
          "base_uri": "https://localhost:8080/"
        },
        "outputId": "532d174e-3daf-4f7c-a1d4-c15f64481fda"
      },
      "id": "SSk26TwzaupT",
      "execution_count": null,
      "outputs": [
        {
          "output_type": "stream",
          "name": "stdout",
          "text": [
            "p-value: 3.6996708792229516e-88\n"
          ]
        }
      ]
    },
    {
      "cell_type": "markdown",
      "source": [
        "With a significance level of 5% and a p value well below 0.05, there is strong evidence to conclude that the sales performance of a video game is dependent on the platform its available on, using the clusters the video games belong to as a measure of sales performance."
      ],
      "metadata": {
        "id": "eTEJFc2zbb07"
      },
      "id": "eTEJFc2zbb07"
    },
    {
      "cell_type": "markdown",
      "source": [
        "##  Test of independence: Year of Release"
      ],
      "metadata": {
        "id": "KRbZS9_Ib5Cb"
      },
      "id": "KRbZS9_Ib5Cb"
    },
    {
      "cell_type": "markdown",
      "source": [
        "Test of Independence\n",
        "\n",
        "Hypotheses:\n",
        "\n",
        "$H_0$ (null hypothesis): The sales performance of a video game is not dependent on its year of release.\n",
        "\n",
        "$H_A$ (alternative hypothesis):  The sales performance of a video game is dependent on its year of release."
      ],
      "metadata": {
        "id": "s8UsMA2tc4Js"
      },
      "id": "s8UsMA2tc4Js"
    },
    {
      "cell_type": "code",
      "source": [
        "separate_groups = clustered_df.groupby('Cluster',  axis=0)\n",
        "\n",
        "frequency = separate_groups['Year_of_Release'].value_counts()\n",
        "frequency"
      ],
      "metadata": {
        "id": "nDtuX74Vb-fG",
        "colab": {
          "base_uri": "https://localhost:8080/"
        },
        "outputId": "3dfcb565-38ab-4910-eeea-7d8fd0ed1f23"
      },
      "id": "nDtuX74Vb-fG",
      "execution_count": null,
      "outputs": [
        {
          "output_type": "execute_result",
          "data": {
            "text/plain": [
              "Cluster  Year_of_Release\n",
              "0        2000-2009          9140\n",
              "         2010-2019          5426\n",
              "         1990-1999          1617\n",
              "         1980-1989           176\n",
              "         1970-1979             8\n",
              "1        2000-2009             5\n",
              "         1980-1989             3\n",
              "         2010-2019             1\n",
              "2        2000-2009           510\n",
              "         2010-2019           274\n",
              "         1990-1999           154\n",
              "         1980-1989            29\n",
              "         1970-1979             1\n",
              "3        2000-2009            27\n",
              "         2010-2019            26\n",
              "         1990-1999            12\n",
              "         1980-1989             4\n",
              "Name: Year_of_Release, dtype: int64"
            ]
          },
          "metadata": {},
          "execution_count": 77
        }
      ]
    },
    {
      "cell_type": "code",
      "source": [
        "chi_table = pd.DataFrame([frequency[0], frequency[1], frequency[2], frequency[3]], index=['Cluster 0', 'Cluster 1','Cluster 2', 'Cluster 3'])\n",
        "chi_table = chi_table.replace([np.NaN], 0)                                                                     \n",
        "chi_table                                                             "
      ],
      "metadata": {
        "id": "Dqmbq0CEc7f9",
        "colab": {
          "base_uri": "https://localhost:8080/",
          "height": 175
        },
        "outputId": "e1dee9e1-d140-417a-a1bf-3bd012f39a9c"
      },
      "id": "Dqmbq0CEc7f9",
      "execution_count": null,
      "outputs": [
        {
          "output_type": "execute_result",
          "data": {
            "text/plain": [
              "Year_of_Release  2000-2009  2010-2019  1990-1999  1980-1989  1970-1979\n",
              "Cluster 0           9140.0     5426.0     1617.0      176.0        8.0\n",
              "Cluster 1              5.0        1.0        0.0        3.0        0.0\n",
              "Cluster 2            510.0      274.0      154.0       29.0        1.0\n",
              "Cluster 3             27.0       26.0       12.0        4.0        0.0"
            ],
            "text/html": [
              "\n",
              "  <div id=\"df-8c8975c1-a174-48fa-b14f-2f4d404380d8\">\n",
              "    <div class=\"colab-df-container\">\n",
              "      <div>\n",
              "<style scoped>\n",
              "    .dataframe tbody tr th:only-of-type {\n",
              "        vertical-align: middle;\n",
              "    }\n",
              "\n",
              "    .dataframe tbody tr th {\n",
              "        vertical-align: top;\n",
              "    }\n",
              "\n",
              "    .dataframe thead th {\n",
              "        text-align: right;\n",
              "    }\n",
              "</style>\n",
              "<table border=\"1\" class=\"dataframe\">\n",
              "  <thead>\n",
              "    <tr style=\"text-align: right;\">\n",
              "      <th>Year_of_Release</th>\n",
              "      <th>2000-2009</th>\n",
              "      <th>2010-2019</th>\n",
              "      <th>1990-1999</th>\n",
              "      <th>1980-1989</th>\n",
              "      <th>1970-1979</th>\n",
              "    </tr>\n",
              "  </thead>\n",
              "  <tbody>\n",
              "    <tr>\n",
              "      <th>Cluster 0</th>\n",
              "      <td>9140.0</td>\n",
              "      <td>5426.0</td>\n",
              "      <td>1617.0</td>\n",
              "      <td>176.0</td>\n",
              "      <td>8.0</td>\n",
              "    </tr>\n",
              "    <tr>\n",
              "      <th>Cluster 1</th>\n",
              "      <td>5.0</td>\n",
              "      <td>1.0</td>\n",
              "      <td>0.0</td>\n",
              "      <td>3.0</td>\n",
              "      <td>0.0</td>\n",
              "    </tr>\n",
              "    <tr>\n",
              "      <th>Cluster 2</th>\n",
              "      <td>510.0</td>\n",
              "      <td>274.0</td>\n",
              "      <td>154.0</td>\n",
              "      <td>29.0</td>\n",
              "      <td>1.0</td>\n",
              "    </tr>\n",
              "    <tr>\n",
              "      <th>Cluster 3</th>\n",
              "      <td>27.0</td>\n",
              "      <td>26.0</td>\n",
              "      <td>12.0</td>\n",
              "      <td>4.0</td>\n",
              "      <td>0.0</td>\n",
              "    </tr>\n",
              "  </tbody>\n",
              "</table>\n",
              "</div>\n",
              "      <button class=\"colab-df-convert\" onclick=\"convertToInteractive('df-8c8975c1-a174-48fa-b14f-2f4d404380d8')\"\n",
              "              title=\"Convert this dataframe to an interactive table.\"\n",
              "              style=\"display:none;\">\n",
              "        \n",
              "  <svg xmlns=\"http://www.w3.org/2000/svg\" height=\"24px\"viewBox=\"0 0 24 24\"\n",
              "       width=\"24px\">\n",
              "    <path d=\"M0 0h24v24H0V0z\" fill=\"none\"/>\n",
              "    <path d=\"M18.56 5.44l.94 2.06.94-2.06 2.06-.94-2.06-.94-.94-2.06-.94 2.06-2.06.94zm-11 1L8.5 8.5l.94-2.06 2.06-.94-2.06-.94L8.5 2.5l-.94 2.06-2.06.94zm10 10l.94 2.06.94-2.06 2.06-.94-2.06-.94-.94-2.06-.94 2.06-2.06.94z\"/><path d=\"M17.41 7.96l-1.37-1.37c-.4-.4-.92-.59-1.43-.59-.52 0-1.04.2-1.43.59L10.3 9.45l-7.72 7.72c-.78.78-.78 2.05 0 2.83L4 21.41c.39.39.9.59 1.41.59.51 0 1.02-.2 1.41-.59l7.78-7.78 2.81-2.81c.8-.78.8-2.07 0-2.86zM5.41 20L4 18.59l7.72-7.72 1.47 1.35L5.41 20z\"/>\n",
              "  </svg>\n",
              "      </button>\n",
              "      \n",
              "  <style>\n",
              "    .colab-df-container {\n",
              "      display:flex;\n",
              "      flex-wrap:wrap;\n",
              "      gap: 12px;\n",
              "    }\n",
              "\n",
              "    .colab-df-convert {\n",
              "      background-color: #E8F0FE;\n",
              "      border: none;\n",
              "      border-radius: 50%;\n",
              "      cursor: pointer;\n",
              "      display: none;\n",
              "      fill: #1967D2;\n",
              "      height: 32px;\n",
              "      padding: 0 0 0 0;\n",
              "      width: 32px;\n",
              "    }\n",
              "\n",
              "    .colab-df-convert:hover {\n",
              "      background-color: #E2EBFA;\n",
              "      box-shadow: 0px 1px 2px rgba(60, 64, 67, 0.3), 0px 1px 3px 1px rgba(60, 64, 67, 0.15);\n",
              "      fill: #174EA6;\n",
              "    }\n",
              "\n",
              "    [theme=dark] .colab-df-convert {\n",
              "      background-color: #3B4455;\n",
              "      fill: #D2E3FC;\n",
              "    }\n",
              "\n",
              "    [theme=dark] .colab-df-convert:hover {\n",
              "      background-color: #434B5C;\n",
              "      box-shadow: 0px 1px 3px 1px rgba(0, 0, 0, 0.15);\n",
              "      filter: drop-shadow(0px 1px 2px rgba(0, 0, 0, 0.3));\n",
              "      fill: #FFFFFF;\n",
              "    }\n",
              "  </style>\n",
              "\n",
              "      <script>\n",
              "        const buttonEl =\n",
              "          document.querySelector('#df-8c8975c1-a174-48fa-b14f-2f4d404380d8 button.colab-df-convert');\n",
              "        buttonEl.style.display =\n",
              "          google.colab.kernel.accessAllowed ? 'block' : 'none';\n",
              "\n",
              "        async function convertToInteractive(key) {\n",
              "          const element = document.querySelector('#df-8c8975c1-a174-48fa-b14f-2f4d404380d8');\n",
              "          const dataTable =\n",
              "            await google.colab.kernel.invokeFunction('convertToInteractive',\n",
              "                                                     [key], {});\n",
              "          if (!dataTable) return;\n",
              "\n",
              "          const docLinkHtml = 'Like what you see? Visit the ' +\n",
              "            '<a target=\"_blank\" href=https://colab.research.google.com/notebooks/data_table.ipynb>data table notebook</a>'\n",
              "            + ' to learn more about interactive tables.';\n",
              "          element.innerHTML = '';\n",
              "          dataTable['output_type'] = 'display_data';\n",
              "          await google.colab.output.renderOutput(dataTable, element);\n",
              "          const docLink = document.createElement('div');\n",
              "          docLink.innerHTML = docLinkHtml;\n",
              "          element.appendChild(docLink);\n",
              "        }\n",
              "      </script>\n",
              "    </div>\n",
              "  </div>\n",
              "  "
            ]
          },
          "metadata": {},
          "execution_count": 78
        }
      ]
    },
    {
      "cell_type": "code",
      "source": [
        "chitest = chi2_contingency(chi_table)\n",
        "chitest"
      ],
      "metadata": {
        "id": "ND-tUCSye4tw",
        "colab": {
          "base_uri": "https://localhost:8080/"
        },
        "outputId": "11a88194-5465-4376-aab6-eeb847c6e039"
      },
      "id": "ND-tUCSye4tw",
      "execution_count": null,
      "outputs": [
        {
          "output_type": "execute_result",
          "data": {
            "text/plain": [
              "(166.71150411170936,\n",
              " 2.2442634495979343e-29,\n",
              " 12,\n",
              " array([[9.10040165e+03, 5.38297875e+03, 1.67589508e+03, 1.99265147e+02,\n",
              "         8.45936944e+00],\n",
              "        [5.00419227e+00, 2.96002986e+00, 9.21552863e-01, 1.09573307e-01,\n",
              "         4.65169701e-03],\n",
              "        [5.38228680e+02, 3.18367656e+02, 9.91181301e+01, 1.17852179e+01,\n",
              "         5.00315856e-01],\n",
              "        [3.83654741e+01, 2.26935623e+01, 7.06523861e+00, 8.40062023e-01,\n",
              "         3.56630104e-02]]))"
            ]
          },
          "metadata": {},
          "execution_count": 79
        }
      ]
    },
    {
      "cell_type": "code",
      "source": [
        "print('p-value:', chitest[1])"
      ],
      "metadata": {
        "id": "__Q49gXYe6yG",
        "colab": {
          "base_uri": "https://localhost:8080/"
        },
        "outputId": "43fbc492-a409-421b-bbcf-a3907d5316bd"
      },
      "id": "__Q49gXYe6yG",
      "execution_count": null,
      "outputs": [
        {
          "output_type": "stream",
          "name": "stdout",
          "text": [
            "p-value: 2.2442634495979343e-29\n"
          ]
        }
      ]
    },
    {
      "cell_type": "markdown",
      "source": [
        "With a significance level of 5% and a p value well below 0.05, there is strong evidence to conclude that the sales performance of a video game is dependent on its decade of release, using the clusters the video games belong to as a measure of sales performance."
      ],
      "metadata": {
        "id": "PYrMQ5t8fgHZ"
      },
      "id": "PYrMQ5t8fgHZ"
    },
    {
      "cell_type": "markdown",
      "source": [
        "Since there are too many values for `Publisher`, there will be lot of 0 values in each cluster. Thus, we cannot perform the chi-square test on it."
      ],
      "metadata": {
        "id": "JuP99K5D1o1x"
      },
      "id": "JuP99K5D1o1x"
    },
    {
      "cell_type": "markdown",
      "source": [
        "# VII. Insights and Conclusions"
      ],
      "metadata": {
        "id": "rZQagt4AprY4"
      },
      "id": "rZQagt4AprY4"
    },
    {
      "cell_type": "markdown",
      "source": [
        "Through K-means clustering the regional sales variables,  it was found through the elbow method that the optimal number of clusters to use when using the regional sales variables is 4. Upon inspecting the data points of each cluster set there was a \n",
        "clear trend: the dataset was clustered based on its sales performance across all regions. Thus, we are able to build a sales profile from the data.\n",
        "- `Cluster 0` had games with the lowest performing sales which made it have the most data points\n",
        "- `Cluster 1` had games that reached highest numbers across all the games in the dataset which made it have the least amount of data points\n",
        "- `Cluster 2` had games that reached generally decent numbers.\n",
        "- `Cluster 3` had games with generally high performing sales but these games did not reach the heights `Cluster 1` games had reached.\n",
        "<br><br>\n",
        "The platforms that have the lowest sales belong to the `DS`, `PS2` and `PSP`, with the first two having the highest amount of games. The prominent platforms in the middle and high sales clusters are `X360` and `PS3`.\n",
        "<br><br>\n",
        "The video games with the highest sales in terms of genre across all regions are `Shooter`, `Plaform`, and `Role-Playing`. Despite their high overall sales, most of the `Action`, `Sports`, and `Misc` genres were on `Cluster 0`. Thus, we can attribute their high sales to their high frequency count.\n",
        "<br><br>\n",
        "Out of all the top Publishers, `Nintendo` publishes the highest performing games. Meanwhile, `Electronic Arts`, `Activision` and `Namco Bandai` have a lot of published games but they tend to only get low to middle sales.\n",
        "<br><br>\n",
        "Due to the sheer amount of games released in `2000-2009`, it dominated every cluster. However, the `2010-2019` games came a close second in the high sales cluster. This means that newer releases tend to sale better than older ones.\n",
        "<br><br>\n",
        "Chi square tests of independence were done between the `Cluster` variable that indicated a video game’s assigned cluster, and other categorical variables such as `Platform`, `Genre`,  and `Year_of_Release`. The `Cluster` variable represented a video game’s performance in sales. It was found that there is strong evidence that the performance in sales can be dependent on the aformentioned categorical variables of each video game, which provides a stronger bases for the trends found in each cluster wherein certain genres and platforms were more frequently found in certain clusters compared to others.\n",
        "<br><br>\n",
        "Through this analysis, we realized that having a game belonging to the most popular genre, publisher, or platform doesn't necessarily guarantee it having high sales. In fact, most of the top genres, publishers, and platforms only receive low sales minus a few exceptions. Nonetheless, this analysis helped us gain insight on how different genres, publishers, and platforms perform on sales across all regions."
      ],
      "metadata": {
        "id": "EHwgpGXhq8Pn"
      },
      "id": "EHwgpGXhq8Pn"
    }
  ],
  "metadata": {
    "colab": {
      "collapsed_sections": [
        "8bf6d1fe",
        "51acb59f",
        "b7d8d8a1",
        "3be8022e",
        "2312ccc6",
        "SMoqEWgkZWK4",
        "DY_aRw9HNOoQ",
        "bfJkIGydTL-n",
        "l1VnEjCSglAk",
        "aaChw48T8Cwg",
        "jrXSDwo1Fz5N"
      ],
      "provenance": []
    },
    "kernelspec": {
      "display_name": "Python 3 (ipykernel)",
      "language": "python",
      "name": "python3"
    },
    "language_info": {
      "codemirror_mode": {
        "name": "ipython",
        "version": 3
      },
      "file_extension": ".py",
      "mimetype": "text/x-python",
      "name": "python",
      "nbconvert_exporter": "python",
      "pygments_lexer": "ipython3",
      "version": "3.9.12"
    }
  },
  "nbformat": 4,
  "nbformat_minor": 5
}